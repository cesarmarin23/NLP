{
 "cells": [
  {
   "cell_type": "markdown",
   "metadata": {},
   "source": [
    "### Trabajo Práctico\n",
    "#### Procesamiento de Lenguaje Natural\n",
    "\n",
    "### Análisis de discursos del Estado de la Unión (1964-2020)\n",
    "\n",
    "##### Autor:\n",
    "César Marín"
   ]
  },
  {
   "cell_type": "markdown",
   "metadata": {},
   "source": [
    "Durante el desarrollo del presente proyecto final de asignatura se pretende analizar los diferentes discursos ofrecidos en la apertura del Estado de la Unión. Un evento decisivo en la democracia de los Estados Unidos de América en donde el presidente comunica la situación actual del país y sus propuestas legislativas para el año (Fuente: Wikipedia)\n",
    "\n",
    "En este caso se tomaron las transcripciones de los discursos desde el año 1964 hasta el 2020. Una vez aplicados procesos de limpieza y preprocesamiento de texto en general, se llevarán a cabo modelos de predicción con el objetivo de poder establecer el partido político del presidente al cual pertenece el texto.\n",
    "\n",
    "Particularmente, en el caso de los Estados Unidos de América este proceso se transforma en un problema de clasificación binaria ya que sólo existen dos grandes partidos políticos: **Demócrata** y **Republicano**\n",
    "\n",
    "__________"
   ]
  },
  {
   "cell_type": "markdown",
   "metadata": {},
   "source": [
    "Importamos todas las **librerías** necesarias para el desarrollo y resolución del problema"
   ]
  },
  {
   "cell_type": "code",
   "execution_count": 1,
   "metadata": {},
   "outputs": [],
   "source": [
    "# Pandas para limpieza de datos\n",
    "import pandas as pd\n",
    "\n",
    "# Preprocesamiento de datos\n",
    "import re\n",
    "from nltk.corpus import stopwords\n",
    "from nltk.stem import WordNetLemmatizer\n",
    "from nltk.util import ngrams\n",
    "from nltk.tokenize import word_tokenize\n",
    "\n",
    "\n",
    "# ScikitLearn\n",
    "from sklearn.model_selection import train_test_split\n",
    "from sklearn.feature_extraction.text import TfidfVectorizer, CountVectorizer\n",
    "from sklearn.metrics import roc_curve\n",
    "from sklearn.metrics import roc_auc_score\n",
    "from sklearn.model_selection import GridSearchCV\n",
    "from sklearn.metrics import confusion_matrix\n",
    "from sklearn.metrics import plot_confusion_matrix\n",
    "from sklearn.svm import SVC\n",
    "import sklearn as sklearn\n",
    "from sklearn.linear_model import LogisticRegression\n",
    "\n",
    "\n",
    "# Visualización\n",
    "import matplotlib.pyplot as plt\n",
    "import seaborn as sns\n",
    "\n",
    "\n",
    "import gensim.corpora as corpora\n",
    "import pyLDAvis\n",
    "from gensim import corpora, models, similarities, downloader\n",
    "from pyLDAvis import gensim\n",
    "\n",
    "# Numpy\n",
    "import numpy as np\n"
   ]
  },
  {
   "cell_type": "markdown",
   "metadata": {},
   "source": [
    "#### Se carga el dataset a utilizar "
   ]
  },
  {
   "cell_type": "code",
   "execution_count": 2,
   "metadata": {},
   "outputs": [
    {
     "name": "stdout",
     "output_type": "stream",
     "text": [
      "Composición del dataset: (57, 4)\n"
     ]
    }
   ],
   "source": [
    "# Cargamos el dataset correspondiente \n",
    "df = pd.read_excel('presidents.xlsx',engine=\"openpyxl\")\n",
    "print('Composición del dataset: ' + str(df.shape))"
   ]
  },
  {
   "cell_type": "code",
   "execution_count": 3,
   "metadata": {},
   "outputs": [
    {
     "data": {
      "text/html": [
       "<div>\n",
       "<style scoped>\n",
       "    .dataframe tbody tr th:only-of-type {\n",
       "        vertical-align: middle;\n",
       "    }\n",
       "\n",
       "    .dataframe tbody tr th {\n",
       "        vertical-align: top;\n",
       "    }\n",
       "\n",
       "    .dataframe thead th {\n",
       "        text-align: right;\n",
       "    }\n",
       "</style>\n",
       "<table border=\"1\" class=\"dataframe\">\n",
       "  <thead>\n",
       "    <tr style=\"text-align: right;\">\n",
       "      <th></th>\n",
       "      <th>Year</th>\n",
       "      <th>President</th>\n",
       "      <th>Party</th>\n",
       "      <th>Speech</th>\n",
       "    </tr>\n",
       "  </thead>\n",
       "  <tbody>\n",
       "    <tr>\n",
       "      <th>0</th>\n",
       "      <td>1964</td>\n",
       "      <td>Lyndon B. Johnson</td>\n",
       "      <td>Democrat</td>\n",
       "      <td>Mr. Speaker, Mr. President, Members of the Hou...</td>\n",
       "    </tr>\n",
       "    <tr>\n",
       "      <th>1</th>\n",
       "      <td>1965</td>\n",
       "      <td>Lyndon B. Johnson</td>\n",
       "      <td>Democrat</td>\n",
       "      <td>Mr. Speaker, Mr. President, Members of the Con...</td>\n",
       "    </tr>\n",
       "    <tr>\n",
       "      <th>2</th>\n",
       "      <td>1966</td>\n",
       "      <td>Lyndon B. Johnson</td>\n",
       "      <td>Democrat</td>\n",
       "      <td>Mr. Speaker, Mr. President, Members of the Hou...</td>\n",
       "    </tr>\n",
       "    <tr>\n",
       "      <th>3</th>\n",
       "      <td>1967</td>\n",
       "      <td>Lyndon B. Johnson</td>\n",
       "      <td>Democrat</td>\n",
       "      <td>Mr. Speaker, Mr. Vice President, distinguished...</td>\n",
       "    </tr>\n",
       "    <tr>\n",
       "      <th>4</th>\n",
       "      <td>1968</td>\n",
       "      <td>Lyndon B. Johnson</td>\n",
       "      <td>Democrat</td>\n",
       "      <td>Mr. Speaker, Mr. President, Members of the Con...</td>\n",
       "    </tr>\n",
       "  </tbody>\n",
       "</table>\n",
       "</div>"
      ],
      "text/plain": [
       "   Year          President     Party  \\\n",
       "0  1964  Lyndon B. Johnson  Democrat   \n",
       "1  1965  Lyndon B. Johnson  Democrat   \n",
       "2  1966  Lyndon B. Johnson  Democrat   \n",
       "3  1967  Lyndon B. Johnson  Democrat   \n",
       "4  1968  Lyndon B. Johnson  Democrat   \n",
       "\n",
       "                                              Speech  \n",
       "0  Mr. Speaker, Mr. President, Members of the Hou...  \n",
       "1  Mr. Speaker, Mr. President, Members of the Con...  \n",
       "2  Mr. Speaker, Mr. President, Members of the Hou...  \n",
       "3  Mr. Speaker, Mr. Vice President, distinguished...  \n",
       "4  Mr. Speaker, Mr. President, Members of the Con...  "
      ]
     },
     "execution_count": 3,
     "metadata": {},
     "output_type": "execute_result"
    }
   ],
   "source": [
    "#Se inspeccionan las columnas y primeras filas\n",
    "df.head()"
   ]
  },
  {
   "cell_type": "markdown",
   "metadata": {},
   "source": [
    "Tal como se puede observar se tiene la recopilación de 57 discursos presidenciales *(1964-2020)*. Además, se tiene el nombre de los presidentes y al partido que pertenecen. "
   ]
  },
  {
   "cell_type": "markdown",
   "metadata": {},
   "source": [
    "### 1) Regresión lineal para la predicción del partido\n",
    "Tal como si vió en la introducción del problema, se llevaran a cabo diferentes modelos para tratar de predecir de la mejor manera, y de acuerdo a diferentes métricas y visualizaciones, el partido de los presidentes según los discursos."
   ]
  },
  {
   "cell_type": "markdown",
   "metadata": {},
   "source": [
    "#### Preprocesamiento de la data\n",
    "Antes de comenzar a aplicar los modelos de Machine Learning haremos la limpieza del cuerpo de textos"
   ]
  },
  {
   "cell_type": "code",
   "execution_count": 4,
   "metadata": {},
   "outputs": [
    {
     "data": {
      "text/html": [
       "<div>\n",
       "<style scoped>\n",
       "    .dataframe tbody tr th:only-of-type {\n",
       "        vertical-align: middle;\n",
       "    }\n",
       "\n",
       "    .dataframe tbody tr th {\n",
       "        vertical-align: top;\n",
       "    }\n",
       "\n",
       "    .dataframe thead th {\n",
       "        text-align: right;\n",
       "    }\n",
       "</style>\n",
       "<table border=\"1\" class=\"dataframe\">\n",
       "  <thead>\n",
       "    <tr style=\"text-align: right;\">\n",
       "      <th></th>\n",
       "      <th>Year</th>\n",
       "      <th>President</th>\n",
       "      <th>Party</th>\n",
       "      <th>Speech</th>\n",
       "    </tr>\n",
       "  </thead>\n",
       "  <tbody>\n",
       "    <tr>\n",
       "      <th>0</th>\n",
       "      <td>1964</td>\n",
       "      <td>Lyndon B. Johnson</td>\n",
       "      <td>Democrat</td>\n",
       "      <td>mr. speaker, mr. president, members of the hou...</td>\n",
       "    </tr>\n",
       "    <tr>\n",
       "      <th>1</th>\n",
       "      <td>1965</td>\n",
       "      <td>Lyndon B. Johnson</td>\n",
       "      <td>Democrat</td>\n",
       "      <td>mr. speaker, mr. president, members of the con...</td>\n",
       "    </tr>\n",
       "    <tr>\n",
       "      <th>2</th>\n",
       "      <td>1966</td>\n",
       "      <td>Lyndon B. Johnson</td>\n",
       "      <td>Democrat</td>\n",
       "      <td>mr. speaker, mr. president, members of the hou...</td>\n",
       "    </tr>\n",
       "    <tr>\n",
       "      <th>3</th>\n",
       "      <td>1967</td>\n",
       "      <td>Lyndon B. Johnson</td>\n",
       "      <td>Democrat</td>\n",
       "      <td>mr. speaker, mr. vice president, distinguished...</td>\n",
       "    </tr>\n",
       "    <tr>\n",
       "      <th>4</th>\n",
       "      <td>1968</td>\n",
       "      <td>Lyndon B. Johnson</td>\n",
       "      <td>Democrat</td>\n",
       "      <td>mr. speaker, mr. president, members of the con...</td>\n",
       "    </tr>\n",
       "  </tbody>\n",
       "</table>\n",
       "</div>"
      ],
      "text/plain": [
       "   Year          President     Party  \\\n",
       "0  1964  Lyndon B. Johnson  Democrat   \n",
       "1  1965  Lyndon B. Johnson  Democrat   \n",
       "2  1966  Lyndon B. Johnson  Democrat   \n",
       "3  1967  Lyndon B. Johnson  Democrat   \n",
       "4  1968  Lyndon B. Johnson  Democrat   \n",
       "\n",
       "                                              Speech  \n",
       "0  mr. speaker, mr. president, members of the hou...  \n",
       "1  mr. speaker, mr. president, members of the con...  \n",
       "2  mr. speaker, mr. president, members of the hou...  \n",
       "3  mr. speaker, mr. vice president, distinguished...  \n",
       "4  mr. speaker, mr. president, members of the con...  "
      ]
     },
     "execution_count": 4,
     "metadata": {},
     "output_type": "execute_result"
    }
   ],
   "source": [
    "# En primer lugar se hace la conversión a minúscula de todos los documentos\n",
    "df['Speech']=[x.lower() for x in df['Speech']]\n",
    "df.head()"
   ]
  },
  {
   "cell_type": "code",
   "execution_count": 5,
   "metadata": {},
   "outputs": [
    {
     "data": {
      "text/html": [
       "<div>\n",
       "<style scoped>\n",
       "    .dataframe tbody tr th:only-of-type {\n",
       "        vertical-align: middle;\n",
       "    }\n",
       "\n",
       "    .dataframe tbody tr th {\n",
       "        vertical-align: top;\n",
       "    }\n",
       "\n",
       "    .dataframe thead th {\n",
       "        text-align: right;\n",
       "    }\n",
       "</style>\n",
       "<table border=\"1\" class=\"dataframe\">\n",
       "  <thead>\n",
       "    <tr style=\"text-align: right;\">\n",
       "      <th></th>\n",
       "      <th>Year</th>\n",
       "      <th>President</th>\n",
       "      <th>Party</th>\n",
       "      <th>Speech</th>\n",
       "    </tr>\n",
       "  </thead>\n",
       "  <tbody>\n",
       "    <tr>\n",
       "      <th>0</th>\n",
       "      <td>1964</td>\n",
       "      <td>Lyndon B. Johnson</td>\n",
       "      <td>Democrat</td>\n",
       "      <td>mr speaker mr president members of the house a...</td>\n",
       "    </tr>\n",
       "    <tr>\n",
       "      <th>1</th>\n",
       "      <td>1965</td>\n",
       "      <td>Lyndon B. Johnson</td>\n",
       "      <td>Democrat</td>\n",
       "      <td>mr speaker mr president members of the congres...</td>\n",
       "    </tr>\n",
       "    <tr>\n",
       "      <th>2</th>\n",
       "      <td>1966</td>\n",
       "      <td>Lyndon B. Johnson</td>\n",
       "      <td>Democrat</td>\n",
       "      <td>mr speaker mr president members of the house a...</td>\n",
       "    </tr>\n",
       "    <tr>\n",
       "      <th>3</th>\n",
       "      <td>1967</td>\n",
       "      <td>Lyndon B. Johnson</td>\n",
       "      <td>Democrat</td>\n",
       "      <td>mr speaker mr vice president distinguished mem...</td>\n",
       "    </tr>\n",
       "    <tr>\n",
       "      <th>4</th>\n",
       "      <td>1968</td>\n",
       "      <td>Lyndon B. Johnson</td>\n",
       "      <td>Democrat</td>\n",
       "      <td>mr speaker mr president members of the congres...</td>\n",
       "    </tr>\n",
       "  </tbody>\n",
       "</table>\n",
       "</div>"
      ],
      "text/plain": [
       "   Year          President     Party  \\\n",
       "0  1964  Lyndon B. Johnson  Democrat   \n",
       "1  1965  Lyndon B. Johnson  Democrat   \n",
       "2  1966  Lyndon B. Johnson  Democrat   \n",
       "3  1967  Lyndon B. Johnson  Democrat   \n",
       "4  1968  Lyndon B. Johnson  Democrat   \n",
       "\n",
       "                                              Speech  \n",
       "0  mr speaker mr president members of the house a...  \n",
       "1  mr speaker mr president members of the congres...  \n",
       "2  mr speaker mr president members of the house a...  \n",
       "3  mr speaker mr vice president distinguished mem...  \n",
       "4  mr speaker mr president members of the congres...  "
      ]
     },
     "execution_count": 5,
     "metadata": {},
     "output_type": "execute_result"
    }
   ],
   "source": [
    "# Eliminamos todos los signos de puntuación con la re '\\W+'\n",
    "signo_puntuacion = lambda x: re.sub(r'\\W+', ' ', x)\n",
    "df['Speech']=df['Speech'].map(signo_puntuacion)\n",
    "df.head()"
   ]
  },
  {
   "cell_type": "code",
   "execution_count": 6,
   "metadata": {},
   "outputs": [
    {
     "data": {
      "text/html": [
       "<div>\n",
       "<style scoped>\n",
       "    .dataframe tbody tr th:only-of-type {\n",
       "        vertical-align: middle;\n",
       "    }\n",
       "\n",
       "    .dataframe tbody tr th {\n",
       "        vertical-align: top;\n",
       "    }\n",
       "\n",
       "    .dataframe thead th {\n",
       "        text-align: right;\n",
       "    }\n",
       "</style>\n",
       "<table border=\"1\" class=\"dataframe\">\n",
       "  <thead>\n",
       "    <tr style=\"text-align: right;\">\n",
       "      <th></th>\n",
       "      <th>Year</th>\n",
       "      <th>President</th>\n",
       "      <th>Party</th>\n",
       "      <th>Speech</th>\n",
       "    </tr>\n",
       "  </thead>\n",
       "  <tbody>\n",
       "    <tr>\n",
       "      <th>0</th>\n",
       "      <td>1964</td>\n",
       "      <td>Lyndon B. Johnson</td>\n",
       "      <td>Democrat</td>\n",
       "      <td>mr speaker mr president members of the house a...</td>\n",
       "    </tr>\n",
       "    <tr>\n",
       "      <th>1</th>\n",
       "      <td>1965</td>\n",
       "      <td>Lyndon B. Johnson</td>\n",
       "      <td>Democrat</td>\n",
       "      <td>mr speaker mr president members of the congres...</td>\n",
       "    </tr>\n",
       "    <tr>\n",
       "      <th>2</th>\n",
       "      <td>1966</td>\n",
       "      <td>Lyndon B. Johnson</td>\n",
       "      <td>Democrat</td>\n",
       "      <td>mr speaker mr president members of the house a...</td>\n",
       "    </tr>\n",
       "    <tr>\n",
       "      <th>3</th>\n",
       "      <td>1967</td>\n",
       "      <td>Lyndon B. Johnson</td>\n",
       "      <td>Democrat</td>\n",
       "      <td>mr speaker mr vice president distinguished mem...</td>\n",
       "    </tr>\n",
       "    <tr>\n",
       "      <th>4</th>\n",
       "      <td>1968</td>\n",
       "      <td>Lyndon B. Johnson</td>\n",
       "      <td>Democrat</td>\n",
       "      <td>mr speaker mr president members of the congres...</td>\n",
       "    </tr>\n",
       "  </tbody>\n",
       "</table>\n",
       "</div>"
      ],
      "text/plain": [
       "   Year          President     Party  \\\n",
       "0  1964  Lyndon B. Johnson  Democrat   \n",
       "1  1965  Lyndon B. Johnson  Democrat   \n",
       "2  1966  Lyndon B. Johnson  Democrat   \n",
       "3  1967  Lyndon B. Johnson  Democrat   \n",
       "4  1968  Lyndon B. Johnson  Democrat   \n",
       "\n",
       "                                              Speech  \n",
       "0  mr speaker mr president members of the house a...  \n",
       "1  mr speaker mr president members of the congres...  \n",
       "2  mr speaker mr president members of the house a...  \n",
       "3  mr speaker mr vice president distinguished mem...  \n",
       "4  mr speaker mr president members of the congres...  "
      ]
     },
     "execution_count": 6,
     "metadata": {},
     "output_type": "execute_result"
    }
   ],
   "source": [
    "# Removemos aquellas palabras que contienen números\n",
    "# En este caso se contaban con un número importante de estas palabras\n",
    "# Las cuales no añadían ningún significado para el análisis posterior\n",
    "\n",
    "alfanumerico=lambda x: re.sub(r\"\"\"\\w*\\d\\w*\"\"\", ' ', x)\n",
    "df['Speech']=df['Speech'].map(alfanumerico)\n",
    "df.head()"
   ]
  },
  {
   "cell_type": "markdown",
   "metadata": {},
   "source": [
    "#### Bigramas y trigramas\n",
    "Hacemos este análisis de ngramas antes de llevar acabo la depuración con las stopwords. El principal objetivo es detectar aquellos bigramas y trigramas más comunes en el texto y que tienen un significado como una única expresión. "
   ]
  },
  {
   "cell_type": "markdown",
   "metadata": {},
   "source": [
    "Se identifican los bigramas de cada uno de los textos y se cuentan para obtener una lista descendente según la frecuencia"
   ]
  },
  {
   "cell_type": "code",
   "execution_count": 7,
   "metadata": {},
   "outputs": [
    {
     "data": {
      "text/plain": [
       "of        the         1493.0\n",
       "in        the         1408.0\n",
       "to        the          748.0\n",
       "of        our          719.0\n",
       "we        must         677.0\n",
       "and       the          636.0\n",
       "we        have         592.0\n",
       "the       world        584.0\n",
       "for       the          549.0\n",
       "we        will         545.0\n",
       "          can          518.0\n",
       "and       we           419.0\n",
       "          i            412.0\n",
       "we        are          411.0\n",
       "on        the          405.0\n",
       "that      we           385.0\n",
       "and       to           355.0\n",
       "will      be           342.0\n",
       "it        s            340.0\n",
       "with      the          334.0\n",
       "in        our          332.0\n",
       "the       american     324.0\n",
       "more      than         324.0\n",
       "it        is           319.0\n",
       "in        this         315.0\n",
       "the       congress     312.0\n",
       "i         will         300.0\n",
       "to        be           291.0\n",
       "a         new          288.0\n",
       "we        ve           281.0\n",
       "the       united       277.0\n",
       "that      s            274.0\n",
       "united    states       258.0\n",
       "in        a            257.0\n",
       "of        a            252.0\n",
       "to        make         251.0\n",
       "america   s            245.0\n",
       "to        help         240.0\n",
       "          do           236.0\n",
       "we        re           236.0\n",
       "is        the          235.0\n",
       "          a            234.0\n",
       "the       people       231.0\n",
       "by        the          228.0\n",
       "that      the          228.0\n",
       "of        this         225.0\n",
       "this      year         223.0\n",
       "i         have         216.0\n",
       "american  people       214.0\n",
       "and       our          211.0\n",
       "as        we           204.0\n",
       "all       of           204.0\n",
       "we        should       203.0\n",
       "that      is           203.0\n",
       "from      the          202.0\n",
       "the       first        202.0\n",
       "let       s            201.0\n",
       "our       country      198.0\n",
       "if        we           196.0\n",
       "to        our          193.0\n",
       "dtype: float64"
      ]
     },
     "execution_count": 7,
     "metadata": {},
     "output_type": "execute_result"
    }
   ],
   "source": [
    "# Búsqueda y conteo de los bigramas en los textos\n",
    "\n",
    "text_all=[]\n",
    "for i in df['Speech']:\n",
    "    str(text_all.append(i))\n",
    "    \n",
    "bigramas_list=[]\n",
    "for i in text_all:\n",
    "    texto_tokenizado = word_tokenize(i) \n",
    "    bigramas = ngrams(texto_tokenizado,2) \n",
    "    bigramas_ = pd.Series(list(bigramas)).value_counts()\n",
    "    bigramas_list.append(bigramas_)\n",
    "    df1 =pd.DataFrame(bigramas_list)\n",
    "    \n",
    "#Suma y ordenamiento de los bigramas según frecuencia\n",
    "df_bigram = df1.sum(axis=0)\n",
    "df_bigram = df_bigram.sort_values(ascending=False)\n",
    "df_bigram.head(60)"
   ]
  },
  {
   "cell_type": "code",
   "execution_count": 8,
   "metadata": {},
   "outputs": [
    {
     "data": {
      "text/plain": [
       "the      united    states        250.0\n",
       "         american  people        212.0\n",
       "in       the       world         137.0\n",
       "of       the       world         115.0\n",
       "the      state     of            100.0\n",
       "and      we        will           88.0\n",
       "men      and       women          86.0\n",
       "we       need      to             84.0\n",
       "that     s         why            82.0\n",
       "of       the       united         80.0\n",
       "one      of        the            80.0\n",
       "the      next      years          79.0\n",
       "         federal   government     78.0\n",
       "i        ask       you            78.0\n",
       "ask      you       to             77.0\n",
       "all      of        us             73.0\n",
       "i        want      to             73.0\n",
       "over     the       next           71.0\n",
       "the      world     s              71.0\n",
       "state    of        the            70.0\n",
       "be       able      to             68.0\n",
       "the      soviet    union          67.0\n",
       "of       the       american       67.0\n",
       "for      the       first          65.0\n",
       "the      middle    east           65.0\n",
       "members  of        congress       64.0\n",
       "we       have      to             64.0\n",
       "the      first     time           63.0\n",
       "we       can       not            61.0\n",
       "of       the       union          61.0\n",
       "in       this      chamber        61.0\n",
       "the      people    of             59.0\n",
       "our      nation    s              59.0\n",
       "the      last      years          58.0\n",
       "that     we        can            57.0\n",
       "will     continue  to             56.0\n",
       "as       well      as             55.0\n",
       "and      we        must           54.0\n",
       "to       the       congress       54.0\n",
       "the      past      years          54.0\n",
       "         cost      of             53.0\n",
       "in       the       last           53.0\n",
       "and      that      s              53.0\n",
       "of       the       congress       52.0\n",
       "it       s         time           50.0\n",
       "members  of        the            49.0\n",
       "in       the       middle         48.0\n",
       "the      congress  to             48.0\n",
       "to       make      sure           48.0\n",
       "around   the       world          48.0\n",
       "and      i         will           46.0\n",
       "we       don       t              46.0\n",
       "this     is        a              45.0\n",
       "of       our       country        45.0\n",
       "we       can       t              45.0\n",
       "in       the       past           44.0\n",
       "united   states    of             44.0\n",
       "states   of        america        44.0\n",
       "we       will      not            43.0\n",
       "         must      also           43.0\n",
       "dtype: float64"
      ]
     },
     "execution_count": 8,
     "metadata": {},
     "output_type": "execute_result"
    }
   ],
   "source": [
    "# Se repite el procedimiento para los trigramas\n",
    "\n",
    "trigramas_list=[]\n",
    "\n",
    "for i in text_all:\n",
    "    texto_tokenizado = word_tokenize(i) \n",
    "    trigramas = ngrams(texto_tokenizado,3) \n",
    "    trigramas_ = pd.Series(list(trigramas)).value_counts()\n",
    "    trigramas_list.append(trigramas_)\n",
    "    df1 =pd.DataFrame(trigramas_list)\n",
    "\n",
    "# Listado y ordenamiento de los trigramas\n",
    "df_trigram = df1.sum(axis=0)\n",
    "df_trigram = df_trigram.sort_values(ascending=False)\n",
    "df_trigram.head(60)"
   ]
  },
  {
   "cell_type": "markdown",
   "metadata": {},
   "source": [
    "Después de un análisis de las listas se encontraron cuatro **bigramas/trigramas** importantes los cuales serán procesados para obtener mejores resultados en los modelos a aplicar. Estos son:\n",
    "\n",
    "* soviet_union\n",
    "* middle_east\n",
    "* united_states\n",
    "* health_care\n",
    "\n",
    "Tal como se observa 3 de estas expresiones son referidas a temas geográficos tal como es usual al preprocesar textos. El resto de expresiones encontradas no contiene realmente información útil y necesaria de conservar para los análisis posteriores.\n"
   ]
  },
  {
   "cell_type": "code",
   "execution_count": 9,
   "metadata": {},
   "outputs": [],
   "source": [
    "# Se sustituyen estos ngramas por sólo una palabra unidos por un guión bajo\n",
    "\n",
    "palabra1 = lambda x: re.sub('united states', 'united_states', x)\n",
    "df['Speech']=df['Speech'].map(palabra1)\n",
    "\n",
    "palabra2 = lambda x: re.sub('middle east', 'middle_east', x)\n",
    "df['Speech']=df['Speech'].map(palabra2)\n",
    "\n",
    "palabra3 = lambda x: re.sub('soviet union', 'soviet_union', x)\n",
    "df['Speech']=df['Speech'].map(palabra3)\n",
    "\n",
    "palabra4 = lambda x: re.sub('health care', 'health_care', x)\n",
    "df['Speech']=df['Speech'].map(palabra4)"
   ]
  },
  {
   "cell_type": "markdown",
   "metadata": {},
   "source": [
    "#### Stopwords\n",
    "Una vez procesados los bigramas y trigramas, y como se vió en la teoría, se procede al estudio de los **stopwords** como siguiente paso de la metodología para el preprocesamiento."
   ]
  },
  {
   "cell_type": "code",
   "execution_count": 10,
   "metadata": {},
   "outputs": [],
   "source": [
    "# Se carga la lista de stopwords en inglés\n",
    "stopwords_english=stopwords.words('english')"
   ]
  },
  {
   "cell_type": "markdown",
   "metadata": {},
   "source": [
    "Luego se cargan a este conjunto de palabras términos adicionales que por el contexto formal de estos discursos políticos no aportan a la semántica y a los análisis que se realizarán posteriormente."
   ]
  },
  {
   "cell_type": "code",
   "execution_count": 11,
   "metadata": {},
   "outputs": [],
   "source": [
    "for i in ['mr','president','speaker','vice','lady','member','members','madam','thank','america','american','americans','applause','congress','usa']:\n",
    "    stopwords_english.append(i)"
   ]
  },
  {
   "cell_type": "code",
   "execution_count": 12,
   "metadata": {},
   "outputs": [],
   "source": [
    "# Se remueven estas palabras\n",
    "remover_stopwords=lambda x: [word for word in x.split() if word not in stopwords_english]\n",
    "df['Speech']=df['Speech'].map(remover_stopwords)"
   ]
  },
  {
   "cell_type": "code",
   "execution_count": 13,
   "metadata": {},
   "outputs": [
    {
     "data": {
      "text/html": [
       "<div>\n",
       "<style scoped>\n",
       "    .dataframe tbody tr th:only-of-type {\n",
       "        vertical-align: middle;\n",
       "    }\n",
       "\n",
       "    .dataframe tbody tr th {\n",
       "        vertical-align: top;\n",
       "    }\n",
       "\n",
       "    .dataframe thead th {\n",
       "        text-align: right;\n",
       "    }\n",
       "</style>\n",
       "<table border=\"1\" class=\"dataframe\">\n",
       "  <thead>\n",
       "    <tr style=\"text-align: right;\">\n",
       "      <th></th>\n",
       "      <th>Year</th>\n",
       "      <th>President</th>\n",
       "      <th>Party</th>\n",
       "      <th>Speech</th>\n",
       "    </tr>\n",
       "  </thead>\n",
       "  <tbody>\n",
       "    <tr>\n",
       "      <th>0</th>\n",
       "      <td>1964</td>\n",
       "      <td>Lyndon B. Johnson</td>\n",
       "      <td>Democrat</td>\n",
       "      <td>[house, senate, fellow, brief, time, necessari...</td>\n",
       "    </tr>\n",
       "    <tr>\n",
       "      <th>1</th>\n",
       "      <td>1965</td>\n",
       "      <td>Lyndon B. Johnson</td>\n",
       "      <td>Democrat</td>\n",
       "      <td>[fellow, hill, home, stirred, old, friendships...</td>\n",
       "    </tr>\n",
       "    <tr>\n",
       "      <th>2</th>\n",
       "      <td>1966</td>\n",
       "      <td>Lyndon B. Johnson</td>\n",
       "      <td>Democrat</td>\n",
       "      <td>[house, senate, fellow, come, tonight, report,...</td>\n",
       "    </tr>\n",
       "    <tr>\n",
       "      <th>3</th>\n",
       "      <td>1967</td>\n",
       "      <td>Lyndon B. Johnson</td>\n",
       "      <td>Democrat</td>\n",
       "      <td>[distinguished, share, grief, feel, death, tod...</td>\n",
       "    </tr>\n",
       "    <tr>\n",
       "      <th>4</th>\n",
       "      <td>1968</td>\n",
       "      <td>Lyndon B. Johnson</td>\n",
       "      <td>Democrat</td>\n",
       "      <td>[fellow, thinking, walking, aisle, tonight, sa...</td>\n",
       "    </tr>\n",
       "  </tbody>\n",
       "</table>\n",
       "</div>"
      ],
      "text/plain": [
       "   Year          President     Party  \\\n",
       "0  1964  Lyndon B. Johnson  Democrat   \n",
       "1  1965  Lyndon B. Johnson  Democrat   \n",
       "2  1966  Lyndon B. Johnson  Democrat   \n",
       "3  1967  Lyndon B. Johnson  Democrat   \n",
       "4  1968  Lyndon B. Johnson  Democrat   \n",
       "\n",
       "                                              Speech  \n",
       "0  [house, senate, fellow, brief, time, necessari...  \n",
       "1  [fellow, hill, home, stirred, old, friendships...  \n",
       "2  [house, senate, fellow, come, tonight, report,...  \n",
       "3  [distinguished, share, grief, feel, death, tod...  \n",
       "4  [fellow, thinking, walking, aisle, tonight, sa...  "
      ]
     },
     "execution_count": 13,
     "metadata": {},
     "output_type": "execute_result"
    }
   ],
   "source": [
    "df.head()"
   ]
  },
  {
   "cell_type": "markdown",
   "metadata": {},
   "source": [
    "#### Lematización\n",
    "Ahora se aplicará el proceso de lematización a cada una de las filas del dataframe"
   ]
  },
  {
   "cell_type": "code",
   "execution_count": 14,
   "metadata": {},
   "outputs": [],
   "source": [
    "lemmatizer = WordNetLemmatizer()\n",
    "\n",
    "# Declaramos las funciones necesarias para aplicarla\n",
    "def lem_tokens(tokens, lemmatizer):\n",
    "    lemmed = []\n",
    "    for item in tokens:\n",
    "        lemmed.append(lemmatizer.lemmatize(item))\n",
    "    return lemmed\n",
    "\n",
    "def lematizador(msg):\n",
    "    msg=lem_tokens(msg, lemmatizer)\n",
    "    return msg"
   ]
  },
  {
   "cell_type": "code",
   "execution_count": 15,
   "metadata": {},
   "outputs": [],
   "source": [
    "# Se aplica a toda la columna Speech\n",
    "df['Speech']=df['Speech'].apply(lematizador)"
   ]
  },
  {
   "cell_type": "code",
   "execution_count": 16,
   "metadata": {},
   "outputs": [
    {
     "data": {
      "text/html": [
       "<div>\n",
       "<style scoped>\n",
       "    .dataframe tbody tr th:only-of-type {\n",
       "        vertical-align: middle;\n",
       "    }\n",
       "\n",
       "    .dataframe tbody tr th {\n",
       "        vertical-align: top;\n",
       "    }\n",
       "\n",
       "    .dataframe thead th {\n",
       "        text-align: right;\n",
       "    }\n",
       "</style>\n",
       "<table border=\"1\" class=\"dataframe\">\n",
       "  <thead>\n",
       "    <tr style=\"text-align: right;\">\n",
       "      <th></th>\n",
       "      <th>Year</th>\n",
       "      <th>President</th>\n",
       "      <th>Party</th>\n",
       "      <th>Speech</th>\n",
       "    </tr>\n",
       "  </thead>\n",
       "  <tbody>\n",
       "    <tr>\n",
       "      <th>0</th>\n",
       "      <td>1964</td>\n",
       "      <td>Lyndon B. Johnson</td>\n",
       "      <td>Democrat</td>\n",
       "      <td>[house, senate, fellow, brief, time, necessari...</td>\n",
       "    </tr>\n",
       "    <tr>\n",
       "      <th>1</th>\n",
       "      <td>1965</td>\n",
       "      <td>Lyndon B. Johnson</td>\n",
       "      <td>Democrat</td>\n",
       "      <td>[fellow, hill, home, stirred, old, friendship,...</td>\n",
       "    </tr>\n",
       "    <tr>\n",
       "      <th>2</th>\n",
       "      <td>1966</td>\n",
       "      <td>Lyndon B. Johnson</td>\n",
       "      <td>Democrat</td>\n",
       "      <td>[house, senate, fellow, come, tonight, report,...</td>\n",
       "    </tr>\n",
       "    <tr>\n",
       "      <th>3</th>\n",
       "      <td>1967</td>\n",
       "      <td>Lyndon B. Johnson</td>\n",
       "      <td>Democrat</td>\n",
       "      <td>[distinguished, share, grief, feel, death, tod...</td>\n",
       "    </tr>\n",
       "    <tr>\n",
       "      <th>4</th>\n",
       "      <td>1968</td>\n",
       "      <td>Lyndon B. Johnson</td>\n",
       "      <td>Democrat</td>\n",
       "      <td>[fellow, thinking, walking, aisle, tonight, sa...</td>\n",
       "    </tr>\n",
       "  </tbody>\n",
       "</table>\n",
       "</div>"
      ],
      "text/plain": [
       "   Year          President     Party  \\\n",
       "0  1964  Lyndon B. Johnson  Democrat   \n",
       "1  1965  Lyndon B. Johnson  Democrat   \n",
       "2  1966  Lyndon B. Johnson  Democrat   \n",
       "3  1967  Lyndon B. Johnson  Democrat   \n",
       "4  1968  Lyndon B. Johnson  Democrat   \n",
       "\n",
       "                                              Speech  \n",
       "0  [house, senate, fellow, brief, time, necessari...  \n",
       "1  [fellow, hill, home, stirred, old, friendship,...  \n",
       "2  [house, senate, fellow, come, tonight, report,...  \n",
       "3  [distinguished, share, grief, feel, death, tod...  \n",
       "4  [fellow, thinking, walking, aisle, tonight, sa...  "
      ]
     },
     "execution_count": 16,
     "metadata": {},
     "output_type": "execute_result"
    }
   ],
   "source": [
    "df.head()"
   ]
  },
  {
   "cell_type": "code",
   "execution_count": 17,
   "metadata": {},
   "outputs": [],
   "source": [
    "# Se copia este dataset tokenizado y lematizado para luego utilizarlo en un paso posterior\n",
    "df['Speech']\n",
    "df_2 = df.copy()"
   ]
  },
  {
   "cell_type": "markdown",
   "metadata": {},
   "source": [
    "Tal como se ve en la muestra anterior cada entrada de dato es una lista en lugar de strings. Se transforma en la siguiente línea."
   ]
  },
  {
   "cell_type": "code",
   "execution_count": 18,
   "metadata": {},
   "outputs": [
    {
     "data": {
      "text/html": [
       "<div>\n",
       "<style scoped>\n",
       "    .dataframe tbody tr th:only-of-type {\n",
       "        vertical-align: middle;\n",
       "    }\n",
       "\n",
       "    .dataframe tbody tr th {\n",
       "        vertical-align: top;\n",
       "    }\n",
       "\n",
       "    .dataframe thead th {\n",
       "        text-align: right;\n",
       "    }\n",
       "</style>\n",
       "<table border=\"1\" class=\"dataframe\">\n",
       "  <thead>\n",
       "    <tr style=\"text-align: right;\">\n",
       "      <th></th>\n",
       "      <th>Year</th>\n",
       "      <th>President</th>\n",
       "      <th>Party</th>\n",
       "      <th>Speech</th>\n",
       "    </tr>\n",
       "  </thead>\n",
       "  <tbody>\n",
       "    <tr>\n",
       "      <th>0</th>\n",
       "      <td>1964</td>\n",
       "      <td>Lyndon B. Johnson</td>\n",
       "      <td>Democrat</td>\n",
       "      <td>['house', 'senate', 'fellow', 'brief', 'time',...</td>\n",
       "    </tr>\n",
       "    <tr>\n",
       "      <th>1</th>\n",
       "      <td>1965</td>\n",
       "      <td>Lyndon B. Johnson</td>\n",
       "      <td>Democrat</td>\n",
       "      <td>['fellow', 'hill', 'home', 'stirred', 'old', '...</td>\n",
       "    </tr>\n",
       "    <tr>\n",
       "      <th>2</th>\n",
       "      <td>1966</td>\n",
       "      <td>Lyndon B. Johnson</td>\n",
       "      <td>Democrat</td>\n",
       "      <td>['house', 'senate', 'fellow', 'come', 'tonight...</td>\n",
       "    </tr>\n",
       "    <tr>\n",
       "      <th>3</th>\n",
       "      <td>1967</td>\n",
       "      <td>Lyndon B. Johnson</td>\n",
       "      <td>Democrat</td>\n",
       "      <td>['distinguished', 'share', 'grief', 'feel', 'd...</td>\n",
       "    </tr>\n",
       "    <tr>\n",
       "      <th>4</th>\n",
       "      <td>1968</td>\n",
       "      <td>Lyndon B. Johnson</td>\n",
       "      <td>Democrat</td>\n",
       "      <td>['fellow', 'thinking', 'walking', 'aisle', 'to...</td>\n",
       "    </tr>\n",
       "  </tbody>\n",
       "</table>\n",
       "</div>"
      ],
      "text/plain": [
       "   Year          President     Party  \\\n",
       "0  1964  Lyndon B. Johnson  Democrat   \n",
       "1  1965  Lyndon B. Johnson  Democrat   \n",
       "2  1966  Lyndon B. Johnson  Democrat   \n",
       "3  1967  Lyndon B. Johnson  Democrat   \n",
       "4  1968  Lyndon B. Johnson  Democrat   \n",
       "\n",
       "                                              Speech  \n",
       "0  ['house', 'senate', 'fellow', 'brief', 'time',...  \n",
       "1  ['fellow', 'hill', 'home', 'stirred', 'old', '...  \n",
       "2  ['house', 'senate', 'fellow', 'come', 'tonight...  \n",
       "3  ['distinguished', 'share', 'grief', 'feel', 'd...  \n",
       "4  ['fellow', 'thinking', 'walking', 'aisle', 'to...  "
      ]
     },
     "execution_count": 18,
     "metadata": {},
     "output_type": "execute_result"
    }
   ],
   "source": [
    "df['Speech']=df['Speech'].map(str)\n",
    "df.head()"
   ]
  },
  {
   "cell_type": "markdown",
   "metadata": {},
   "source": [
    "#### Revisión de las clases\n",
    "Revisamos la distribución de los datos según las clases a predecir para asegurarnos que no exista un desbalance importante en los datos "
   ]
  },
  {
   "cell_type": "code",
   "execution_count": 19,
   "metadata": {},
   "outputs": [
    {
     "data": {
      "image/png": "[encoded data removed]",
      "text/plain": [
       "<Figure size 432x288 with 1 Axes>"
      ]
     },
     "metadata": {
      "needs_background": "light"
     },
     "output_type": "display_data"
    }
   ],
   "source": [
    "# Revisión de clases\n",
    "sns.countplot(x=\"Party\", data=df, palette=['#4040ff','#F57373'])\n",
    "plt.show()"
   ]
  },
  {
   "cell_type": "markdown",
   "metadata": {},
   "source": [
    "#### Separación de conjunto de datos\n",
    "Se separan los datos en conjunto de **entrenamiento** y **test**. Se utilizó una proporción 70/30 y una semilla de random state de 23 para asegurar reproducibilidad al correr el modelo para diferentes condiciones."
   ]
  },
  {
   "cell_type": "code",
   "execution_count": 20,
   "metadata": {},
   "outputs": [],
   "source": [
    "X_train, X_test, y_train, y_test = train_test_split(df['Speech'], df['Party'], test_size=0.3, random_state=23)"
   ]
  },
  {
   "cell_type": "markdown",
   "metadata": {},
   "source": [
    "Vectorizamos las palabras ya procesadas en frecuencias de tal manera sea posible utilizarlas en los modelos de **regresión logística** y **Support Vector Machine**. Prestar atención que al conjunto de test sólo se aplica el transform a diferencia del conjuntode entrenamiento al cual se le aplican tanto el fit como el transform. "
   ]
  },
  {
   "cell_type": "code",
   "execution_count": 21,
   "metadata": {},
   "outputs": [
    {
     "data": {
      "text/plain": [
       "(39, 8102)"
      ]
     },
     "execution_count": 21,
     "metadata": {},
     "output_type": "execute_result"
    }
   ],
   "source": [
    "vectorizer1 = CountVectorizer() # frecuencias absolutas\n",
    "vectorizer2 = TfidfVectorizer() #frecuencias inversas\n",
    "X_train_vec=vectorizer2.fit_transform(X_train)\n",
    "X_test_vec=vectorizer2.transform(X_test)\n",
    "\n",
    "#Revisamos si corresponde a la cantidad de filas esperadas\n",
    "X_train_vec.toarray().shape"
   ]
  },
  {
   "cell_type": "markdown",
   "metadata": {},
   "source": [
    "#### Modelo de Regresión Logística\n",
    "En primer lugar aplicamos este modelo sin hacer revisión exhaustiva de los hiperparámetros. Esto contará como un primer resultado del modelo el cual se tratará de hacer tuning como siguiente paso."
   ]
  },
  {
   "cell_type": "code",
   "execution_count": 22,
   "metadata": {},
   "outputs": [
    {
     "data": {
      "text/plain": [
       "array(['Democrat', 'Republican', 'Democrat', 'Republican', 'Republican',\n",
       "       'Republican', 'Republican', 'Democrat', 'Democrat', 'Democrat',\n",
       "       'Republican', 'Democrat', 'Republican', 'Republican', 'Republican',\n",
       "       'Republican', 'Republican', 'Republican'], dtype=object)"
      ]
     },
     "execution_count": 22,
     "metadata": {},
     "output_type": "execute_result"
    }
   ],
   "source": [
    "lr = LogisticRegression()\n",
    "lr.fit(X_train_vec, y_train)\n",
    "y_pred_vec_log = lr.predict(X_test_vec)\n",
    "#Se da un primer vistazo a las etiquetas predichas\n",
    "y_pred_vec_log"
   ]
  },
  {
   "cell_type": "markdown",
   "metadata": {},
   "source": [
    "A continuación, se declaran dos funciones necesarias relativas a **métricas y visualizaciones** para examinar los diferentes modelos."
   ]
  },
  {
   "cell_type": "code",
   "execution_count": 23,
   "metadata": {},
   "outputs": [],
   "source": [
    "# Se crea la función métricas para calcular los indicadores de la matríz de confusión.\n",
    "def metricas (TN, FP, FN, TP):\n",
    "    Sensibilidad = TP/(TP + FN)\n",
    "    Especifidad = TN / (TN + FP)\n",
    "    Exactitud = (TP + TN) / (TP + TN + FP + FN)\n",
    "    Precision = TP / (TP + FP)\n",
    "\n",
    "    return Sensibilidad,Especifidad,Precision,Exactitud"
   ]
  },
  {
   "cell_type": "markdown",
   "metadata": {},
   "source": [
    "Se revisan las métricas para este primer modelo"
   ]
  },
  {
   "cell_type": "code",
   "execution_count": 24,
   "metadata": {},
   "outputs": [
    {
     "data": {
      "image/png": "[encoded data removed]",
      "text/plain": [
       "<Figure size 1008x360 with 3 Axes>"
      ]
     },
     "metadata": {
      "needs_background": "light"
     },
     "output_type": "display_data"
    },
    {
     "name": "stdout",
     "output_type": "stream",
     "text": [
      "Sensibilidad = 1.0\n",
      "Especificidad = 0.75\n",
      "Precisión = 0.8333333333333334\n",
      "Exactitud = 0.8888888888888888\n"
     ]
    }
   ],
   "source": [
    "#Matriz de confusión y Curva ROC Regresión Logística\n",
    "fig, axes = plt.subplots(nrows=1, ncols=2, figsize = (14,5))\n",
    "axes = axes.flatten()\n",
    "\n",
    "#Matriz de confusión\n",
    "ax = axes[0]\n",
    "TN_lr, FP_lr, FN_lr, TP_lr = confusion_matrix(y_test,y_pred_vec_log, labels=['Democrat','Republican']).ravel()\n",
    "sns.heatmap([[TN_lr, FP_lr],[FN_lr, TP_lr]], annot=True,cmap=plt.cm.Blues,ax=ax)\n",
    "ax.set_ylabel('Valores verdaderos')\n",
    "ax.set_xlabel('Valores predichos')\n",
    "ax.set_title('Matriz de Confusión Regresión Logística')\n",
    "#Curva ROC\n",
    "ax = axes[1]\n",
    "fpr_lr, tpr_lr, thresholds_lr = roc_curve(y_test, lr.predict_proba(X_test_vec)[:,1],pos_label='Republican')\n",
    "auc_lr = roc_auc_score(y_test,lr.predict_proba(X_test_vec)[:,1])\n",
    "ax.set_xlabel('FPR = 1-Especifidad')\n",
    "ax.set_ylabel('TPR = Sensibilidad')\n",
    "ax.plot(fpr_lr, tpr_lr, label=\"AUC Regresión Logística=\"+str(auc_lr))\n",
    "ax.plot([0,1], [0,1], 'k--', color='grey')\n",
    "ax.set_title('Curva ROC Regresión Logística')\n",
    "ax.legend(loc='lower right')\n",
    "plt.show()\n",
    "\n",
    "Sensibilidad_lr,Especifidad_lr,Precision_lr,Exactitud_lr = metricas (TN_lr, FP_lr, FN_lr, TP_lr)\n",
    "\n",
    "print(f'Sensibilidad = {Sensibilidad_lr}\\nEspecificidad = {Especifidad_lr}\\nPrecisión = {Precision_lr}\\nExactitud = {Exactitud_lr}')"
   ]
  },
  {
   "cell_type": "markdown",
   "metadata": {},
   "source": [
    "Estas métricas reflejan un desempeño satisfactorio de este primer modelo. \n",
    "\n",
    "* En este contexto no tiene mayor importancia la separacion Sensibilidad y Especificidad ya que se tratan de etiquetas intercambiables de los partidos. Se puede ver en la matriz de confusión que para la etiqueta positiva, republicanos en este caso, es identificado en el total de los casos mientras que existen dos casos de democratas los cuales no son identificados de manera correcta.\n",
    "\n",
    "* En la figura de la derecha se muestra la curva ROC del modelo junto con en área bajo la curva que arroja. Un AUC de la curva de 0.9 es más que satisfactorio aunque la forma escalonada con saltos largos de la curva nublan la eficiencia del modelo. Sin embargo, esto era de esperarse debido a que no se cuenta con una gran cantidad de datos."
   ]
  },
  {
   "cell_type": "markdown",
   "metadata": {},
   "source": [
    "#### Optimización o tuning de hiperparámetros"
   ]
  },
  {
   "cell_type": "markdown",
   "metadata": {},
   "source": [
    "Mediante un GridSearchCV se buscará iterar con diferentes valores de C el cual controla la regularización del modelo. Recordar que en este problema esto puede ser útil debido a la gran cantidad de features comparado con la decena de datos que se tienen."
   ]
  },
  {
   "cell_type": "code",
   "execution_count": 25,
   "metadata": {},
   "outputs": [
    {
     "data": {
      "text/plain": [
       "GridSearchCV(cv=4, estimator=LogisticRegression(),\n",
       "             param_grid={'C': [1e-05, 0.001, 0.1, 1.0, 10.0, 100.0]})"
      ]
     },
     "execution_count": 25,
     "metadata": {},
     "output_type": "execute_result"
    }
   ],
   "source": [
    "param_grid_ = {'C': [1e-5, 1e-3, 1e-1, 1e0, 1e1, 1e2]}\n",
    "# Implementamos este Grid además de añadir un Cross Validation de 4-folds\n",
    "c_search = sklearn.model_selection.GridSearchCV(LogisticRegression(), cv=4, param_grid=param_grid_)\n",
    "c_search.fit(X_train_vec, y_train)"
   ]
  },
  {
   "cell_type": "code",
   "execution_count": 26,
   "metadata": {},
   "outputs": [
    {
     "name": "stdout",
     "output_type": "stream",
     "text": [
      "0.925 {'C': 10.0}\n"
     ]
    }
   ],
   "source": [
    "# Imprimimos el score obtenido\n",
    "print(c_search.best_score_,c_search.best_params_)"
   ]
  },
  {
   "cell_type": "markdown",
   "metadata": {},
   "source": [
    "Ahora se aplica este hiperparámetro al modelo de LR."
   ]
  },
  {
   "cell_type": "code",
   "execution_count": 27,
   "metadata": {},
   "outputs": [
    {
     "data": {
      "text/plain": [
       "LogisticRegression(C=100)"
      ]
     },
     "execution_count": 27,
     "metadata": {},
     "output_type": "execute_result"
    }
   ],
   "source": [
    "from sklearn.linear_model import LogisticRegression\n",
    "lr_10 = LogisticRegression(C= 100)\n",
    "lr_10.fit(X_train_vec, y_train)"
   ]
  },
  {
   "cell_type": "code",
   "execution_count": 28,
   "metadata": {},
   "outputs": [],
   "source": [
    "y_pred_vec_10= lr_10.predict(X_test_vec)"
   ]
  },
  {
   "cell_type": "code",
   "execution_count": 29,
   "metadata": {},
   "outputs": [
    {
     "data": {
      "image/png": "[encoded data removed]",
      "text/plain": [
       "<Figure size 1008x360 with 3 Axes>"
      ]
     },
     "metadata": {
      "needs_background": "light"
     },
     "output_type": "display_data"
    },
    {
     "name": "stdout",
     "output_type": "stream",
     "text": [
      "Sensibilidad = 1.0\n",
      "Especifidad = 0.75\n",
      "Precisión = 0.8333333333333334\n",
      "Exactitud = 0.8888888888888888\n"
     ]
    }
   ],
   "source": [
    "#Matriz de confusión y Curva ROC Regresión Logística\n",
    "fig, axes = plt.subplots(nrows=1, ncols=2, figsize = (14,5))\n",
    "axes = axes.flatten()\n",
    "\n",
    "#Matriz de confusión\n",
    "ax = axes[0]\n",
    "TN_lr, FP_lr, FN_lr, TP_lr = confusion_matrix(y_test,y_pred_vec_10, labels=['Democrat','Republican']).ravel()\n",
    "sns.heatmap([[TN_lr, FP_lr],[FN_lr, TP_lr]], annot=True,cmap=plt.cm.Blues,ax=ax)\n",
    "ax.set_ylabel('Valores verdaderos')\n",
    "ax.set_xlabel('Valores predichos')\n",
    "ax.set_title('Matriz de Confusión Regresión Logística')\n",
    "#Curva ROC\n",
    "ax = axes[1]\n",
    "fpr_lr, tpr_lr, thresholds_lr = roc_curve(y_test, lr_10.predict_proba(X_test_vec)[:,1],pos_label='Republican')\n",
    "auc_lr = roc_auc_score(y_test,lr_10.predict_proba(X_test_vec)[:,1])\n",
    "ax.set_xlabel('FPR = 1-Especifidad')\n",
    "ax.set_ylabel('TPR = Sensibilidad')\n",
    "ax.plot(fpr_lr, tpr_lr, label=\"AUC Regresión Logística=\"+str(auc_lr))\n",
    "ax.plot([0,1], [0,1], 'k--', color='grey')\n",
    "ax.set_title('Curva ROC Regresión Logística')\n",
    "ax.legend(loc='lower right')\n",
    "plt.show()\n",
    "\n",
    "Sensibilidad_lr,Especifidad_lr,Precision_lr,Exactitud_lr = metricas (TN_lr, FP_lr, FN_lr, TP_lr)\n",
    "\n",
    "print(f'Sensibilidad = {Sensibilidad_lr}\\nEspecifidad = {Especifidad_lr}\\nPrecisión = {Precision_lr}\\nExactitud = {Exactitud_lr}')"
   ]
  },
  {
   "cell_type": "markdown",
   "metadata": {},
   "source": [
    "Estos resultados presentan una mejoría notable en el área bajo la curva con un valor de 0.95. Ya estamos tratando con un modelo aún mejor. Sin embargo, aún tenemos métricas idénticas de Sensibilidad, Especificidad, Precisión y Exactitud. El modelo sigue sin poder clasificar 2 presidentes de manera correcta. \n",
    "\n",
    "Si bien no existe una mejora en las 4 métricas vistas, este modelo se podría tomar como una mejoría al anterior ya que probablemente funcionaría mejor con nueva data y más data."
   ]
  },
  {
   "cell_type": "markdown",
   "metadata": {},
   "source": [
    "Debido a que se encontró un modelo mejorado, ahora estudiaremos el comportamiento de las métricas para **distintos umbrales o threshholds**"
   ]
  },
  {
   "cell_type": "code",
   "execution_count": 30,
   "metadata": {},
   "outputs": [],
   "source": [
    "# Se crea la función \"print_metrics\" para calcular los indicadores de la matríz de confusión en distintos umbrales\n",
    "def print_metrics (probabilidades, y_test, num_tr):\n",
    "\n",
    "    df_prob = pd.DataFrame(probabilidades[:,1])\n",
    "    df_metricas = pd.DataFrame(columns = [round(x/num_tr,2) for x in range(1, num_tr)], \n",
    "                               index=['TP','FN','FP','TN','Sensibilidad','Especifidad','Precision','Exactitud'])\n",
    "    for i in range(1,num_tr):\n",
    "        y_test = y_test.reset_index(drop=True)\n",
    "        df_prob['prediction']=np.where(df_prob[0]>i/num_tr,'Republican','Democrat')\n",
    "        df_prob['actual'] = y_test\n",
    "        TN, FP, FN, TP = confusion_matrix(df_prob['actual'],df_prob['prediction'],labels=['Democrat','Republican']).ravel()\n",
    "        Sensibilidad,Especifidad,Precision,Exactitud = metricas(TN, FP, FN, TP)\n",
    "        df_metricas[round(i/num_tr,2)] = pd.Series({'TP':TP, 'FN':FN, 'FP':FP, 'TN':TN, \n",
    "                                              'Sensibilidad':round(Sensibilidad,2), 'Especifidad':round(Especifidad,2), \n",
    "                                              'Precision':round(Precision,2), 'Exactitud':round(Exactitud,2)})\n",
    "    return df_metricas"
   ]
  },
  {
   "cell_type": "code",
   "execution_count": 31,
   "metadata": {},
   "outputs": [
    {
     "data": {
      "text/html": [
       "<div>\n",
       "<style scoped>\n",
       "    .dataframe tbody tr th:only-of-type {\n",
       "        vertical-align: middle;\n",
       "    }\n",
       "\n",
       "    .dataframe tbody tr th {\n",
       "        vertical-align: top;\n",
       "    }\n",
       "\n",
       "    .dataframe thead th {\n",
       "        text-align: right;\n",
       "    }\n",
       "</style>\n",
       "<table border=\"1\" class=\"dataframe\">\n",
       "  <thead>\n",
       "    <tr style=\"text-align: right;\">\n",
       "      <th></th>\n",
       "      <th>0.05</th>\n",
       "      <th>0.10</th>\n",
       "      <th>0.15</th>\n",
       "      <th>0.20</th>\n",
       "      <th>0.25</th>\n",
       "      <th>0.30</th>\n",
       "      <th>0.35</th>\n",
       "      <th>0.40</th>\n",
       "      <th>0.45</th>\n",
       "      <th>0.50</th>\n",
       "      <th>0.55</th>\n",
       "      <th>0.60</th>\n",
       "      <th>0.65</th>\n",
       "      <th>0.70</th>\n",
       "      <th>0.75</th>\n",
       "      <th>0.80</th>\n",
       "      <th>0.85</th>\n",
       "      <th>0.90</th>\n",
       "      <th>0.95</th>\n",
       "    </tr>\n",
       "  </thead>\n",
       "  <tbody>\n",
       "    <tr>\n",
       "      <th>TP</th>\n",
       "      <td>10.00</td>\n",
       "      <td>10.00</td>\n",
       "      <td>10.00</td>\n",
       "      <td>10.00</td>\n",
       "      <td>10.00</td>\n",
       "      <td>10.00</td>\n",
       "      <td>10.00</td>\n",
       "      <td>10.00</td>\n",
       "      <td>10.00</td>\n",
       "      <td>10.00</td>\n",
       "      <td>10.00</td>\n",
       "      <td>9.00</td>\n",
       "      <td>9.00</td>\n",
       "      <td>9.00</td>\n",
       "      <td>8.00</td>\n",
       "      <td>7.00</td>\n",
       "      <td>7.00</td>\n",
       "      <td>5.00</td>\n",
       "      <td>1.0</td>\n",
       "    </tr>\n",
       "    <tr>\n",
       "      <th>FN</th>\n",
       "      <td>0.00</td>\n",
       "      <td>0.00</td>\n",
       "      <td>0.00</td>\n",
       "      <td>0.00</td>\n",
       "      <td>0.00</td>\n",
       "      <td>0.00</td>\n",
       "      <td>0.00</td>\n",
       "      <td>0.00</td>\n",
       "      <td>0.00</td>\n",
       "      <td>0.00</td>\n",
       "      <td>0.00</td>\n",
       "      <td>1.00</td>\n",
       "      <td>1.00</td>\n",
       "      <td>1.00</td>\n",
       "      <td>2.00</td>\n",
       "      <td>3.00</td>\n",
       "      <td>3.00</td>\n",
       "      <td>5.00</td>\n",
       "      <td>9.0</td>\n",
       "    </tr>\n",
       "    <tr>\n",
       "      <th>FP</th>\n",
       "      <td>8.00</td>\n",
       "      <td>5.00</td>\n",
       "      <td>3.00</td>\n",
       "      <td>2.00</td>\n",
       "      <td>2.00</td>\n",
       "      <td>2.00</td>\n",
       "      <td>2.00</td>\n",
       "      <td>2.00</td>\n",
       "      <td>2.00</td>\n",
       "      <td>2.00</td>\n",
       "      <td>2.00</td>\n",
       "      <td>2.00</td>\n",
       "      <td>2.00</td>\n",
       "      <td>1.00</td>\n",
       "      <td>1.00</td>\n",
       "      <td>1.00</td>\n",
       "      <td>0.00</td>\n",
       "      <td>0.00</td>\n",
       "      <td>0.0</td>\n",
       "    </tr>\n",
       "    <tr>\n",
       "      <th>TN</th>\n",
       "      <td>0.00</td>\n",
       "      <td>3.00</td>\n",
       "      <td>5.00</td>\n",
       "      <td>6.00</td>\n",
       "      <td>6.00</td>\n",
       "      <td>6.00</td>\n",
       "      <td>6.00</td>\n",
       "      <td>6.00</td>\n",
       "      <td>6.00</td>\n",
       "      <td>6.00</td>\n",
       "      <td>6.00</td>\n",
       "      <td>6.00</td>\n",
       "      <td>6.00</td>\n",
       "      <td>7.00</td>\n",
       "      <td>7.00</td>\n",
       "      <td>7.00</td>\n",
       "      <td>8.00</td>\n",
       "      <td>8.00</td>\n",
       "      <td>8.0</td>\n",
       "    </tr>\n",
       "    <tr>\n",
       "      <th>Sensibilidad</th>\n",
       "      <td>1.00</td>\n",
       "      <td>1.00</td>\n",
       "      <td>1.00</td>\n",
       "      <td>1.00</td>\n",
       "      <td>1.00</td>\n",
       "      <td>1.00</td>\n",
       "      <td>1.00</td>\n",
       "      <td>1.00</td>\n",
       "      <td>1.00</td>\n",
       "      <td>1.00</td>\n",
       "      <td>1.00</td>\n",
       "      <td>0.90</td>\n",
       "      <td>0.90</td>\n",
       "      <td>0.90</td>\n",
       "      <td>0.80</td>\n",
       "      <td>0.70</td>\n",
       "      <td>0.70</td>\n",
       "      <td>0.50</td>\n",
       "      <td>0.1</td>\n",
       "    </tr>\n",
       "    <tr>\n",
       "      <th>Especifidad</th>\n",
       "      <td>0.00</td>\n",
       "      <td>0.38</td>\n",
       "      <td>0.62</td>\n",
       "      <td>0.75</td>\n",
       "      <td>0.75</td>\n",
       "      <td>0.75</td>\n",
       "      <td>0.75</td>\n",
       "      <td>0.75</td>\n",
       "      <td>0.75</td>\n",
       "      <td>0.75</td>\n",
       "      <td>0.75</td>\n",
       "      <td>0.75</td>\n",
       "      <td>0.75</td>\n",
       "      <td>0.88</td>\n",
       "      <td>0.88</td>\n",
       "      <td>0.88</td>\n",
       "      <td>1.00</td>\n",
       "      <td>1.00</td>\n",
       "      <td>1.0</td>\n",
       "    </tr>\n",
       "    <tr>\n",
       "      <th>Precision</th>\n",
       "      <td>0.56</td>\n",
       "      <td>0.67</td>\n",
       "      <td>0.77</td>\n",
       "      <td>0.83</td>\n",
       "      <td>0.83</td>\n",
       "      <td>0.83</td>\n",
       "      <td>0.83</td>\n",
       "      <td>0.83</td>\n",
       "      <td>0.83</td>\n",
       "      <td>0.83</td>\n",
       "      <td>0.83</td>\n",
       "      <td>0.82</td>\n",
       "      <td>0.82</td>\n",
       "      <td>0.90</td>\n",
       "      <td>0.89</td>\n",
       "      <td>0.88</td>\n",
       "      <td>1.00</td>\n",
       "      <td>1.00</td>\n",
       "      <td>1.0</td>\n",
       "    </tr>\n",
       "    <tr>\n",
       "      <th>Exactitud</th>\n",
       "      <td>0.56</td>\n",
       "      <td>0.72</td>\n",
       "      <td>0.83</td>\n",
       "      <td>0.89</td>\n",
       "      <td>0.89</td>\n",
       "      <td>0.89</td>\n",
       "      <td>0.89</td>\n",
       "      <td>0.89</td>\n",
       "      <td>0.89</td>\n",
       "      <td>0.89</td>\n",
       "      <td>0.89</td>\n",
       "      <td>0.83</td>\n",
       "      <td>0.83</td>\n",
       "      <td>0.89</td>\n",
       "      <td>0.83</td>\n",
       "      <td>0.78</td>\n",
       "      <td>0.83</td>\n",
       "      <td>0.72</td>\n",
       "      <td>0.5</td>\n",
       "    </tr>\n",
       "  </tbody>\n",
       "</table>\n",
       "</div>"
      ],
      "text/plain": [
       "               0.05   0.10   0.15   0.20   0.25   0.30   0.35   0.40   0.45  \\\n",
       "TP            10.00  10.00  10.00  10.00  10.00  10.00  10.00  10.00  10.00   \n",
       "FN             0.00   0.00   0.00   0.00   0.00   0.00   0.00   0.00   0.00   \n",
       "FP             8.00   5.00   3.00   2.00   2.00   2.00   2.00   2.00   2.00   \n",
       "TN             0.00   3.00   5.00   6.00   6.00   6.00   6.00   6.00   6.00   \n",
       "Sensibilidad   1.00   1.00   1.00   1.00   1.00   1.00   1.00   1.00   1.00   \n",
       "Especifidad    0.00   0.38   0.62   0.75   0.75   0.75   0.75   0.75   0.75   \n",
       "Precision      0.56   0.67   0.77   0.83   0.83   0.83   0.83   0.83   0.83   \n",
       "Exactitud      0.56   0.72   0.83   0.89   0.89   0.89   0.89   0.89   0.89   \n",
       "\n",
       "               0.50   0.55  0.60  0.65  0.70  0.75  0.80  0.85  0.90  0.95  \n",
       "TP            10.00  10.00  9.00  9.00  9.00  8.00  7.00  7.00  5.00   1.0  \n",
       "FN             0.00   0.00  1.00  1.00  1.00  2.00  3.00  3.00  5.00   9.0  \n",
       "FP             2.00   2.00  2.00  2.00  1.00  1.00  1.00  0.00  0.00   0.0  \n",
       "TN             6.00   6.00  6.00  6.00  7.00  7.00  7.00  8.00  8.00   8.0  \n",
       "Sensibilidad   1.00   1.00  0.90  0.90  0.90  0.80  0.70  0.70  0.50   0.1  \n",
       "Especifidad    0.75   0.75  0.75  0.75  0.88  0.88  0.88  1.00  1.00   1.0  \n",
       "Precision      0.83   0.83  0.82  0.82  0.90  0.89  0.88  1.00  1.00   1.0  \n",
       "Exactitud      0.89   0.89  0.83  0.83  0.89  0.83  0.78  0.83  0.72   0.5  "
      ]
     },
     "execution_count": 31,
     "metadata": {},
     "output_type": "execute_result"
    }
   ],
   "source": [
    "# Aplicamos la función declarada en el segmento anterior\n",
    "probabilidades = lr_10.predict_proba(X_test_vec)\n",
    "lr_10_th = print_metrics(probabilidades,y_test,20)\n",
    "lr_10_th"
   ]
  },
  {
   "cell_type": "markdown",
   "metadata": {},
   "source": [
    "En el tabla mostrada se pueden observar las métricas para 20 diferentes umbrales. De nuevo, esto ayudaría a ajustar el threshold en caso de necesitar priorizar los positivos y los negativos, o en caso de clases desbalanceadas. En este contexto, inspeccionamos si existe alguna tendencia hacia mayores o menores de 0.5 que mejoren la clasificación pero no se observa nada de esto."
   ]
  },
  {
   "cell_type": "markdown",
   "metadata": {},
   "source": [
    "### Support Vector Machine"
   ]
  },
  {
   "cell_type": "markdown",
   "metadata": {},
   "source": [
    "Ahora se aplicará otro método de clasificación para resolver este problema. En este caso se utilizará un soporte de vectores de máquina."
   ]
  },
  {
   "cell_type": "markdown",
   "metadata": {},
   "source": [
    "Iniciamos con una aplicación estándar sin una búsqueda de optimización de los hiperparámetros"
   ]
  },
  {
   "cell_type": "code",
   "execution_count": 32,
   "metadata": {},
   "outputs": [
    {
     "name": "stdout",
     "output_type": "stream",
     "text": [
      "[[ 6  2]\n",
      " [ 0 10]]\n"
     ]
    }
   ],
   "source": [
    "from sklearn import svm\n",
    "svm = svm.SVC()\n",
    "svm.fit(X_train_vec, y_train)\n",
    "\n",
    "y_pred_vec_svm = svm.predict(X_test_vec)\n",
    "y_pred_vec_svm\n",
    "\n",
    "print(confusion_matrix(y_test, y_pred_vec_svm))"
   ]
  },
  {
   "cell_type": "markdown",
   "metadata": {},
   "source": [
    "Se buscarán los parámetros que luego de una cross validation de 4 hojas obtenga el mejor score"
   ]
  },
  {
   "cell_type": "code",
   "execution_count": 33,
   "metadata": {},
   "outputs": [
    {
     "name": "stdout",
     "output_type": "stream",
     "text": [
      "Mejor estimador SVM =  SVC(C=10, kernel='linear', random_state=23)\n",
      "\n",
      "Hiperparámetros = {'C': 10, 'degree': 3, 'kernel': 'linear'}\n",
      "\n",
      "Mejor Score = 0.95\n"
     ]
    }
   ],
   "source": [
    "#Parámetros a iterar en el GridSearch\n",
    "svc_grid = {'C' : [0.01,0.02,0.05,0.1,0.2,0.3,0.4,0.5,1,10],\n",
    "         'kernel': ['rbf','poly','linear'],\n",
    "         'degree' : [3,4,5,6,7,8,9,10,20,30]}\n",
    "\n",
    "# Definición del modelo\n",
    "svc = SVC(random_state=23)\n",
    "\n",
    "#Definición de GriSearch con parámetros asignados y CrossValidation Folds = 4\n",
    "grid_SVC = GridSearchCV(svc, svc_grid, cv = 4)\n",
    "\n",
    "#Se ejecuta el fit del modelo\n",
    "grid_SVC.fit(X_train_vec,y_train)\n",
    "\n",
    "#Se imprime el mejor estimador, para usar los hiperparámetros en el modelo\n",
    "print(\"Mejor estimador SVM = \",grid_SVC.best_estimator_)\n",
    "print(\"\\nHiperparámetros =\",grid_SVC.best_params_)\n",
    "print(\"\\nMejor Score =\",grid_SVC.best_score_)"
   ]
  },
  {
   "cell_type": "markdown",
   "metadata": {},
   "source": [
    "Utilizamos estos parámetros para hacer nuestro fit del modelo"
   ]
  },
  {
   "cell_type": "code",
   "execution_count": 34,
   "metadata": {},
   "outputs": [
    {
     "data": {
      "text/plain": [
       "SVC(C=10, kernel='linear', probability=True)"
      ]
     },
     "execution_count": 34,
     "metadata": {},
     "output_type": "execute_result"
    }
   ],
   "source": [
    "svc_model = SVC(C=10,\n",
    "                probability = True,\n",
    "                kernel = 'linear',\n",
    "                degree = 3,           \n",
    ")\n",
    "\n",
    "svc_model.fit(X_train_vec,y_train)"
   ]
  },
  {
   "cell_type": "code",
   "execution_count": 35,
   "metadata": {},
   "outputs": [
    {
     "name": "stdout",
     "output_type": "stream",
     "text": [
      "Sensibilidad = 1.0\n",
      "Especifidad = 0.75\n",
      "Precisión = 0.8333333333333334\n",
      "Exactitud = 0.8888888888888888\n"
     ]
    }
   ],
   "source": [
    "#Predicciones en el set de test\n",
    "svm_y_pred=svc_model.predict(X_test_vec)\n",
    "\n",
    "#Se procede a imprimir métricas\n",
    "TN_sv, FP_sv, FN_sv, TP_sv = confusion_matrix(y_test,svm_y_pred, labels=['Democrat','Republican']).ravel()\n",
    "Sensibilidad_sv,Especifidad_sv,Precision_sv,Exactitud_sv = metricas (TN_sv, FP_sv, FN_sv, TP_sv)\n",
    "\n",
    "print(f'Sensibilidad = {Sensibilidad_sv}\\nEspecifidad = {Especifidad_sv}\\nPrecisión = {Precision_sv}\\nExactitud = {Exactitud_sv}')"
   ]
  },
  {
   "cell_type": "markdown",
   "metadata": {},
   "source": [
    "Se puede observar métricas idénticas al caso anterior y ahora procederemos a graficar la matriz de confusión junto con la curva ROC."
   ]
  },
  {
   "cell_type": "code",
   "execution_count": 36,
   "metadata": {},
   "outputs": [
    {
     "data": {
      "image/png": "[encoded data removed]",
      "text/plain": [
       "<Figure size 1008x360 with 3 Axes>"
      ]
     },
     "metadata": {
      "needs_background": "light"
     },
     "output_type": "display_data"
    },
    {
     "name": "stdout",
     "output_type": "stream",
     "text": [
      "Sensibilidad = 1.0\n",
      "Especifidad = 0.75\n",
      "Precisión = 0.8333333333333334\n",
      "Exactitud = 0.8888888888888888\n"
     ]
    }
   ],
   "source": [
    "fig, axes = plt.subplots(nrows=1, ncols=2, figsize = (14,5))\n",
    "axes = axes.flatten()\n",
    "\n",
    "#Matriz de confusión\n",
    "ax = axes[0]\n",
    "TN_sv, FP_sv, FN_sv, TP_sv = confusion_matrix(y_test,svm_y_pred, labels=['Democrat','Republican']).ravel()\n",
    "sns.heatmap([[TN_sv, FP_sv],[FN_sv, TP_sv]], annot=True,cmap=plt.cm.Blues,ax=ax)\n",
    "ax.set_ylabel('Valores verdaderos')\n",
    "ax.set_xlabel('Valores predichos')\n",
    "ax.set_title('Matriz de Confusión Regresión Logística')\n",
    "#Curva ROC\n",
    "ax = axes[1]\n",
    "fpr_sv, tpr_sv, thresholds_sv = roc_curve(y_test, svc_model.predict_proba(X_test_vec)[:,1],pos_label='Republican')\n",
    "auc_sv = roc_auc_score(y_test,svc_model.predict_proba(X_test_vec)[:,1])\n",
    "ax.set_xlabel('FPR = 1-Especifidad')\n",
    "ax.set_ylabel('TPR = Sensibilidad')\n",
    "ax.plot(fpr_lr, tpr_lr, label=\"AUC Regresión Logística=\"+str(auc_sv))\n",
    "ax.plot([0,1], [0,1], 'k--', color='grey')\n",
    "ax.set_title('Curva ROC Regresión Logística')\n",
    "ax.legend(loc='lower right')\n",
    "plt.show()\n",
    "\n",
    "Sensibilidad_sv,Especifidad_sv,Precision_sv,Exactitud_sv = metricas (TN_sv, FP_sv, FN_sv, TP_sv)\n",
    "\n",
    "print(f'Sensibilidad = {Sensibilidad_sv}\\nEspecifidad = {Especifidad_sv}\\nPrecisión = {Precision_sv}\\nExactitud = {Exactitud_sv}')"
   ]
  },
  {
   "cell_type": "markdown",
   "metadata": {},
   "source": [
    "Finalmente y para este modelo final se mostrarán los resultados aplicando CV de 5 hojas, y así comprobar si el modelo no presenta overfitting."
   ]
  },
  {
   "cell_type": "code",
   "execution_count": 37,
   "metadata": {},
   "outputs": [
    {
     "name": "stdout",
     "output_type": "stream",
     "text": [
      "Exactitud para la CV #0: 1.0\n",
      "Exactitud para la CV #1: 1.0\n",
      "Exactitud para la CV #2: 1.0\n",
      "Exactitud para la CV #3: 0.875\n",
      "Exactitud para la CV #4: 1.0\n",
      "\n",
      "Exactitud promedio en Cross Validation = 0.975\n"
     ]
    }
   ],
   "source": [
    "# Se ejecuta Cross Validation al set completo para comprobar que el primer train/test split no está sesgado\n",
    "from sklearn.model_selection import KFold\n",
    "from sklearn.model_selection import cross_val_score\n",
    "from sklearn.model_selection import cross_validate\n",
    "\n",
    "cv = KFold(n_splits=5, shuffle=True, random_state=23)\n",
    "i=1\n",
    "scores_svc = []\n",
    "for i, score in enumerate(cross_validate(svc_model, X_train_vec,y_train, cv=cv, scoring ='accuracy')[\"test_score\"]):\n",
    "    print(f\"Exactitud para la CV #{i}: {score}\")\n",
    "    scores_svc.append(score)\n",
    "\n",
    "cross_validation_score_svc = np.mean(scores_svc)\n",
    "print('\\nExactitud promedio en Cross Validation =',cross_validation_score_svc)"
   ]
  },
  {
   "cell_type": "markdown",
   "metadata": {},
   "source": [
    "Se observa como los resultados de la métrica exactitud no llegan a diferir más de 15% y teniendo en cuenta el tamaño del conjunto de datos podemos quedar satisfechos con el desempeño del modelo también en este aspecto."
   ]
  },
  {
   "cell_type": "markdown",
   "metadata": {},
   "source": [
    "### Consideraciones finales\n",
    "\n",
    "* Fueron aplicados de manera satisfactoria diferentes métodos de Machine Learning para la clasificación por partidos de los discursos de presidentes de Estados Unidos. Tanto el algoritmo de SVM y Regresión logística en sus versiones con parámetros optimizados lograron resultados más que satisfactorios con un AUC de 0.95 Y una exactitud de 88.8%.\n",
    "\n",
    "\n",
    "* Una de las principales preocupaciones al estudiar el problema tenía que ver con la cantidad de datos. Estos no llegaban a los 100 y por tanto el riesgo de no hallar un modelo adecuado estaba presente. Además, para despejar cualquier duda de overfitting se aplicó al modelo final un KFold Cross Validation el cual confirmó el desempeño adecuado del modelo de SVM.\n",
    "\n",
    "\n",
    "* En el aspecto de preprocesamiento de datos cabe destacar el lado eurístico de la metodología. Para llegar a un diccionario final de stopwords y ngramas a considerar fueron necesarias diferentes iteraciones y consideraciones que en definitiva influyeron en el resultado obtenido, el cual podemos asegurar que resultó satisfactorio y por encima de lo esperado. "
   ]
  },
  {
   "cell_type": "markdown",
   "metadata": {},
   "source": [
    "## Análisis de tópicos \n",
    "### Trump vs Obama"
   ]
  },
  {
   "cell_type": "markdown",
   "metadata": {},
   "source": [
    "*Disclaimer:* El ejercicio está inspirado en la metodologia extraída de https://www.machinelearningplus.com/nlp/topic-modeling-gensim-python/#17howtofindtheoptimalnumberoftopicsforlda, con un corpus distinto\n"
   ]
  },
  {
   "cell_type": "markdown",
   "metadata": {},
   "source": [
    "Se separan en dos datasets los discursos pertenecientes a Donald Trump y Barack Obama"
   ]
  },
  {
   "cell_type": "code",
   "execution_count": 38,
   "metadata": {},
   "outputs": [],
   "source": [
    "df_trump = df_2[df_2['President'] == 'Donald J. Trump']\n",
    "df_obama = df_2[df_2['President'] == 'Barack Obama']"
   ]
  },
  {
   "cell_type": "markdown",
   "metadata": {},
   "source": [
    "Se preparan los datos para aplicar el modelo LDA (Latent Dirichlet Allocation)"
   ]
  },
  {
   "cell_type": "code",
   "execution_count": 39,
   "metadata": {
    "scrolled": true
   },
   "outputs": [],
   "source": [
    "id2word = corpora.Dictionary(df_obama['Speech'])\n",
    "\n",
    "# Se filtran las palabras límites desgún frecuencia\n",
    "id2word.filter_extremes(no_below=2, no_above=0.7)\n",
    "\n",
    "# Creamos los corpus\n",
    "texts = df_obama['Speech']\n",
    "\n",
    "# Se obtienen las frecuencias de las palabras en los corpus\n",
    "corpus = [id2word.doc2bow(text) for text in texts]\n"
   ]
  },
  {
   "cell_type": "code",
   "execution_count": 40,
   "metadata": {},
   "outputs": [
    {
     "data": {
      "text/plain": [
       "[(0,\n",
       "  '0.004*\"leadership\" + 0.003*\"spending\" + 0.003*\"quality\" + 0.002*\"leave\" + 0.002*\"win\" + 0.002*\"voice\" + 0.002*\"isil\" + 0.002*\"afghan\" + 0.002*\"matter\" + 0.002*\"point\" + 0.002*\"highest\" + 0.002*\"network\" + 0.002*\"internet\" + 0.002*\"coming\" + 0.002*\"play\"'),\n",
       " (1,\n",
       "  '0.002*\"spending\" + 0.002*\"leadership\" + 0.002*\"hundred\" + 0.002*\"second\" + 0.002*\"worse\" + 0.002*\"matter\" + 0.002*\"quality\" + 0.002*\"leave\" + 0.002*\"task\" + 0.002*\"minimum\" + 0.002*\"workforce\" + 0.002*\"serious\" + 0.002*\"lost\" + 0.002*\"prosperity\" + 0.002*\"address\"'),\n",
       " (2,\n",
       "  '0.004*\"spending\" + 0.004*\"leadership\" + 0.003*\"close\" + 0.003*\"second\" + 0.003*\"solve\" + 0.002*\"result\" + 0.002*\"serious\" + 0.002*\"political\" + 0.002*\"moment\" + 0.002*\"election\" + 0.002*\"quality\" + 0.002*\"senate\" + 0.002*\"lending\" + 0.002*\"win\" + 0.002*\"lobbyist\"'),\n",
       " (3,\n",
       "  '0.003*\"natural\" + 0.003*\"leadership\" + 0.003*\"speed\" + 0.003*\"spending\" + 0.003*\"minimum\" + 0.003*\"afghan\" + 0.002*\"matter\" + 0.002*\"offer\" + 0.002*\"point\" + 0.002*\"manufacturer\" + 0.002*\"mortgage\" + 0.002*\"tech\" + 0.002*\"internet\" + 0.002*\"quality\" + 0.002*\"comprehensive\"')]"
      ]
     },
     "execution_count": 40,
     "metadata": {},
     "output_type": "execute_result"
    }
   ],
   "source": [
    "from gensim.models import LdaModel \n",
    "\n",
    "# Se aplica el modelo LDA\n",
    "lda=models.ldamodel.LdaModel(corpus=corpus, id2word=id2word, num_topics=4)\n",
    "\n",
    "lda.print_topics(num_words=15)"
   ]
  },
  {
   "cell_type": "markdown",
   "metadata": {},
   "source": [
    "Se visualizan los cuatro tópicos de manera que facilite el analisis posteriormente "
   ]
  },
  {
   "cell_type": "code",
   "execution_count": 41,
   "metadata": {},
   "outputs": [
    {
     "data": {
      "text/html": [
       "\n",
       "<link rel=\"stylesheet\" type=\"text/css\" href=\"https://cdn.rawgit.com/bmabey/pyLDAvis/files/ldavis.v1.0.0.css\">\n",
       "\n",
       "\n",
       "<div id=\"ldavis_el37238140575168220512870057928\"></div>\n",
       "<script type=\"text/javascript\">\n",
       "\n",
       "var ldavis_el37238140575168220512870057928_data = {\"mdsDat\": {\"x\": [0.009345872249476065, -9.542090721095682e-05, -0.00824599749323021, -0.0010044538490348945], \"y\": [0.00029065748004336096, -0.0035209040566521036, -2.6543797914158855e-05, 0.003256790374522903], \"topics\": [1, 2, 3, 4], \"cluster\": [1, 1, 1, 1], \"Freq\": [47.04152297973633, 39.88778305053711, 13.03092098236084, 0.03976764902472496]}, \"tinfo\": {\"Term\": [\"spending\", \"leadership\", \"matter\", \"hundred\", \"quality\", \"second\", \"minimum\", \"worse\", \"leave\", \"afghan\", \"speed\", \"workforce\", \"win\", \"mortgage\", \"prosperity\", \"natural\", \"task\", \"serious\", \"choose\", \"result\", \"address\", \"tech\", \"tell\", \"close\", \"return\", \"play\", \"lost\", \"resource\", \"election\", \"looking\", \"natural\", \"son\", \"guide\", \"lender\", \"safely\", \"huge\", \"barely\", \"adding\", \"secretary\", \"shared\", \"economist\", \"minimum\", \"counterterrorism\", \"stress\", \"core\", \"reducing\", \"obligation\", \"losing\", \"budged\", \"builder\", \"cleaner\", \"speed\", \"relief\", \"strongly\", \"capacity\", \"steve\", \"offer\", \"requiring\", \"mom\", \"invent\", \"wrote\", \"governor\", \"citizenship\", \"remember\", \"develop\", \"brought\", \"impact\", \"least\", \"manufacturer\", \"tech\", \"remain\", \"buy\", \"mortgage\", \"partner\", \"living\", \"faith\", \"afghan\", \"ceo\", \"sign\", \"employer\", \"matter\", \"point\", \"comprehensive\", \"internet\", \"almost\", \"spending\", \"confidence\", \"leadership\", \"important\", \"lending\", \"moment\", \"old\", \"coming\", \"quality\", \"hundred\", \"wait\", \"isil\", \"reality\", \"international\", \"sanction\", \"bought\", \"wealth\", \"believed\", \"per\", \"saved\", \"civil\", \"intention\", \"bold\", \"scientist\", \"spread\", \"delivered\", \"leave\", \"weaken\", \"medicine\", \"voice\", \"rolling\", \"safeguard\", \"diplomacy\", \"partisanship\", \"abuse\", \"warmest\", \"ebola\", \"rancor\", \"highest\", \"recruit\", \"scientific\", \"childcare\", \"decline\", \"watching\", \"justice\", \"try\", \"online\", \"spirit\", \"might\", \"leadership\", \"clear\", \"costly\", \"win\", \"quality\", \"achieve\", \"fastest\", \"resource\", \"network\", \"asked\", \"pursue\", \"taken\", \"worse\", \"spending\", \"workforce\", \"play\", \"mission\", \"point\", \"wealthiest\", \"matter\", \"afghan\", \"coming\", \"walk\", \"internet\", \"confidence\", \"gave\", \"called\", \"almost\", \"old\", \"loophole\", \"tech\", \"comprehensive\", \"lobbyist\", \"decency\", \"surplus\", \"leaf\", \"relation\", \"addressing\", \"upon\", \"naive\", \"evidence\", \"epidemic\", \"fighter\", \"fourth\", \"kill\", \"background\", \"fiscal\", \"inevitable\", \"upholding\", \"maintain\", \"speaking\", \"extended\", \"freeze\", \"movement\", \"relieve\", \"sits\", \"failing\", \"valley\", \"resilience\", \"disagreement\", \"second\", \"nurse\", \"solve\", \"thought\", \"result\", \"request\", \"senate\", \"serious\", \"political\", \"easy\", \"close\", \"starting\", \"difficult\", \"election\", \"hear\", \"spending\", \"sent\", \"lesson\", \"try\", \"tough\", \"moment\", \"burden\", \"childcare\", \"address\", \"leadership\", \"service\", \"lending\", \"harder\", \"conflict\", \"certain\", \"depend\", \"fastest\", \"win\", \"lost\", \"sick\", \"quality\", \"taken\", \"leave\", \"hundred\", \"spirit\", \"thanks\", \"called\", \"internet\", \"hopeful\", \"competitor\", \"highly\", \"ambitious\", \"ability\", \"tempting\", \"threaten\", \"temperature\", \"adversity\", \"pathway\", \"larger\", \"leaving\", \"providing\", \"capital\", \"disagreement\", \"corrosive\", \"expert\", \"launching\", \"inevitable\", \"depression\", \"duty\", \"influence\", \"evidence\", \"healthier\", \"ran\", \"surplus\", \"seems\", \"trading\", \"organization\", \"reject\", \"lobbyist\", \"harder\", \"worse\", \"hundred\", \"second\", \"lost\", \"quo\", \"belief\", \"creation\", \"task\", \"saying\", \"return\", \"commission\", \"expect\", \"double\", \"address\", \"clear\", \"diploma\", \"online\", \"spent\", \"serious\", \"tell\", \"rising\", \"choose\", \"prosperity\", \"result\", \"looking\", \"leave\", \"succeed\", \"workforce\", \"childcare\", \"spending\", \"matter\", \"election\", \"minimum\", \"quality\", \"isil\", \"leadership\", \"resource\", \"win\", \"mortgage\", \"close\", \"afghan\", \"play\", \"speed\"], \"Freq\": [17.0, 21.0, 13.0, 9.0, 14.0, 9.0, 11.0, 8.0, 10.0, 14.0, 13.0, 10.0, 12.0, 11.0, 9.0, 13.0, 8.0, 9.0, 9.0, 9.0, 8.0, 11.0, 8.0, 10.0, 7.0, 10.0, 7.0, 9.0, 9.0, 8.0, 8.947649955749512, 5.094237327575684, 2.2307631969451904, 3.456672430038452, 1.6477335691452026, 2.123746871948242, 2.2587451934814453, 3.3926024436950684, 2.695340156555176, 3.44720721244812, 3.6511783599853516, 7.545018672943115, 2.361239433288574, 1.6104848384857178, 2.2302017211914062, 3.432342767715454, 2.623164176940918, 1.678435206413269, 1.569057822227478, 1.6764060258865356, 3.728919744491577, 8.19568157196045, 3.267512083053589, 2.200650215148926, 3.715287685394287, 2.187809467315674, 6.75311279296875, 1.5902241468429565, 3.9655094146728516, 1.5255110263824463, 3.291677713394165, 5.197184085845947, 4.346580982208252, 5.080169677734375, 4.055451393127441, 4.159976482391357, 3.7961950302124023, 5.146008014678955, 6.493074893951416, 6.3370137214660645, 4.421552658081055, 5.880467891693115, 6.379854202270508, 4.291629314422607, 5.278402805328369, 5.416333198547363, 7.293062686920166, 4.782275676727295, 4.859627723693848, 4.969834327697754, 6.973724842071533, 6.627307891845703, 5.963247776031494, 6.253063201904297, 5.702067852020264, 7.828155040740967, 5.795018196105957, 8.771034240722656, 5.495174884796143, 5.432187080383301, 5.624354362487793, 5.3772711753845215, 5.563443183898926, 6.028805732727051, 5.077234268188477, 5.118241786956787, 5.534654140472412, 1.9176793098449707, 3.822754383087158, 2.427089214324951, 1.808822512626648, 1.7461704015731812, 3.0861659049987793, 2.6097285747528076, 1.3161381483078003, 2.0580930709838867, 1.2725576162338257, 2.215151786804199, 4.4311089515686035, 3.47383975982666, 1.5923572778701782, 5.662590026855469, 2.0565733909606934, 1.5533040761947632, 5.538479328155518, 1.2436777353286743, 1.243874192237854, 3.0996181964874268, 1.0932388305664062, 2.786224126815796, 1.545910358428955, 1.199123501777649, 1.5783611536026, 5.274801731109619, 1.647621512413025, 1.1649869680404663, 3.628056287765503, 2.9781415462493896, 2.9437766075134277, 2.903043031692505, 3.7292098999023438, 2.527940034866333, 4.45161771774292, 2.764768362045288, 9.979239463806152, 3.6904492378234863, 2.8481106758117676, 5.607741355895996, 6.322915077209473, 4.048643112182617, 4.539320945739746, 4.5037360191345215, 5.093176364898682, 3.856834650039673, 4.145811080932617, 4.670363426208496, 4.088397979736328, 7.084997177124023, 4.538148403167725, 4.729172229766846, 4.407479286193848, 5.297360897064209, 3.902428388595581, 5.405177116394043, 5.4577860832214355, 4.737603664398193, 4.264883041381836, 4.911271095275879, 4.642395496368408, 4.317576885223389, 4.1892499923706055, 4.428781986236572, 4.231497764587402, 4.14077091217041, 4.210995674133301, 4.193972110748291, 1.6534554958343506, 0.6678596138954163, 0.6466285586357117, 0.5122252106666565, 0.691368043422699, 0.6461665034294128, 0.6585679650306702, 0.4851125180721283, 0.6131570935249329, 0.48400622606277466, 0.6703763604164124, 0.48551222681999207, 0.7841201424598694, 0.6222156882286072, 1.1532200574874878, 0.4524545669555664, 0.6334574222564697, 0.47401630878448486, 0.6328542232513428, 0.4637082815170288, 0.8851056098937988, 0.44627633690834045, 0.637075662612915, 0.45390498638153076, 0.4417065382003784, 0.45556768774986267, 0.4341166615486145, 0.5676751732826233, 2.066432237625122, 0.4569939374923706, 2.0491180419921875, 0.9624001979827881, 1.955058217048645, 0.6366225481033325, 1.6854883432388306, 1.915216088294983, 1.8646150827407837, 1.5304594039916992, 2.0956714153289795, 1.20514714717865, 1.3287265300750732, 1.8166759014129639, 1.190085768699646, 2.846794843673706, 1.5449618101119995, 0.9060493111610413, 1.3784778118133545, 1.622314214706421, 1.845870018005371, 1.4624851942062378, 1.3083575963974, 1.518218755722046, 2.7812612056732178, 1.215012550354004, 1.6674363613128662, 1.1529563665390015, 1.2347620725631714, 1.1935545206069946, 1.3079341650009155, 1.4821089506149292, 1.661067008972168, 1.3024818897247314, 1.454803228378296, 1.7420527935028076, 1.4795945882797241, 1.4899699687957764, 1.3888132572174072, 1.3658416271209717, 1.3887535333633423, 1.3653229475021362, 1.4017103910446167, 0.00280547421425581, 0.0014513134956359863, 0.0014853870961815119, 0.0018075599800795317, 0.0036861004773527384, 0.001377522712573409, 0.0027540219016373158, 0.0014170827344059944, 0.0018146128859370947, 0.002259532455354929, 0.0013665230944752693, 0.001382505870424211, 0.0017320538172498345, 0.0013325527543202043, 0.0017214848194271326, 0.001336592249572277, 0.0017436088528484106, 0.0021885717287659645, 0.0012620481429621577, 0.0036148549988865852, 0.0016910191625356674, 0.0026804429944604635, 0.0016647782176733017, 0.001706402050331235, 0.0017141686985269189, 0.001638913294300437, 0.001729281502775848, 0.002179585164412856, 0.0013058539479970932, 0.0025655583012849092, 0.003510776674374938, 0.003699905937537551, 0.00509656872600317, 0.005376901477575302, 0.005375246983021498, 0.004457135684788227, 0.0024961354210972786, 0.003037514630705118, 0.0026025401894003153, 0.00453565176576376, 0.002133717993274331, 0.004213323816657066, 0.0032429639250040054, 0.004026997368782759, 0.0032049051951617002, 0.00442493986338377, 0.003920367918908596, 0.003610209096223116, 0.002844130853191018, 0.003174547804519534, 0.004493748769164085, 0.004256304819136858, 0.0036212324630469084, 0.004406201187521219, 0.004441072698682547, 0.004393975716084242, 0.004129596054553986, 0.00474437465891242, 0.0038711922243237495, 0.004524923861026764, 0.003629279788583517, 0.0058630481362342834, 0.0049143144860863686, 0.004145083017647266, 0.004531742073595524, 0.004864728078246117, 0.00400604447349906, 0.005563732702285051, 0.00407334603369236, 0.004324592649936676, 0.004256728105247021, 0.004136541858315468, 0.004322683438658714, 0.004030795767903328, 0.004132564645260572], \"Total\": [17.0, 21.0, 13.0, 9.0, 14.0, 9.0, 11.0, 8.0, 10.0, 14.0, 13.0, 10.0, 12.0, 11.0, 9.0, 13.0, 8.0, 9.0, 9.0, 9.0, 8.0, 11.0, 8.0, 10.0, 7.0, 10.0, 7.0, 9.0, 9.0, 8.0, 13.18547248840332, 7.676303863525391, 3.4289157390594482, 5.3348541259765625, 2.5455210208892822, 3.2817349433898926, 3.532060146331787, 5.329638957977295, 4.235515594482422, 5.453177452087402, 5.7940673828125, 11.977740287780762, 3.7488465309143066, 2.558114528656006, 3.5470573902130127, 5.482746601104736, 4.236584186553955, 2.718737840652466, 2.549424648284912, 2.72837233543396, 6.095791816711426, 13.445369720458984, 5.360739231109619, 3.624777317047119, 6.122951984405518, 3.618530035018921, 11.170475959777832, 2.6312060356140137, 6.575932502746582, 2.5332891941070557, 5.476966381072998, 8.696864128112793, 7.264795780181885, 8.51803970336914, 6.80866003036499, 7.0194525718688965, 6.388964653015137, 8.861649513244629, 11.605049133300781, 11.445578575134277, 7.680703639984131, 10.684493064880371, 11.745753288269043, 7.4396514892578125, 9.531744003295898, 9.839292526245117, 14.08318042755127, 8.492805480957031, 8.67618179321289, 8.929771423339844, 13.675199508666992, 12.886046409606934, 11.335450172424316, 12.56899356842041, 11.222108840942383, 17.765810012817383, 11.547086715698242, 21.537099838256836, 10.681599617004395, 10.594791412353516, 11.26715087890625, 10.657491683959961, 11.394457817077637, 14.098638534545898, 9.616559028625488, 10.016103744506836, 9.249848365783691, 3.3423399925231934, 6.8961944580078125, 4.397068977355957, 3.278451442718506, 3.1758525371551514, 5.646749019622803, 4.833832263946533, 2.446537733078003, 3.8444712162017822, 2.3805086612701416, 4.143970012664795, 8.312684059143066, 6.597677707672119, 3.0285775661468506, 10.846355438232422, 3.9467544555664062, 2.987971067428589, 10.661484718322754, 2.39697527885437, 2.4027092456817627, 6.025881290435791, 2.133134365081787, 5.448009490966797, 3.0239763259887695, 2.356675386428833, 3.104268789291382, 10.382397651672363, 3.2489817142486572, 2.29782772064209, 7.206735610961914, 5.912677764892578, 5.8677496910095215, 5.795507907867432, 7.515364170074463, 5.034328937530518, 9.0957612991333, 5.528479099273682, 21.537099838256836, 7.58287239074707, 5.726771831512451, 12.19918441772461, 14.098638534545898, 8.551039695739746, 9.77491283416748, 9.705782890319824, 11.277642250061035, 8.17119312286377, 8.990949630737305, 10.413800239562988, 8.86170768737793, 17.765810012817383, 10.193839073181152, 10.766857147216797, 9.854021072387695, 12.886046409606934, 8.459781646728516, 13.675199508666992, 14.08318042755127, 11.394457817077637, 9.74560546875, 12.56899356842041, 11.547086715698242, 10.37613296508789, 9.78787899017334, 11.222108840942383, 10.657491683959961, 9.58687686920166, 11.445578575134277, 11.335450172424316, 5.684321880340576, 2.6213746070861816, 2.595658540725708, 2.074033737182617, 2.849503755569458, 2.716693162918091, 2.7764651775360107, 2.058694362640381, 2.6241769790649414, 2.0734500885009766, 2.875500440597534, 2.08906626701355, 3.3983232975006104, 2.7030482292175293, 5.010148525238037, 1.9752428531646729, 2.788770914077759, 2.10842227935791, 2.849100112915039, 2.114816188812256, 4.049581050872803, 2.050410270690918, 2.9377942085266113, 2.1064558029174805, 2.0549490451812744, 2.1215054988861084, 2.0235912799835205, 2.647897481918335, 9.648456573486328, 2.138686180114746, 9.71170425415039, 4.531345367431641, 9.344741821289062, 2.9832346439361572, 8.067853927612305, 9.358715057373047, 9.124911308288574, 7.468575954437256, 10.610523223876953, 5.891402721405029, 6.592515468597412, 9.802592277526855, 6.094415664672852, 17.765810012817383, 8.470013618469238, 4.4270758628845215, 7.515364170074463, 9.475439071655273, 11.26715087890625, 8.316609382629395, 7.206735610961914, 8.844549179077148, 21.537099838256836, 6.63584041595459, 10.594791412353516, 6.2249674797058105, 7.016324996948242, 6.707504749298096, 7.841574192047119, 9.77491283416748, 12.19918441772461, 7.8486762046813965, 9.72796630859375, 14.098638534545898, 10.413800239562988, 10.846355438232422, 9.616559028625488, 9.0957612991333, 10.04040241241455, 9.78787899017334, 12.56899356842041, 3.891312837600708, 2.035470962524414, 2.144622802734375, 2.6188528537750244, 5.356971740722656, 2.008903980255127, 4.032907962799072, 2.0898921489715576, 2.6905689239501953, 3.385361909866333, 2.061951160430908, 2.108855962753296, 2.650726079940796, 2.0461323261260986, 2.647897481918335, 2.0797152519226074, 2.7219746112823486, 3.418083429336548, 1.9752428531646729, 5.659551620483398, 2.6636126041412354, 4.2237772941589355, 2.6241769790649414, 2.6939682960510254, 2.708364486694336, 2.595658540725708, 2.7407844066619873, 3.4743480682373047, 2.082831859588623, 4.106761932373047, 5.684321880340576, 6.2249674797058105, 8.86170768737793, 9.616559028625488, 9.648456573486328, 7.8486762046813965, 4.146337509155273, 5.225972652435303, 4.400106906890869, 8.432251930236816, 3.494213819503784, 7.886697292327881, 5.77932071685791, 7.555264949798584, 5.81131649017334, 8.844549179077148, 7.58287239074707, 6.8274102210998535, 5.034328937530518, 5.8376545906066895, 9.358715057373047, 8.694664001464844, 6.98236608505249, 9.30754280090332, 9.480652809143066, 9.344741821289062, 8.722504615783691, 10.846355438232422, 7.9223856925964355, 10.193839073181152, 7.206735610961914, 17.765810012817383, 13.675199508666992, 9.802592277526855, 11.977740287780762, 14.098638534545898, 9.249848365783691, 21.537099838256836, 9.705782890319824, 12.19918441772461, 11.745753288269043, 10.610523223876953, 14.08318042755127, 10.766857147216797, 13.445369720458984], \"Category\": [\"Default\", \"Default\", \"Default\", \"Default\", \"Default\", \"Default\", \"Default\", \"Default\", \"Default\", \"Default\", \"Default\", \"Default\", \"Default\", \"Default\", \"Default\", \"Default\", \"Default\", \"Default\", \"Default\", \"Default\", \"Default\", \"Default\", \"Default\", \"Default\", \"Default\", \"Default\", \"Default\", \"Default\", \"Default\", \"Default\", \"Topic1\", \"Topic1\", \"Topic1\", \"Topic1\", \"Topic1\", \"Topic1\", \"Topic1\", \"Topic1\", \"Topic1\", \"Topic1\", \"Topic1\", \"Topic1\", \"Topic1\", \"Topic1\", \"Topic1\", \"Topic1\", \"Topic1\", \"Topic1\", \"Topic1\", \"Topic1\", \"Topic1\", \"Topic1\", \"Topic1\", \"Topic1\", \"Topic1\", \"Topic1\", \"Topic1\", \"Topic1\", \"Topic1\", \"Topic1\", \"Topic1\", \"Topic1\", \"Topic1\", \"Topic1\", \"Topic1\", \"Topic1\", \"Topic1\", \"Topic1\", \"Topic1\", \"Topic1\", \"Topic1\", \"Topic1\", \"Topic1\", \"Topic1\", \"Topic1\", \"Topic1\", \"Topic1\", \"Topic1\", \"Topic1\", \"Topic1\", \"Topic1\", \"Topic1\", \"Topic1\", \"Topic1\", \"Topic1\", \"Topic1\", \"Topic1\", \"Topic1\", \"Topic1\", \"Topic1\", \"Topic1\", \"Topic1\", \"Topic1\", \"Topic1\", \"Topic1\", \"Topic1\", \"Topic2\", \"Topic2\", \"Topic2\", \"Topic2\", \"Topic2\", \"Topic2\", \"Topic2\", \"Topic2\", \"Topic2\", \"Topic2\", \"Topic2\", \"Topic2\", \"Topic2\", \"Topic2\", \"Topic2\", \"Topic2\", \"Topic2\", \"Topic2\", \"Topic2\", \"Topic2\", \"Topic2\", \"Topic2\", \"Topic2\", \"Topic2\", \"Topic2\", \"Topic2\", \"Topic2\", \"Topic2\", \"Topic2\", \"Topic2\", \"Topic2\", \"Topic2\", \"Topic2\", \"Topic2\", \"Topic2\", \"Topic2\", \"Topic2\", \"Topic2\", \"Topic2\", \"Topic2\", \"Topic2\", \"Topic2\", \"Topic2\", \"Topic2\", \"Topic2\", \"Topic2\", \"Topic2\", \"Topic2\", \"Topic2\", \"Topic2\", \"Topic2\", \"Topic2\", \"Topic2\", \"Topic2\", \"Topic2\", \"Topic2\", \"Topic2\", \"Topic2\", \"Topic2\", \"Topic2\", \"Topic2\", \"Topic2\", \"Topic2\", \"Topic2\", \"Topic2\", \"Topic2\", \"Topic2\", \"Topic2\", \"Topic2\", \"Topic2\", \"Topic3\", \"Topic3\", \"Topic3\", \"Topic3\", \"Topic3\", \"Topic3\", \"Topic3\", \"Topic3\", \"Topic3\", \"Topic3\", \"Topic3\", \"Topic3\", \"Topic3\", \"Topic3\", \"Topic3\", \"Topic3\", \"Topic3\", \"Topic3\", \"Topic3\", \"Topic3\", \"Topic3\", \"Topic3\", \"Topic3\", \"Topic3\", \"Topic3\", \"Topic3\", \"Topic3\", \"Topic3\", \"Topic3\", \"Topic3\", \"Topic3\", \"Topic3\", \"Topic3\", \"Topic3\", \"Topic3\", \"Topic3\", \"Topic3\", \"Topic3\", \"Topic3\", \"Topic3\", \"Topic3\", \"Topic3\", \"Topic3\", \"Topic3\", \"Topic3\", \"Topic3\", \"Topic3\", \"Topic3\", \"Topic3\", \"Topic3\", \"Topic3\", \"Topic3\", \"Topic3\", \"Topic3\", \"Topic3\", \"Topic3\", \"Topic3\", \"Topic3\", \"Topic3\", \"Topic3\", \"Topic3\", \"Topic3\", \"Topic3\", \"Topic3\", \"Topic3\", \"Topic3\", \"Topic3\", \"Topic3\", \"Topic3\", \"Topic3\", \"Topic3\", \"Topic4\", \"Topic4\", \"Topic4\", \"Topic4\", \"Topic4\", \"Topic4\", \"Topic4\", \"Topic4\", \"Topic4\", \"Topic4\", \"Topic4\", \"Topic4\", \"Topic4\", \"Topic4\", \"Topic4\", \"Topic4\", \"Topic4\", \"Topic4\", \"Topic4\", \"Topic4\", \"Topic4\", \"Topic4\", \"Topic4\", \"Topic4\", \"Topic4\", \"Topic4\", \"Topic4\", \"Topic4\", \"Topic4\", \"Topic4\", \"Topic4\", \"Topic4\", \"Topic4\", \"Topic4\", \"Topic4\", \"Topic4\", \"Topic4\", \"Topic4\", \"Topic4\", \"Topic4\", \"Topic4\", \"Topic4\", \"Topic4\", \"Topic4\", \"Topic4\", \"Topic4\", \"Topic4\", \"Topic4\", \"Topic4\", \"Topic4\", \"Topic4\", \"Topic4\", \"Topic4\", \"Topic4\", \"Topic4\", \"Topic4\", \"Topic4\", \"Topic4\", \"Topic4\", \"Topic4\", \"Topic4\", \"Topic4\", \"Topic4\", \"Topic4\", \"Topic4\", \"Topic4\", \"Topic4\", \"Topic4\", \"Topic4\", \"Topic4\", \"Topic4\", \"Topic4\", \"Topic4\", \"Topic4\", \"Topic4\"], \"logprob\": [30.0, 29.0, 28.0, 27.0, 26.0, 25.0, 24.0, 23.0, 22.0, 21.0, 20.0, 19.0, 18.0, 17.0, 16.0, 15.0, 14.0, 13.0, 12.0, 11.0, 10.0, 9.0, 8.0, 7.0, 6.0, 5.0, 4.0, 3.0, 2.0, 1.0, -5.75600004196167, -6.319300174713135, -7.144999980926514, -6.707099914550781, -7.447999954223633, -7.194200038909912, -7.132599830627441, -6.725800037384033, -6.9558000564575195, -6.709799766540527, -6.652299880981445, -5.926499843597412, -7.088200092315674, -7.470799922943115, -7.145299911499023, -6.714099884033203, -6.982999801635742, -7.429500102996826, -7.4969000816345215, -7.430699825286865, -6.63129997253418, -5.843800067901611, -6.763299942016602, -7.158599853515625, -6.634900093078613, -7.1645002365112305, -6.037399768829346, -7.483500003814697, -6.569699764251709, -7.525000095367432, -6.75600004196167, -6.299300193786621, -6.478000164031982, -6.322000026702881, -6.547299861907959, -6.521900177001953, -6.613399982452393, -6.309199810028076, -6.076600074768066, -6.10099983215332, -6.460899829864502, -6.1757001876831055, -6.094200134277344, -6.490699768066406, -6.283699989318848, -6.257999897003174, -5.960400104522705, -6.382500171661377, -6.366399765014648, -6.343999862670898, -6.005199909210205, -6.05620002746582, -6.161799907684326, -6.114299774169922, -6.206500053405762, -5.889599800109863, -6.190400123596191, -5.775899887084961, -6.243500232696533, -6.255000114440918, -6.220300197601318, -6.265200138092041, -6.231200218200684, -6.1508002281188965, -6.3225998878479, -6.314599990844727, -6.071400165557861, -7.13129997253418, -6.441400051116943, -6.895699977874756, -7.189700126647949, -7.224999904632568, -6.6554999351501465, -6.823200225830078, -7.507699966430664, -7.0605998039245605, -7.541399955749512, -6.987100124359131, -6.293799877166748, -6.537199974060059, -7.317200183868408, -6.048500061035156, -7.061399936676025, -7.3420000076293945, -6.070700168609619, -7.564300060272217, -7.564199924468994, -6.651100158691406, -7.693299770355225, -6.757699966430664, -7.346799850463867, -7.600800037384033, -7.326000213623047, -6.119500160217285, -7.283100128173828, -7.629700183868408, -6.49370002746582, -6.691100120544434, -6.702700138092041, -6.716700077056885, -6.46619987487793, -6.855000019073486, -6.289100170135498, -6.765500068664551, -5.481900215148926, -6.4766998291015625, -6.735799789428711, -6.058300018310547, -5.938199996948242, -6.383999824523926, -6.269599914550781, -6.277500152587891, -6.1545000076293945, -6.432600021362305, -6.360300064086914, -6.241199970245361, -6.374300003051758, -5.824399948120117, -6.269899845123291, -6.228700160980225, -6.299099922180176, -6.115200042724609, -6.42080020904541, -6.095099925994873, -6.085400104522705, -6.226900100708008, -6.331999778747559, -6.190899848937988, -6.247200012207031, -6.319699764251709, -6.349899768829346, -6.294300079345703, -6.339900016784668, -6.361499786376953, -6.344699859619141, -6.348800182342529, -6.160799980163574, -7.067299842834473, -7.099699974060059, -7.332699775695801, -7.032800197601318, -7.100399971008301, -7.081399917602539, -7.38700008392334, -7.1528000831604, -7.3892998695373535, -7.063600063323975, -7.386199951171875, -6.906899929046631, -7.1381001472473145, -6.521100044250488, -7.456699848175049, -7.120200157165527, -7.410200119018555, -7.121200084686279, -7.432199954986572, -6.785699844360352, -7.4704999923706055, -7.114500045776367, -7.453499794006348, -7.480800151824951, -7.449900150299072, -7.4980998039245605, -7.229899883270264, -5.93779993057251, -7.446800231933594, -5.946300029754639, -6.702000141143799, -5.993199825286865, -7.115200042724609, -6.141600131988525, -6.013800144195557, -6.040599822998047, -6.238100051879883, -5.923799991607666, -6.477099895477295, -6.37939977645874, -6.066699981689453, -6.48960018157959, -5.617499828338623, -6.228700160980225, -6.76230001449585, -6.342700004577637, -6.179800033569336, -6.0507001876831055, -6.2835001945495605, -6.394899845123291, -6.246099948883057, -5.6407999992370605, -6.468900203704834, -6.152400016784668, -6.521299839019775, -6.4527997970581055, -6.486700057983398, -6.395199775695801, -6.270199775695801, -6.156199932098389, -6.399400234222412, -6.28879976272583, -6.10860013961792, -6.271900177001953, -6.264900207519531, -6.33519983291626, -6.351900100708008, -6.335299968719482, -6.35230016708374, -6.326000213623047, -6.747799873352051, -7.406899929046631, -7.383699893951416, -7.187399864196777, -6.474800109863281, -7.459099769592285, -6.766300201416016, -7.430799961090088, -7.183499813079834, -6.964200019836426, -7.467100143432617, -7.45550012588501, -7.230100154876709, -7.492300033569336, -7.236199855804443, -7.489299774169922, -7.223400115966797, -6.996099948883057, -7.5467000007629395, -6.49429988861084, -7.2540998458862305, -6.793399810791016, -7.269700050354004, -7.244999885559082, -7.240499973297119, -7.285399913787842, -7.2316999435424805, -7.00029993057251, -7.512499809265137, -6.837200164794922, -6.523600101470947, -6.471099853515625, -6.1508002281188965, -6.097300052642822, -6.097599983215332, -6.284900188446045, -6.864699840545654, -6.668399810791016, -6.82289981842041, -6.267399787902832, -7.021500110626221, -6.341100215911865, -6.60290002822876, -6.38640022277832, -6.614699840545654, -6.292099952697754, -6.4131999015808105, -6.49560022354126, -6.734099864959717, -6.624199867248535, -6.276700019836426, -6.330999851226807, -6.492599964141846, -6.29640007019043, -6.28849983215332, -6.299200057983398, -6.361199855804443, -6.222400188446045, -6.42579984664917, -6.269800186157227, -6.4903998374938965, -6.010700225830078, -6.18720006942749, -6.357500076293945, -6.2683000564575195, -6.197400093078613, -6.391600131988525, -6.0630998611450195, -6.374899864196777, -6.315100193023682, -6.330900192260742, -6.359499931335449, -6.315499782562256, -6.38539981842041, -6.360499858856201], \"loglift\": [30.0, 29.0, 28.0, 27.0, 26.0, 25.0, 24.0, 23.0, 22.0, 21.0, 20.0, 19.0, 18.0, 17.0, 16.0, 15.0, 14.0, 13.0, 12.0, 11.0, 10.0, 9.0, 8.0, 7.0, 6.0, 5.0, 4.0, 3.0, 2.0, 1.0, 0.36640000343322754, 0.3440999984741211, 0.32420000433921814, 0.32019999623298645, 0.3192000091075897, 0.3188999891281128, 0.30709999799728394, 0.30250000953674316, 0.30219998955726624, 0.2955000102519989, 0.2924000024795532, 0.2919999957084656, 0.29190000891685486, 0.2913999855518341, 0.29010000824928284, 0.2858000099658966, 0.27480000257492065, 0.2718000113964081, 0.2687000036239624, 0.2671000063419342, 0.26269999146461487, 0.2590999901294708, 0.2590999901294708, 0.2551000118255615, 0.25459998846054077, 0.25099998712539673, 0.250900000333786, 0.25060001015663147, 0.2484000027179718, 0.24699999392032623, 0.24500000476837158, 0.23929999768733978, 0.24050000309944153, 0.23729999363422394, 0.23600000143051147, 0.23100000619888306, 0.23360000550746918, 0.21060000360012054, 0.17339999973773956, 0.16290000081062317, 0.20190000534057617, 0.15700000524520874, 0.14380000531673431, 0.20399999618530273, 0.163100004196167, 0.15719999372959137, 0.09610000252723694, 0.17980000376701355, 0.1745000034570694, 0.1680999994277954, 0.08070000261068344, 0.08919999748468399, 0.11180000007152557, 0.0560000017285347, 0.0771000012755394, -0.06539999693632126, 0.06469999998807907, -0.14419999718666077, 0.08950000256299973, 0.08609999716281891, 0.05939999967813492, 0.07010000199079514, 0.03720000013709068, -0.09539999812841415, 0.11540000140666962, 0.0828000009059906, 0.40549999475479126, 0.3634999990463257, 0.32910001277923584, 0.3249000012874603, 0.32440000772476196, 0.32089999318122864, 0.3149000108242035, 0.302700012922287, 0.29910001158714294, 0.29420000314712524, 0.29280000925064087, 0.29280000925064087, 0.28999999165534973, 0.2775999903678894, 0.27619999647140503, 0.26919999718666077, 0.2671999931335449, 0.26489999890327454, 0.26420000195503235, 0.2630000114440918, 0.260699987411499, 0.25429999828338623, 0.2506999969482422, 0.2485000044107437, 0.24809999763965607, 0.2433999925851822, 0.24269999563694, 0.2418999969959259, 0.24009999632835388, 0.23980000615119934, 0.23280000686645508, 0.23330000042915344, 0.22930000722408295, 0.22779999673366547, 0.218299999833107, 0.23019999265670776, 0.2046000063419342, 0.22609999775886536, 0.14980000257492065, 0.19900000095367432, 0.22059999406337738, 0.14190000295639038, 0.11720000207424164, 0.17139999568462372, 0.15209999680519104, 0.15129999816417694, 0.1242000013589859, 0.16830000281333923, 0.14499999582767487, 0.11720000207424164, 0.14550000429153442, -0.00019999999494757503, 0.10980000346899033, 0.09640000015497208, 0.1145000010728836, 0.03020000085234642, 0.1454000025987625, -0.009100000374019146, -0.02879999950528145, 0.04149999842047691, 0.09269999712705612, -0.020600000396370888, 0.007899999618530273, 0.04230000078678131, 0.07050000131130219, -0.010700000450015068, -0.004600000102072954, 0.07959999889135361, -0.08079999685287476, -0.07519999891519547, 0.8029999732971191, 0.6704999804496765, 0.6480000019073486, 0.6394000053405762, 0.6215999722480774, 0.6017000079154968, 0.5989999771118164, 0.5924000144004822, 0.583899974822998, 0.5830000042915344, 0.5817000269889832, 0.5785999894142151, 0.571399986743927, 0.5690000057220459, 0.5688999891281128, 0.5641000270843506, 0.5557000041007996, 0.5454000234603882, 0.53329998254776, 0.5203999876976013, 0.5171999931335449, 0.5130000114440918, 0.5092999935150146, 0.503000020980835, 0.5005000233650208, 0.49950000643730164, 0.4984999895095825, 0.49790000915527344, 0.4968999922275543, 0.49459999799728394, 0.48190000653266907, 0.4884999990463257, 0.47350001335144043, 0.4932999908924103, 0.47200000286102295, 0.4514000117778778, 0.4499000012874603, 0.4526999890804291, 0.41589999198913574, 0.45100000500679016, 0.4361000061035156, 0.3522000014781952, 0.40450000762939453, 0.20679999887943268, 0.33629998564720154, 0.4514000117778778, 0.3418999910354614, 0.27300000190734863, 0.2289000004529953, 0.299699991941452, 0.33160001039505005, 0.27559998631477356, -0.008999999612569809, 0.3400999903678894, 0.18880000710487366, 0.3515999913215637, 0.3005000054836273, 0.311599999666214, 0.24690000712871552, 0.15150000154972076, 0.04390000179409981, 0.241799995303154, 0.13770000636577606, -0.053199999034404755, 0.08649999648332596, 0.052799999713897705, 0.10279999673366547, 0.14180000126361847, 0.05959999933838844, 0.06809999793767929, -0.15569999814033508, 0.5949000120162964, 0.583899974822998, 0.5547999739646912, 0.5514000058174133, 0.54830002784729, 0.5447999835014343, 0.5407000184059143, 0.5335999727249146, 0.5281999707221985, 0.517799973487854, 0.510699987411499, 0.4999000132083893, 0.4966000020503998, 0.4932999908924103, 0.49149999022483826, 0.47999998927116394, 0.4767000079154968, 0.4763000011444092, 0.4742000102996826, 0.47380000352859497, 0.46779999136924744, 0.4674000144004822, 0.46700000762939453, 0.46549999713897705, 0.46470001339912415, 0.46230000257492065, 0.46160000562667847, 0.45579999685287476, 0.4551999866962433, 0.45170000195503235, 0.44020000100135803, 0.4018999934196472, 0.36890000104904175, 0.3407000005245209, 0.33709999918937683, 0.3562999963760376, 0.4146000146865845, 0.37950000166893005, 0.3970000147819519, 0.3019999861717224, 0.42890000343322754, 0.295199990272522, 0.3443000018596649, 0.2928999960422516, 0.3269999921321869, 0.2295999974012375, 0.2624000012874603, 0.2849000096321106, 0.35109999775886536, 0.31299999356269836, 0.18850000202655792, 0.2078000009059906, 0.265500009059906, 0.17430000007152557, 0.16380000114440918, 0.16750000417232513, 0.17440000176429749, 0.09520000219345093, 0.20600000023841858, 0.10989999771118164, 0.2361000031232834, -0.18649999797344208, -0.10130000114440918, 0.061400000005960464, -0.049800001084804535, -0.1420000046491623, 0.08529999852180481, -0.43140000104904175, 0.05389999970793724, -0.11490000039339066, -0.09290000051259995, -0.019899999722838402, -0.2590000033378601, -0.06040000170469284, -0.25760000944137573]}, \"token.table\": {\"Topic\": [1, 2, 3, 1, 2, 3, 1, 2, 3, 1, 2, 1, 2, 3, 1, 2, 3, 1, 2, 1, 2, 3, 1, 2, 3, 1, 2, 3, 1, 2, 3, 1, 2, 3, 1, 2, 1, 2, 3, 1, 2, 3, 1, 2, 1, 2, 1, 2, 3, 1, 2, 1, 2, 1, 2, 3, 1, 2, 3, 1, 2, 3, 1, 2, 1, 2, 1, 2, 3, 1, 2, 3, 1, 2, 3, 1, 2, 3, 1, 2, 3, 1, 2, 1, 2, 1, 2, 3, 1, 2, 3, 1, 2, 3, 1, 2, 3, 1, 2, 1, 2, 3, 1, 2, 3, 1, 2, 3, 1, 2, 1, 2, 1, 2, 3, 1, 2, 1, 2, 3, 1, 2, 3, 1, 2, 3, 1, 2, 1, 2, 3, 1, 2, 3, 1, 2, 3, 1, 2, 3, 1, 2, 3, 1, 2, 3, 1, 2, 3, 1, 2, 3, 1, 2, 3, 1, 2, 3, 1, 2, 1, 2, 3, 1, 2, 3, 1, 2, 3, 1, 2, 1, 2, 3, 1, 2, 3, 1, 2, 3, 1, 2, 1, 2, 1, 2, 3, 1, 2, 3, 1, 2, 3, 1, 2, 3, 1, 2, 1, 2, 3, 1, 2, 3, 1, 2, 3, 1, 2, 1, 2, 3, 1, 2, 3, 1, 2, 3, 1, 2, 3, 1, 2, 1, 2, 3, 1, 2, 1, 2, 3, 1, 2, 3, 1, 2, 3, 1, 2, 1, 2, 3, 1, 2, 1, 2, 3, 1, 2, 3, 1, 2, 1, 2, 3, 1, 2, 3, 1, 2, 3, 1, 2, 1, 2, 3, 1, 2, 3, 1, 2, 3, 1, 2, 3, 1, 2, 3, 1, 2, 1, 2, 1, 2, 3, 1, 2, 3, 1, 2, 3, 1, 2, 3, 1, 2, 3, 1, 2, 3, 1, 2, 1, 2, 3, 1, 2, 1, 2, 3, 1, 2, 3, 1, 2, 1, 2, 3, 1, 2, 3, 1, 2, 3, 1, 2, 1, 2, 3, 1, 2, 3, 1, 2, 1, 2, 1, 2, 3, 1, 2, 3, 1, 2, 1, 2, 1, 2, 3, 1, 2, 3, 1, 2, 3, 1, 2, 1, 2, 1, 2, 3, 1, 2, 3, 1, 2, 3, 1, 2, 3, 1, 2, 3, 1, 2, 3, 1, 2, 3, 1, 2, 3, 1, 2, 3, 1, 2, 3, 1, 2, 3, 1, 2, 3, 1, 2, 1, 2, 1, 2, 1, 2, 1, 2, 3, 1, 2, 3, 1, 2, 1, 2, 3, 1, 2, 3, 1, 2, 3, 1, 2, 3, 1, 2, 1, 2, 1, 2, 3, 1, 2, 3, 1, 2, 3, 1, 2, 3, 1, 2, 1, 2, 1, 2, 1, 2, 3, 1, 2, 1, 2, 3, 1, 2, 1, 2, 3, 1, 2, 3, 1, 2, 1, 2, 3, 1, 2, 3, 1, 2, 3, 1, 2, 3, 1, 2, 3, 1, 2, 3, 1, 2, 3, 1, 2, 3, 1, 2, 1, 2, 3, 1, 2, 1, 2, 3, 1, 2, 3, 1, 2, 3, 1, 2, 3, 1, 2, 3, 1, 2, 3, 1, 2, 3, 1, 2, 1, 2, 1, 2, 1, 2, 3, 1, 2, 3, 1, 2, 3, 1, 2, 3, 1, 2, 3, 1, 2, 3, 1, 2, 1, 2, 1, 2, 3, 1, 2, 3, 1, 2, 3, 1, 2, 3, 1, 2, 3, 1, 2, 3, 1, 2, 3, 1, 2, 3, 1, 2, 1, 2, 3, 1, 2, 3, 1, 2, 3, 1, 2, 1, 2, 3, 1, 2, 3, 1, 2, 1, 2, 3, 1, 2, 3, 1, 2, 3, 1, 2, 3, 1, 2, 3], \"Freq\": [0.3733452558517456, 0.3733452558517456, 0.1866726279258728, 0.367106556892395, 0.5506598353385925, 0.1835532784461975, 0.46777936816215515, 0.46777936816215515, 0.11694484204053879, 0.5628899335861206, 0.3752599358558655, 0.4522559642791748, 0.3391919732093811, 0.2261279821395874, 0.3680945634841919, 0.3680945634841919, 0.3680945634841919, 0.37166860699653625, 0.37166860699653625, 0.4970468282699585, 0.35503342747688293, 0.07100668549537659, 0.5346588492393494, 0.3564392328262329, 0.08910980820655823, 0.3818465769290924, 0.3818465769290924, 0.3818465769290924, 0.367143452167511, 0.48952460289001465, 0.12238115072250366, 0.3699527084827423, 0.3699527084827423, 0.3699527084827423, 0.5662418007850647, 0.28312090039253235, 0.5740557909011841, 0.38270387053489685, 0.19135193526744843, 0.354186087846756, 0.5312791466712952, 0.177093043923378, 0.24131448566913605, 0.4826289713382721, 0.30502206087112427, 0.6100441217422485, 0.5698450207710266, 0.2849225103855133, 0.14246125519275665, 0.784490704536438, 0.392245352268219, 0.7330377697944641, 0.36651888489723206, 0.4809652268886566, 0.36072391271591187, 0.12024130672216415, 0.5615615248680115, 0.3743743300437927, 0.09359358251094818, 0.40866872668266296, 0.40866872668266296, 0.10216718167066574, 0.6532796621322632, 0.3266398310661316, 0.488726943731308, 0.488726943731308, 0.5887336134910583, 0.35324016213417053, 0.11774671822786331, 0.2981734871864319, 0.44726020097732544, 0.14908674359321594, 0.2775181531906128, 0.5550363063812256, 0.1387590765953064, 0.4297589659690857, 0.4297589659690857, 0.10743974149227142, 0.5506004691123962, 0.2753002345561981, 0.13765011727809906, 0.26011380553245544, 0.5202276110649109, 0.6561903953552246, 0.3280951976776123, 0.3956284523010254, 0.527504563331604, 0.131876140832901, 0.47123029828071594, 0.37698423862457275, 0.18849211931228638, 0.5265718102455139, 0.4388098120689392, 0.08776196092367172, 0.5190921425819397, 0.34606143832206726, 0.17303071916103363, 0.4912867844104767, 0.4912867844104767, 0.5293129086494446, 0.3528752624988556, 0.0882188156247139, 0.5196115970611572, 0.43300965428352356, 0.08660192787647247, 0.2850494980812073, 0.4275742769241333, 0.14252474904060364, 0.5638476610183716, 0.2819238305091858, 0.48083505034446716, 0.48083505034446716, 0.3492369055747986, 0.5238553285598755, 0.1746184527873993, 0.5334974527359009, 0.26674872636795044, 0.4545344114303589, 0.4545344114303589, 0.22726720571517944, 0.3814792335033417, 0.3814792335033417, 0.3814792335033417, 0.33825621008872986, 0.5073843002319336, 0.16912810504436493, 0.33018800616264343, 0.6603760123252869, 0.5101016759872437, 0.38257625699043274, 0.1275254189968109, 0.530077338218689, 0.3533848822116852, 0.1766924411058426, 0.5874871015548706, 0.2937435507774353, 0.14687177538871765, 0.30337435007095337, 0.45506149530410767, 0.15168717503547668, 0.43940526247024536, 0.43940526247024536, 0.1464684158563614, 0.3319016695022583, 0.49785247445106506, 0.16595083475112915, 0.3776581287384033, 0.3776581287384033, 0.3776581287384033, 0.34415608644485474, 0.5162341594696045, 0.17207804322242737, 0.3754299581050873, 0.3754299581050873, 0.3754299581050873, 0.5355773568153381, 0.26778867840766907, 0.26778867840766907, 0.4243265688419342, 0.4243265688419342, 0.6903613209724426, 0.17259033024311066, 0.17259033024311066, 0.4080553352832794, 0.4080553352832794, 0.2040276676416397, 0.5599247217178345, 0.33595484495162964, 0.11198494583368301, 0.4822879433631897, 0.4822879433631897, 0.38107186555862427, 0.38107186555862427, 0.38107186555862427, 0.3970741033554077, 0.3970741033554077, 0.13235802948474884, 0.3673803508281708, 0.3673803508281708, 0.3673803508281708, 0.472854346036911, 0.472854346036911, 0.48663008213043213, 0.48663008213043213, 0.5081666111946106, 0.40653330087661743, 0.10163332521915436, 0.40921080112457275, 0.5115135312080383, 0.10230270028114319, 0.34776556491851807, 0.34776556491851807, 0.34776556491851807, 0.3991897702217102, 0.3991897702217102, 0.1995948851108551, 0.4786827564239502, 0.4786827564239502, 0.24693912267684937, 0.49387824535369873, 0.24693912267684937, 0.48187509179115295, 0.38550007343292236, 0.09637501835823059, 0.5749198794364929, 0.34495192766189575, 0.11498397588729858, 0.583274781703949, 0.2916373908519745, 0.3212868273258209, 0.4819302260875702, 0.16064341366291046, 0.3711996078491211, 0.3711996078491211, 0.3711996078491211, 0.3281692862510681, 0.4922539293766022, 0.16408464312553406, 0.3852674663066864, 0.4815843403339386, 0.0963168665766716, 0.466282457113266, 0.466282457113266, 0.513965368270874, 0.256982684135437, 0.256982684135437, 0.6094337105751038, 0.3047168552875519, 0.5199365019798279, 0.3119618892669678, 0.10398729890584946, 0.6260795593261719, 0.31303977966308594, 0.15651988983154297, 0.46809467673301697, 0.37447574734687805, 0.09361893683671951, 0.5062668323516846, 0.5062668323516846, 0.473509818315506, 0.236754909157753, 0.236754909157753, 0.4200782775878906, 0.4200782775878906, 0.29001501202583313, 0.5800300240516663, 0.14500750601291656, 0.4773651957511902, 0.397804319858551, 0.07956086844205856, 0.7894874215126038, 0.3947437107563019, 0.21621976792812347, 0.6486592888832092, 0.10810988396406174, 0.34509485960006714, 0.5176423192024231, 0.17254742980003357, 0.29426276683807373, 0.29426276683807373, 0.29426276683807373, 0.4849775433540344, 0.4849775433540344, 0.2925616204738617, 0.5851232409477234, 0.2925616204738617, 0.41788357496261597, 0.4643150568008423, 0.13929452002048492, 0.48215222358703613, 0.48215222358703613, 0.48215222358703613, 0.5642290115356445, 0.33853742480278015, 0.11284580826759338, 0.3687874674797058, 0.5531812310218811, 0.09219686686992645, 0.47419074177742004, 0.47419074177742004, 0.5623396635055542, 0.18744654953479767, 0.47192999720573425, 0.28315800428390503, 0.18877200782299042, 0.22588273882865906, 0.4517654776573181, 0.22588273882865906, 0.5245629549026489, 0.31473779678344727, 0.10491259396076202, 0.3518449664115906, 0.3518449664115906, 0.3518449664115906, 0.5732298493385315, 0.3439379036426544, 0.11464597284793854, 0.5215463042259216, 0.4172370135784149, 0.10430925339460373, 0.7356354594230652, 0.3678177297115326, 0.38223007321357727, 0.509640097618103, 0.12741002440452576, 0.47428828477859497, 0.47428828477859497, 0.5170163512229919, 0.34467756748199463, 0.08616939187049866, 0.5118755102157593, 0.36562538146972656, 0.07312507927417755, 0.33467525243759155, 0.6693505048751831, 0.3617631494998932, 0.542644739151001, 0.1808815747499466, 0.6679056286811829, 0.25046461820602417, 0.08348820358514786, 0.4059256613254547, 0.4059256613254547, 0.10148141533136368, 0.608278751373291, 0.3041393756866455, 0.5325214862823486, 0.3550143241882324, 0.1775071620941162, 0.5108228921890259, 0.3405486047267914, 0.08513715118169785, 0.4877072870731354, 0.4877072870731354, 0.48574477434158325, 0.48574477434158325, 0.6825693845748901, 0.22752313315868378, 0.07584104686975479, 0.44335508346557617, 0.44335508346557617, 0.088671013712883, 0.4675767719745636, 0.4675767719745636, 0.708117663860321, 0.2360392063856125, 0.6266518831253052, 0.35808679461479187, 0.08952169865369797, 0.4691535532474518, 0.3753228485584259, 0.09383071213960648, 0.39727240800857544, 0.5959086418151855, 0.19863620400428772, 0.4801155626773834, 0.4801155626773834, 0.46879372000694275, 0.46879372000694275, 0.5376595854759216, 0.2688297927379608, 0.1344148963689804, 0.2953893840312958, 0.2953893840312958, 0.2953893840312958, 0.41375038027763367, 0.6206256151199341, 0.20687519013881683, 0.46438807249069214, 0.46438807249069214, 0.09287761151790619, 0.5432232618331909, 0.38801661133766174, 0.07760331779718399, 0.32877030968666077, 0.43836042284965515, 0.21918021142482758, 0.5273898243904114, 0.4219118654727936, 0.1054779663681984, 0.3772551119327545, 0.3772551119327545, 0.3772551119327545, 0.4448918402194977, 0.4448918402194977, 0.11122296005487442, 0.4255730211734772, 0.4255730211734772, 0.14185766875743866, 0.4823533892631531, 0.4823533892631531, 0.24117669463157654, 0.36922651529312134, 0.36922651529312134, 0.36922651529312134, 0.3221370577812195, 0.644274115562439, 0.29919159412384033, 0.5983831882476807, 0.3077887296676636, 0.6155774593353271, 0.5471709966659546, 0.3647806644439697, 0.4870016872882843, 0.4870016872882843, 0.24350084364414215, 0.3509382903575897, 0.3509382903575897, 0.3509382903575897, 0.5596243143081665, 0.37308287620544434, 0.3403914272785187, 0.3403914272785187, 0.3403914272785187, 0.5207856297492981, 0.3905892074108124, 0.13019640743732452, 0.5869895219802856, 0.3521937131881714, 0.11739790439605713, 0.33520662784576416, 0.33520662784576416, 0.33520662784576416, 0.760107696056366, 0.380053848028183, 0.4941709339618683, 0.4941709339618683, 0.41212543845176697, 0.5151568055152893, 0.10303135961294174, 0.4280482232570648, 0.4280482232570648, 0.2140241116285324, 0.5071831345558167, 0.3803873658180237, 0.12679578363895416, 0.4296537935733795, 0.4296537935733795, 0.14321792125701904, 0.4171924591064453, 0.4171924591064453, 0.4161968529224396, 0.4161968529224396, 0.7856937646865845, 0.39284688234329224, 0.22742421925067902, 0.45484843850135803, 0.22742421925067902, 0.4087408781051636, 0.4087408781051636, 0.5723748207092285, 0.28618741035461426, 0.28618741035461426, 0.43519362807273865, 0.43519362807273865, 0.36089426279067993, 0.48119235038757324, 0.12029808759689331, 0.4145740866661072, 0.4145740866661072, 0.2072870433330536, 0.7082962989807129, 0.2360987663269043, 0.36485904455184937, 0.36485904455184937, 0.36485904455184937, 0.37184610962867737, 0.37184610962867737, 0.24789740145206451, 0.4722542464733124, 0.3541907072067261, 0.2361271232366562, 0.4274091124534607, 0.4274091124534607, 0.21370455622673035, 0.45209044218063354, 0.45209044218063354, 0.15069681406021118, 0.550137996673584, 0.18337932229042053, 0.18337932229042053, 0.411185622215271, 0.411185622215271, 0.10279640555381775, 0.5762903690338135, 0.34577423334121704, 0.11525807529687881, 0.47473105788230896, 0.47473105788230896, 0.4118741452693939, 0.4118741452693939, 0.20593707263469696, 0.6513551473617554, 0.2605420649051666, 0.3509880304336548, 0.3509880304336548, 0.3509880304336548, 0.5950003862380981, 0.2975001931190491, 0.07437504827976227, 0.4503031373023987, 0.39401525259017944, 0.1688636839389801, 0.3426033556461334, 0.3426033556461334, 0.1713016778230667, 0.32982397079467773, 0.4397652745246887, 0.10994131863117218, 0.3031369745731354, 0.45470544695854187, 0.1515684872865677, 0.3394777178764343, 0.5092166066169739, 0.16973885893821716, 0.5527106523513794, 0.2763553261756897, 0.781825840473175, 0.3909129202365875, 0.5517580509185791, 0.27587902545928955, 0.5048984289169312, 0.37867382168769836, 0.1262246072292328, 0.38525867462158203, 0.38525867462158203, 0.38525867462158203, 0.3841056823730469, 0.480132132768631, 0.09602642059326172, 0.4743691384792328, 0.355776846408844, 0.1185922846198082, 0.5242198705673218, 0.34947994351387024, 0.08736998587846756, 0.4600522816181183, 0.4600522816181183, 0.11501307040452957, 0.4784936010837555, 0.4784936010837555, 0.4977838695049286, 0.4977838695049286, 0.4979880154132843, 0.39839041233062744, 0.09959760308265686, 0.22068500518798828, 0.44137001037597656, 0.22068500518798828, 0.24796003103256226, 0.4959200620651245, 0.24796003103256226, 0.4221440255641937, 0.4221440255641937, 0.21107201278209686, 0.5756475925445557, 0.28782379627227783, 0.28782379627227783, 0.266121506690979, 0.532243013381958, 0.1330607533454895, 0.35858091711997986, 0.35858091711997986, 0.35858091711997986, 0.3601701855659485, 0.3601701855659485, 0.3601701855659485, 0.471363365650177, 0.471363365650177, 0.37518227100372314, 0.5627734065055847, 0.09379556775093079, 0.4991961121559143, 0.399356871843338, 0.0998392179608345, 0.41044139862060547, 0.41044139862060547, 0.10261034965515137, 0.3306904137134552, 0.6613808274269104, 0.3408461809158325, 0.5112692713737488, 0.17042309045791626, 0.2533727288246155, 0.506745457649231, 0.2533727288246155, 0.31487607955932617, 0.6297521591186523, 0.47282543778419495, 0.47282543778419495, 0.11820635944604874, 0.4098634719848633, 0.49183616042137146, 0.16394539177417755, 0.39239388704299927, 0.4904923439025879, 0.09809847176074982, 0.45138028264045715, 0.45138028264045715, 0.11284507066011429, 0.5477485060691833, 0.182582825422287, 0.182582825422287], \"Term\": [\"ability\", \"ability\", \"ability\", \"abuse\", \"abuse\", \"abuse\", \"achieve\", \"achieve\", \"achieve\", \"adding\", \"adding\", \"address\", \"address\", \"address\", \"addressing\", \"addressing\", \"addressing\", \"adversity\", \"adversity\", \"afghan\", \"afghan\", \"afghan\", \"almost\", \"almost\", \"almost\", \"ambitious\", \"ambitious\", \"ambitious\", \"asked\", \"asked\", \"asked\", \"background\", \"background\", \"background\", \"barely\", \"barely\", \"belief\", \"belief\", \"belief\", \"believed\", \"believed\", \"believed\", \"bold\", \"bold\", \"bought\", \"bought\", \"brought\", \"brought\", \"brought\", \"budged\", \"budged\", \"builder\", \"builder\", \"burden\", \"burden\", \"burden\", \"buy\", \"buy\", \"buy\", \"called\", \"called\", \"called\", \"capacity\", \"capacity\", \"capital\", \"capital\", \"ceo\", \"ceo\", \"ceo\", \"certain\", \"certain\", \"certain\", \"childcare\", \"childcare\", \"childcare\", \"choose\", \"choose\", \"choose\", \"citizenship\", \"citizenship\", \"citizenship\", \"civil\", \"civil\", \"cleaner\", \"cleaner\", \"clear\", \"clear\", \"clear\", \"close\", \"close\", \"close\", \"coming\", \"coming\", \"coming\", \"commission\", \"commission\", \"commission\", \"competitor\", \"competitor\", \"comprehensive\", \"comprehensive\", \"comprehensive\", \"confidence\", \"confidence\", \"confidence\", \"conflict\", \"conflict\", \"conflict\", \"core\", \"core\", \"corrosive\", \"corrosive\", \"costly\", \"costly\", \"costly\", \"counterterrorism\", \"counterterrorism\", \"creation\", \"creation\", \"creation\", \"decency\", \"decency\", \"decency\", \"decline\", \"decline\", \"decline\", \"delivered\", \"delivered\", \"depend\", \"depend\", \"depend\", \"depression\", \"depression\", \"depression\", \"develop\", \"develop\", \"develop\", \"difficult\", \"difficult\", \"difficult\", \"diploma\", \"diploma\", \"diploma\", \"diplomacy\", \"diplomacy\", \"diplomacy\", \"disagreement\", \"disagreement\", \"disagreement\", \"double\", \"double\", \"double\", \"duty\", \"duty\", \"duty\", \"easy\", \"easy\", \"easy\", \"ebola\", \"ebola\", \"economist\", \"economist\", \"economist\", \"election\", \"election\", \"election\", \"employer\", \"employer\", \"employer\", \"epidemic\", \"epidemic\", \"evidence\", \"evidence\", \"evidence\", \"expect\", \"expect\", \"expect\", \"expert\", \"expert\", \"expert\", \"extended\", \"extended\", \"failing\", \"failing\", \"faith\", \"faith\", \"faith\", \"fastest\", \"fastest\", \"fastest\", \"fighter\", \"fighter\", \"fighter\", \"fiscal\", \"fiscal\", \"fiscal\", \"fourth\", \"fourth\", \"freeze\", \"freeze\", \"freeze\", \"gave\", \"gave\", \"gave\", \"governor\", \"governor\", \"governor\", \"guide\", \"guide\", \"harder\", \"harder\", \"harder\", \"healthier\", \"healthier\", \"healthier\", \"hear\", \"hear\", \"hear\", \"highest\", \"highest\", \"highest\", \"highly\", \"highly\", \"hopeful\", \"hopeful\", \"hopeful\", \"huge\", \"huge\", \"hundred\", \"hundred\", \"hundred\", \"impact\", \"impact\", \"impact\", \"important\", \"important\", \"important\", \"inevitable\", \"inevitable\", \"influence\", \"influence\", \"influence\", \"intention\", \"intention\", \"international\", \"international\", \"international\", \"internet\", \"internet\", \"internet\", \"invent\", \"invent\", \"isil\", \"isil\", \"isil\", \"justice\", \"justice\", \"justice\", \"kill\", \"kill\", \"kill\", \"larger\", \"larger\", \"launching\", \"launching\", \"launching\", \"leadership\", \"leadership\", \"leadership\", \"leaf\", \"leaf\", \"leaf\", \"least\", \"least\", \"least\", \"leave\", \"leave\", \"leave\", \"leaving\", \"leaving\", \"lender\", \"lender\", \"lending\", \"lending\", \"lending\", \"lesson\", \"lesson\", \"lesson\", \"living\", \"living\", \"living\", \"lobbyist\", \"lobbyist\", \"lobbyist\", \"looking\", \"looking\", \"looking\", \"loophole\", \"loophole\", \"loophole\", \"losing\", \"losing\", \"lost\", \"lost\", \"lost\", \"maintain\", \"maintain\", \"manufacturer\", \"manufacturer\", \"manufacturer\", \"matter\", \"matter\", \"matter\", \"medicine\", \"medicine\", \"might\", \"might\", \"might\", \"minimum\", \"minimum\", \"minimum\", \"mission\", \"mission\", \"mission\", \"mom\", \"mom\", \"moment\", \"moment\", \"moment\", \"mortgage\", \"mortgage\", \"mortgage\", \"movement\", \"movement\", \"naive\", \"naive\", \"natural\", \"natural\", \"natural\", \"network\", \"network\", \"network\", \"nurse\", \"nurse\", \"obligation\", \"obligation\", \"offer\", \"offer\", \"offer\", \"old\", \"old\", \"old\", \"online\", \"online\", \"online\", \"organization\", \"organization\", \"partisanship\", \"partisanship\", \"partner\", \"partner\", \"partner\", \"pathway\", \"pathway\", \"pathway\", \"per\", \"per\", \"per\", \"play\", \"play\", \"play\", \"point\", \"point\", \"point\", \"political\", \"political\", \"political\", \"prosperity\", \"prosperity\", \"prosperity\", \"providing\", \"providing\", \"providing\", \"pursue\", \"pursue\", \"pursue\", \"quality\", \"quality\", \"quality\", \"quo\", \"quo\", \"quo\", \"ran\", \"ran\", \"ran\", \"rancor\", \"rancor\", \"reality\", \"reality\", \"recruit\", \"recruit\", \"reducing\", \"reducing\", \"reject\", \"reject\", \"reject\", \"relation\", \"relation\", \"relation\", \"relief\", \"relief\", \"relieve\", \"relieve\", \"relieve\", \"remain\", \"remain\", \"remain\", \"remember\", \"remember\", \"remember\", \"request\", \"request\", \"request\", \"requiring\", \"requiring\", \"resilience\", \"resilience\", \"resource\", \"resource\", \"resource\", \"result\", \"result\", \"result\", \"return\", \"return\", \"return\", \"rising\", \"rising\", \"rising\", \"rolling\", \"rolling\", \"safeguard\", \"safeguard\", \"safely\", \"safely\", \"sanction\", \"sanction\", \"sanction\", \"saved\", \"saved\", \"saying\", \"saying\", \"saying\", \"scientific\", \"scientific\", \"scientist\", \"scientist\", \"scientist\", \"second\", \"second\", \"second\", \"secretary\", \"secretary\", \"seems\", \"seems\", \"seems\", \"senate\", \"senate\", \"senate\", \"sent\", \"sent\", \"sent\", \"serious\", \"serious\", \"serious\", \"service\", \"service\", \"service\", \"shared\", \"shared\", \"shared\", \"sick\", \"sick\", \"sick\", \"sign\", \"sign\", \"sign\", \"sits\", \"sits\", \"solve\", \"solve\", \"solve\", \"son\", \"son\", \"speaking\", \"speaking\", \"speaking\", \"speed\", \"speed\", \"speed\", \"spending\", \"spending\", \"spending\", \"spent\", \"spent\", \"spent\", \"spirit\", \"spirit\", \"spirit\", \"spread\", \"spread\", \"spread\", \"starting\", \"starting\", \"starting\", \"steve\", \"steve\", \"stress\", \"stress\", \"strongly\", \"strongly\", \"succeed\", \"succeed\", \"succeed\", \"surplus\", \"surplus\", \"surplus\", \"taken\", \"taken\", \"taken\", \"task\", \"task\", \"task\", \"tech\", \"tech\", \"tech\", \"tell\", \"tell\", \"tell\", \"temperature\", \"temperature\", \"tempting\", \"tempting\", \"thanks\", \"thanks\", \"thanks\", \"thought\", \"thought\", \"thought\", \"threaten\", \"threaten\", \"threaten\", \"tough\", \"tough\", \"tough\", \"trading\", \"trading\", \"trading\", \"try\", \"try\", \"try\", \"upholding\", \"upholding\", \"upholding\", \"upon\", \"upon\", \"upon\", \"valley\", \"valley\", \"voice\", \"voice\", \"voice\", \"wait\", \"wait\", \"wait\", \"walk\", \"walk\", \"walk\", \"warmest\", \"warmest\", \"watching\", \"watching\", \"watching\", \"weaken\", \"weaken\", \"weaken\", \"wealth\", \"wealth\", \"wealthiest\", \"wealthiest\", \"wealthiest\", \"win\", \"win\", \"win\", \"workforce\", \"workforce\", \"workforce\", \"worse\", \"worse\", \"worse\", \"wrote\", \"wrote\", \"wrote\"]}, \"R\": 30, \"lambda.step\": 0.01, \"plot.opts\": {\"xlab\": \"PC1\", \"ylab\": \"PC2\"}, \"topic.order\": [4, 1, 3, 2]};\n",
       "\n",
       "function LDAvis_load_lib(url, callback){\n",
       "  var s = document.createElement('script');\n",
       "  s.src = url;\n",
       "  s.async = true;\n",
       "  s.onreadystatechange = s.onload = callback;\n",
       "  s.onerror = function(){console.warn(\"failed to load library \" + url);};\n",
       "  document.getElementsByTagName(\"head\")[0].appendChild(s);\n",
       "}\n",
       "\n",
       "if(typeof(LDAvis) !== \"undefined\"){\n",
       "   // already loaded: just create the visualization\n",
       "   !function(LDAvis){\n",
       "       new LDAvis(\"#\" + \"ldavis_el37238140575168220512870057928\", ldavis_el37238140575168220512870057928_data);\n",
       "   }(LDAvis);\n",
       "}else if(typeof define === \"function\" && define.amd){\n",
       "   // require.js is available: use it to load d3/LDAvis\n",
       "   require.config({paths: {d3: \"https://cdnjs.cloudflare.com/ajax/libs/d3/3.5.5/d3.min\"}});\n",
       "   require([\"d3\"], function(d3){\n",
       "      window.d3 = d3;\n",
       "      LDAvis_load_lib(\"https://cdn.rawgit.com/bmabey/pyLDAvis/files/ldavis.v1.0.0.js\", function(){\n",
       "        new LDAvis(\"#\" + \"ldavis_el37238140575168220512870057928\", ldavis_el37238140575168220512870057928_data);\n",
       "      });\n",
       "    });\n",
       "}else{\n",
       "    // require.js not available: dynamically load d3 & LDAvis\n",
       "    LDAvis_load_lib(\"https://cdnjs.cloudflare.com/ajax/libs/d3/3.5.5/d3.min.js\", function(){\n",
       "         LDAvis_load_lib(\"https://cdn.rawgit.com/bmabey/pyLDAvis/files/ldavis.v1.0.0.js\", function(){\n",
       "                 new LDAvis(\"#\" + \"ldavis_el37238140575168220512870057928\", ldavis_el37238140575168220512870057928_data);\n",
       "            })\n",
       "         });\n",
       "}\n",
       "</script>"
      ],
      "text/plain": [
       "PreparedData(topic_coordinates=              x         y  topics  cluster       Freq\n",
       "topic                                                \n",
       "3      0.009346  0.000291       1        1  47.041523\n",
       "0     -0.000095 -0.003521       2        1  39.887783\n",
       "2     -0.008246 -0.000027       3        1  13.030921\n",
       "1     -0.001004  0.003257       4        1   0.039768, topic_info=           Term       Freq      Total Category  logprob  loglift\n",
       "441    spending  17.000000  17.000000  Default  30.0000  30.0000\n",
       "673  leadership  21.000000  21.000000  Default  29.0000  29.0000\n",
       "684      matter  13.000000  13.000000  Default  28.0000  28.0000\n",
       "653     hundred   9.000000   9.000000  Default  27.0000  27.0000\n",
       "362     quality  14.000000  14.000000  Default  26.0000  26.0000\n",
       "..          ...        ...        ...      ...      ...      ...\n",
       "298    mortgage   0.004257  11.745753   Topic4  -6.3309  -0.0929\n",
       "79        close   0.004137  10.610523   Topic4  -6.3595  -0.0199\n",
       "528      afghan   0.004323  14.083180   Topic4  -6.3155  -0.2590\n",
       "721        play   0.004031  10.766857   Topic4  -6.3854  -0.0604\n",
       "776       speed   0.004133  13.445370   Topic4  -6.3605  -0.2576\n",
       "\n",
       "[312 rows x 6 columns], token_table=      Topic      Freq     Term\n",
       "term                          \n",
       "0         1  0.373345  ability\n",
       "0         2  0.373345  ability\n",
       "0         3  0.186673  ability\n",
       "2         1  0.367107    abuse\n",
       "2         2  0.550660    abuse\n",
       "...     ...       ...      ...\n",
       "518       2  0.451380    worse\n",
       "518       3  0.112845    worse\n",
       "821       1  0.547749    wrote\n",
       "821       2  0.182583    wrote\n",
       "821       3  0.182583    wrote\n",
       "\n",
       "[603 rows x 3 columns], R=30, lambda_step=0.01, plot_opts={'xlab': 'PC1', 'ylab': 'PC2'}, topic_order=[4, 1, 3, 2])"
      ]
     },
     "execution_count": 41,
     "metadata": {},
     "output_type": "execute_result"
    }
   ],
   "source": [
    "pyLDAvis.enable_notebook()\n",
    "vis = pyLDAvis.gensim.prepare(lda, corpus, id2word)\n",
    "vis"
   ]
  },
  {
   "cell_type": "markdown",
   "metadata": {},
   "source": [
    "Se deja la posibilidad de comprobar el nivel de coherencia según el número de tópicos establecido para el modelo. De esta forma se puede comprobar si este número fue escogido de manera correcta o si resulta mejor cambiarlo."
   ]
  },
  {
   "cell_type": "code",
   "execution_count": 42,
   "metadata": {},
   "outputs": [],
   "source": [
    "def compute_coherence_values(dictionary, corpus, texts, limit, start=2, step=3):\n",
    "    \"\"\"\n",
    "    Compute c_v coherence for various number of topics\n",
    "\n",
    "    Parameters:\n",
    "    ----------\n",
    "    dictionary : Gensim dictionary\n",
    "    corpus : Gensim corpus\n",
    "    texts : List of input texts\n",
    "    limit : Max num of topics\n",
    "\n",
    "    Returns:\n",
    "    -------\n",
    "    model_list : List of LDA topic models\n",
    "    coherence_values : Coherence values corresponding to the LDA model with respective number of topics\n",
    "    \"\"\"\n",
    "    coherence_values = []\n",
    "    model_list = []\n",
    "    for num_topics in range(start, limit, step):\n",
    "        model = models.ldamodel.LdaModel(corpus=corpus, id2word=id2word, num_topics=num_topics)\n",
    "        model_list.append(model)\n",
    "        coherencemodel = models.CoherenceModel(model=model, texts=texts, dictionary=dictionary, coherence='c_v')\n",
    "        coherence_values.append(coherencemodel.get_coherence())\n",
    "\n",
    "    return model_list, coherence_values"
   ]
  },
  {
   "cell_type": "code",
   "execution_count": 43,
   "metadata": {},
   "outputs": [],
   "source": [
    "model_list, coherence_values = compute_coherence_values(dictionary=id2word, corpus=corpus, texts=texts, start=2, limit=10, step=1)"
   ]
  },
  {
   "cell_type": "code",
   "execution_count": 44,
   "metadata": {},
   "outputs": [
    {
     "data": {
      "image/png": "[encoded data removed]",
      "text/plain": [
       "<Figure size 432x288 with 1 Axes>"
      ]
     },
     "metadata": {
      "needs_background": "light"
     },
     "output_type": "display_data"
    }
   ],
   "source": [
    "# Graficamos\n",
    "limit=10; start=2; step=1;\n",
    "x = range(start, limit, step)\n",
    "plt.plot(x, coherence_values)\n",
    "plt.xlabel(\"Num Topics\")\n",
    "plt.ylabel(\"Coherence score\")\n",
    "plt.legend((\"coherence_values\"), loc='best')\n",
    "plt.show()"
   ]
  },
  {
   "cell_type": "markdown",
   "metadata": {},
   "source": [
    "Se puede observar como la cantidad de tópicos que resultan con mayores valores de coherencia son 4 y 7. Se escogió la cantidad de 4 por ser un número más adecuado de analizar."
   ]
  },
  {
   "cell_type": "markdown",
   "metadata": {},
   "source": [
    "#### Se repite el proceso para los discursos de Trump"
   ]
  },
  {
   "cell_type": "code",
   "execution_count": 45,
   "metadata": {},
   "outputs": [
    {
     "data": {
      "text/plain": [
       "[(0,\n",
       "  '0.003*\"make\" + 0.002*\"ryan\" + 0.002*\"number\" + 0.002*\"alien\" + 0.002*\"party\" + 0.002*\"friend\" + 0.002*\"record\" + 0.002*\"dangerous\" + 0.002*\"please\" + 0.002*\"alice\" + 0.002*\"fight\" + 0.002*\"audience\" + 0.002*\"business\" + 0.002*\"unemployment\" + 0.002*\"men\"'),\n",
       " (1,\n",
       "  '0.002*\"make\" + 0.002*\"unemployment\" + 0.002*\"number\" + 0.002*\"way\" + 0.002*\"please\" + 0.002*\"business\" + 0.002*\"heart\" + 0.002*\"ryan\" + 0.002*\"record\" + 0.002*\"alice\" + 0.002*\"nuclear\" + 0.002*\"audience\" + 0.002*\"fight\" + 0.001*\"deal\" + 0.001*\"ice\"'),\n",
       " (2,\n",
       "  '0.002*\"please\" + 0.002*\"record\" + 0.002*\"make\" + 0.002*\"health_care\" + 0.002*\"alien\" + 0.002*\"number\" + 0.002*\"unemployment\" + 0.002*\"ice\" + 0.002*\"friend\" + 0.002*\"sanctuary\" + 0.002*\"audience\" + 0.002*\"lowest\" + 0.002*\"thanks\" + 0.002*\"find\" + 0.002*\"passed\"'),\n",
       " (3,\n",
       "  '0.002*\"friend\" + 0.002*\"make\" + 0.002*\"ryan\" + 0.002*\"please\" + 0.002*\"alien\" + 0.002*\"audience\" + 0.002*\"party\" + 0.002*\"health_care\" + 0.002*\"gang\" + 0.002*\"number\" + 0.002*\"business\" + 0.002*\"fight\" + 0.002*\"health\" + 0.002*\"record\" + 0.002*\"men\"')]"
      ]
     },
     "execution_count": 45,
     "metadata": {},
     "output_type": "execute_result"
    }
   ],
   "source": [
    "id2word_t = corpora.Dictionary(df_trump['Speech'])\n",
    "\n",
    "id2word_t.filter_extremes(no_below=1, no_above=0.9)\n",
    "\n",
    "# Corpus\n",
    "texts_t = df_trump['Speech']\n",
    "\n",
    "# Frecuencia\n",
    "corpus_t = [id2word_t.doc2bow(text) for text in texts_t]\n",
    "\n",
    "lda_t=models.ldamodel.LdaModel(corpus=corpus_t, id2word=id2word_t, num_topics=4)\n",
    "\n",
    "lda_t.print_topics(num_words=15)"
   ]
  },
  {
   "cell_type": "code",
   "execution_count": 46,
   "metadata": {},
   "outputs": [
    {
     "data": {
      "text/html": [
       "\n",
       "<link rel=\"stylesheet\" type=\"text/css\" href=\"https://cdn.rawgit.com/bmabey/pyLDAvis/files/ldavis.v1.0.0.css\">\n",
       "\n",
       "\n",
       "<div id=\"ldavis_el372381405763363652645833992978\"></div>\n",
       "<script type=\"text/javascript\">\n",
       "\n",
       "var ldavis_el372381405763363652645833992978_data = {\"mdsDat\": {\"x\": [-0.002133085259463929, 0.004158661716067396, -1.4827788559112512e-05, -0.002010748668044357], \"y\": [0.001946216042298559, 0.0008418042419502159, -0.002482734884848783, -0.00030528539939998783], \"topics\": [1, 2, 3, 4], \"cluster\": [1, 1, 1, 1], \"Freq\": [45.05806350708008, 36.229740142822266, 13.696466445922852, 5.015726089477539]}, \"tinfo\": {\"Term\": [\"make\", \"unemployment\", \"ryan\", \"way\", \"friend\", \"business\", \"please\", \"number\", \"heart\", \"alice\", \"nuclear\", \"fight\", \"audience\", \"deal\", \"hard\", \"party\", \"gang\", \"everyone\", \"record\", \"human\", \"elvin\", \"end\", \"regime\", \"health_care\", \"dangerous\", \"pillar\", \"ice\", \"took\", \"men\", \"north\", \"sex\", \"alice\", \"investigation\", \"nafta\", \"terrific\", \"heaven\", \"officer\", \"followed\", \"judah\", \"holding\", \"blame\", \"irving\", \"sky\", \"exact\", \"toughest\", \"kim\", \"matson\", \"penalty\", \"non\", \"train\", \"richer\", \"honoring\", \"side\", \"car\", \"dark\", \"unborn\", \"port\", \"dangerous\", \"republic\", \"narrowly\", \"wonderful\", \"safety\", \"tariff\", \"science\", \"ryan\", \"iran\", \"death\", \"regime\", \"cooperation\", \"june\", \"living\", \"moment\", \"make\", \"secure\", \"m\", \"party\", \"herman\", \"office\", \"fight\", \"nuclear\", \"soldier\", \"prison\", \"daughter\", \"business\", \"number\", \"chamber\", \"north\", \"deserve\", \"alien\", \"deal\", \"men\", \"way\", \"stop\", \"audience\", \"friend\", \"record\", \"gang\", \"please\", \"unemployment\", \"passed\", \"sanctuary\", \"health_care\", \"ice\", \"health\", \"provide\", \"janiyah\", \"rush\", \"ambitious\", \"illegally\", \"prisoner\", \"factory\", \"brandnew\", \"chris\", \"announce\", \"medicare\", \"suffering\", \"youngest\", \"frontier\", \"thrive\", \"pipeline\", \"voice\", \"resource\", \"went\", \"pride\", \"popular\", \"jenna\", \"teach\", \"renewed\", \"wiping\", \"supporting\", \"mar\", \"ortiz\", \"adoption\", \"brutalizes\", \"may\", \"religion\", \"lowest\", \"thanks\", \"megan\", \"calling\", \"expand\", \"victim\", \"died\", \"health_care\", \"ice\", \"find\", \"please\", \"value\", \"record\", \"california\", \"human\", \"sanctuary\", \"unemployment\", \"something\", \"program\", \"shot\", \"alien\", \"step\", \"behind\", \"ellie\", \"number\", \"passed\", \"health\", \"provide\", \"friend\", \"make\", \"audience\", \"men\", \"agent\", \"insurance\", \"gang\", \"party\", \"education\", \"way\", \"terrorist\", \"fight\", \"principle\", \"sequester\", \"obamacare\", \"cannot\", \"lobbyist\", \"seat\", \"prime\", \"bless\", \"department\", \"integrity\", \"fantastic\", \"grade\", \"owen\", \"asked\", \"abraham\", \"aggressive\", \"protest\", \"pure\", \"louisiana\", \"bound\", \"served\", \"willing\", \"chart\", \"ready\", \"coordinate\", \"wherever\", \"poorest\", \"greatly\", \"field\", \"pour\", \"throughout\", \"rare\", \"monument\", \"friend\", \"form\", \"return\", \"everyone\", \"care\", \"strength\", \"think\", \"small\", \"lawless\", \"took\", \"tell\", \"ryan\", \"taxpayer\", \"north\", \"enemy\", \"look\", \"hospital\", \"terrorist\", \"gang\", \"business\", \"prison\", \"audience\", \"leader\", \"health\", \"way\", \"fight\", \"party\", \"please\", \"health_care\", \"make\", \"end\", \"alien\", \"dangerous\", \"men\", \"foreign\", \"deal\", \"number\", \"record\", \"unemployment\", \"provide\", \"ice\", \"passed\", \"sanctuary\", \"elvin\", \"staub\", \"well\", \"negotiate\", \"visa\", \"surgery\", \"everywhere\", \"practice\", \"reno\", \"legacy\", \"caught\", \"abroad\", \"core\", \"matthew\", \"representative\", \"robert\", \"gotten\", \"extremely\", \"beyond\", \"industry\", \"booby\", \"pillar\", \"hospital\", \"louisiana\", \"star\", \"feeling\", \"inspired\", \"c\", \"side\", \"bonus\", \"helped\", \"hundred\", \"area\", \"began\", \"heart\", \"expected\", \"hard\", \"show\", \"youth\", \"nuclear\", \"allow\", \"within\", \"income\", \"way\", \"unfair\", \"mile\", \"alice\", \"close\", \"unemployment\", \"budget\", \"violent\", \"human\", \"end\", \"deal\", \"business\", \"everyone\", \"recent\", \"make\", \"regime\", \"number\", \"fight\", \"reached\", \"second\", \"please\", \"audience\", \"ryan\", \"ice\", \"record\", \"agent\", \"party\", \"gang\", \"passed\", \"men\", \"friend\", \"health_care\", \"dangerous\", \"alien\", \"find\"], \"Freq\": [13.0, 10.0, 10.0, 8.0, 11.0, 8.0, 11.0, 11.0, 7.0, 7.0, 7.0, 8.0, 9.0, 8.0, 6.0, 10.0, 9.0, 6.0, 10.0, 7.0, 4.0, 6.0, 7.0, 9.0, 8.0, 5.0, 9.0, 6.0, 9.0, 6.0, 1.7846293449401855, 4.5975823402404785, 2.1731817722320557, 4.109724521636963, 1.2537071704864502, 1.3058372735977173, 4.05208158493042, 1.5716123580932617, 2.983778476715088, 1.2595252990722656, 1.1717017889022827, 0.816378653049469, 2.012089967727661, 2.326503276824951, 1.2149193286895752, 1.1844769716262817, 1.1919461488723755, 1.1622650623321533, 1.2136311531066895, 2.053823471069336, 0.7898865342140198, 0.8035497665405273, 2.182305097579956, 2.35998272895813, 0.7883334755897522, 1.5650097131729126, 1.476985216140747, 4.691832065582275, 1.180734395980835, 1.1223580837249756, 3.116218090057373, 2.652221441268921, 2.3970894813537598, 1.496444821357727, 5.63654088973999, 2.8382434844970703, 3.5340399742126465, 4.060293197631836, 1.993821382522583, 1.9043662548065186, 3.012007713317871, 3.2901980876922607, 6.942507743835449, 3.4292168617248535, 3.0582339763641357, 5.03431510925293, 2.615431070327759, 3.552023410797119, 4.529208660125732, 3.7676308155059814, 2.982802629470825, 3.6030521392822266, 3.655374050140381, 4.374588489532471, 5.472433567047119, 3.362213611602783, 3.450360059738159, 2.9544034004211426, 5.066977500915527, 3.9288876056671143, 4.301313400268555, 4.075590133666992, 3.32049560546875, 4.419703960418701, 4.834188938140869, 4.698594570159912, 4.125823974609375, 4.6070098876953125, 4.319077014923096, 3.8037290573120117, 3.7983665466308594, 3.942351818084717, 3.841425657272339, 3.714313507080078, 3.6619954109191895, 2.7072877883911133, 2.1392788887023926, 1.116379976272583, 1.1056864261627197, 1.4329867362976074, 2.133862257003784, 1.0602624416351318, 1.499900221824646, 1.447129726409912, 1.028110384941101, 1.4190753698349, 1.0909711122512817, 1.3298529386520386, 1.020455002784729, 1.374982476234436, 2.0241641998291016, 1.376481533050537, 2.607448101043701, 1.3513522148132324, 0.6825994849205017, 1.64859139919281, 1.3481175899505615, 0.6843305826187134, 0.6615150570869446, 1.6423438787460327, 0.6736915707588196, 1.6208384037017822, 0.6735579967498779, 0.6596924662590027, 1.2311515808105469, 1.3077819347381592, 3.3899049758911133, 3.3433032035827637, 2.585479736328125, 2.536017894744873, 2.232278823852539, 2.4553749561309814, 1.8885738849639893, 4.262103080749512, 3.971306085586548, 3.322946310043335, 4.702409744262695, 2.308720111846924, 4.5280938148498535, 2.856450319290161, 3.2624495029449463, 3.7393293380737305, 4.226952075958252, 2.8835740089416504, 2.7410974502563477, 2.1560206413269043, 4.237587928771973, 2.8537065982818604, 2.646446943283081, 2.5027201175689697, 4.22745418548584, 3.3148207664489746, 3.297250747680664, 3.171907663345337, 3.889878511428833, 4.385831832885742, 3.4998464584350586, 3.307053804397583, 2.9730403423309326, 2.870107650756836, 3.1668124198913574, 3.182236671447754, 2.68125057220459, 2.8210065364837646, 2.7051310539245605, 2.7278923988342285, 0.5272040367126465, 0.3815990686416626, 1.0051223039627075, 0.7478501200675964, 0.25179803371429443, 0.24091587960720062, 0.395927757024765, 0.37540775537490845, 0.9609258770942688, 0.24640697240829468, 0.3767574429512024, 0.2504158914089203, 0.37059998512268066, 0.6160931587219238, 0.245851069688797, 0.2428569495677948, 0.25276967883110046, 0.2438930869102478, 0.3440600335597992, 0.24008668959140778, 0.6011705994606018, 0.23861169815063477, 0.3465757966041565, 0.4907006621360779, 0.24502688646316528, 0.4819866716861725, 0.48999831080436707, 0.23689034581184387, 0.34567248821258545, 0.37068358063697815, 0.7364547848701477, 0.4683886170387268, 0.6983211040496826, 1.9832626581192017, 0.7230177521705627, 0.611359715461731, 1.150459885597229, 1.2424858808517456, 0.724704384803772, 0.7188805937767029, 1.0721032619476318, 0.47735702991485596, 1.106889009475708, 0.8193472623825073, 1.6803457736968994, 1.023407220840454, 1.0795598030090332, 0.893134593963623, 0.9081618785858154, 0.8360560536384583, 1.1743072271347046, 1.3576768636703491, 1.3051812648773193, 1.0814130306243896, 1.3941090106964111, 0.9469950795173645, 1.2523695230484009, 1.2475974559783936, 1.2818994522094727, 1.3829094171524048, 1.5052043199539185, 1.368728756904602, 1.7039361000061035, 1.0170423984527588, 1.4338207244873047, 1.1940422058105469, 1.249239206314087, 0.9745594263076782, 1.115447998046875, 1.3058886528015137, 1.251625657081604, 1.190782904624939, 1.0667506456375122, 1.046492338180542, 1.031348705291748, 1.029103398323059, 0.3701552450656891, 0.2603550851345062, 0.2965807020664215, 0.18686996400356293, 0.14335066080093384, 0.13967075943946838, 0.1853751242160797, 0.17949536442756653, 0.09111497551202774, 0.0868283286690712, 0.13134066760540009, 0.22252759337425232, 0.1748252511024475, 0.2669793665409088, 0.1355646848678589, 0.13310135900974274, 0.12659218907356262, 0.08910457789897919, 0.17581067979335785, 0.21477952599525452, 0.0877549946308136, 0.4064076244831085, 0.34186258912086487, 0.12450273334980011, 0.17121432721614838, 0.13443097472190857, 0.12694859504699707, 0.3415014445781708, 0.26623114943504333, 0.08448400348424911, 0.22506815195083618, 0.21278263628482819, 0.2595050036907196, 0.25100836157798767, 0.465909481048584, 0.2171345204114914, 0.41626909375190735, 0.2963024079799652, 0.2110968381166458, 0.45408105850219727, 0.29134348034858704, 0.22022384405136108, 0.33090925216674805, 0.5054770112037659, 0.36517980694770813, 0.34153908491134644, 0.454137921333313, 0.3343886137008667, 0.5716260671615601, 0.29559212923049927, 0.2937316298484802, 0.4280482530593872, 0.38281765580177307, 0.44530484080314636, 0.46814507246017456, 0.36899781227111816, 0.3163500130176544, 0.6174039840698242, 0.4062480628490448, 0.5312864780426025, 0.45025643706321716, 0.3709976077079773, 0.37919190526008606, 0.4938419461250305, 0.45048442482948303, 0.4658249020576477, 0.4299886226654053, 0.45486465096473694, 0.3895593583583832, 0.42648404836654663, 0.4054583013057709, 0.39500874280929565, 0.4010622203350067, 0.4169155955314636, 0.40160879492759705, 0.38830435276031494, 0.387240469455719, 0.38013988733291626], \"Total\": [13.0, 10.0, 10.0, 8.0, 11.0, 8.0, 11.0, 11.0, 7.0, 7.0, 7.0, 8.0, 9.0, 8.0, 6.0, 10.0, 9.0, 6.0, 10.0, 7.0, 4.0, 6.0, 7.0, 9.0, 8.0, 5.0, 9.0, 6.0, 9.0, 6.0, 2.977355480194092, 7.70400333404541, 3.7492833137512207, 7.090532302856445, 2.1748404502868652, 2.2685110569000244, 7.110979080200195, 2.761608839035034, 5.259531497955322, 2.240297794342041, 2.0841996669769287, 1.4579278230667114, 3.6074647903442383, 4.191057205200195, 2.1887736320495605, 2.134653091430664, 2.148921489715576, 2.095954656600952, 2.189152240753174, 3.706942558288574, 1.427932858467102, 1.4545345306396484, 3.955573558807373, 4.280258655548096, 1.429801344871521, 2.8410727977752686, 2.6821999549865723, 8.527338027954102, 2.1468067169189453, 2.041154623031616, 5.673416614532471, 4.841523170471191, 4.38645076751709, 2.7253987789154053, 10.46996784210205, 5.224699020385742, 6.596415042877197, 7.652499675750732, 3.6580810546875, 3.492347478866577, 5.644007682800293, 6.196674823760986, 13.649680137634277, 6.500921726226807, 5.771570682525635, 10.025945663452148, 4.92849588394165, 6.875701427459717, 8.989256858825684, 7.352019786834717, 5.702297687530518, 7.057854652404785, 7.177872180938721, 8.831586837768555, 11.537063598632812, 6.551298141479492, 6.758332252502441, 5.649139881134033, 11.125626564025879, 8.180954933166504, 9.258667945861816, 8.64967155456543, 6.585938930511475, 9.764143943786621, 11.124246597290039, 10.933178901672363, 9.055771827697754, 11.308465957641602, 10.30843734741211, 8.544907569885254, 8.897515296936035, 9.974791526794434, 9.289213180541992, 8.592286109924316, 8.175883293151855, 5.015133380889893, 4.128961086273193, 2.177516222000122, 2.1833255290985107, 2.831691265106201, 4.248080253601074, 2.1126186847686768, 2.996879816055298, 2.8984837532043457, 2.0736653804779053, 2.876020908355713, 2.2182302474975586, 2.7081902027130127, 2.0987401008605957, 2.8415369987487793, 4.1851420402526855, 2.859792947769165, 5.4418439865112305, 2.8331589698791504, 1.4320135116577148, 3.4588472843170166, 2.831555128097534, 1.4376707077026367, 1.3899364471435547, 3.485914707183838, 1.437166452407837, 3.468327283859253, 1.4458249807357788, 1.4210262298583984, 2.658306360244751, 2.8239123821258545, 7.393498420715332, 7.300603866577148, 5.631803035736084, 5.524094104766846, 4.85237455368042, 5.389432430267334, 4.114927291870117, 9.974791526794434, 9.289213180541992, 7.659952163696289, 11.308465957641602, 5.136785984039307, 10.933178901672363, 6.535131454467773, 7.619452476501465, 8.897515296936035, 10.30843734741211, 6.651583194732666, 6.385569095611572, 4.85308837890625, 11.125626564025879, 6.883289813995361, 6.277675628662109, 5.872485160827637, 11.537063598632812, 8.544907569885254, 8.592286109924316, 8.175883293151855, 11.124246597290039, 13.649680137634277, 9.764143943786621, 9.258667945861816, 7.68224573135376, 7.2433905601501465, 9.055771827697754, 10.025945663452148, 6.5671467781066895, 8.64967155456543, 7.573798179626465, 8.989256858825684, 2.531505823135376, 1.9197466373443604, 5.093262672424316, 3.804210662841797, 1.2884440422058105, 1.2340946197509766, 2.0340778827667236, 1.9330260753631592, 4.97865104675293, 1.2848247289657593, 1.9687741994857788, 1.3116142749786377, 1.946839690208435, 3.253538131713867, 1.3029557466506958, 1.2883342504501343, 1.3439199924468994, 1.299963116645813, 1.8387892246246338, 1.286819338798523, 3.222551107406616, 1.2824835777282715, 1.865225076675415, 2.6438534259796143, 1.3208117485046387, 2.599093198776245, 2.648040771484375, 1.2819302082061768, 1.870864987373352, 2.006260871887207, 4.005686283111572, 2.5360653400421143, 3.828399181365967, 11.124246597290039, 3.9740066528320312, 3.3520712852478027, 6.452542304992676, 7.064399242401123, 4.053267478942871, 4.021717548370361, 6.217874526977539, 2.622683525085449, 6.552964210510254, 4.73555326461792, 10.46996784210205, 6.1249542236328125, 6.758332252502441, 5.424118995666504, 5.554436206817627, 5.037862777709961, 7.573798179626465, 9.055771827697754, 8.831586837768555, 7.057854652404785, 9.764143943786621, 6.02057409286499, 8.592286109924316, 8.64967155456543, 8.989256858825684, 10.025945663452148, 11.308465957641602, 9.974791526794434, 13.649680137634277, 6.603686809539795, 11.125626564025879, 8.527338027954102, 9.258667945861816, 6.2570600509643555, 8.180954933166504, 11.537063598632812, 10.933178901672363, 10.30843734741211, 8.175883293151855, 9.289213180541992, 8.544907569885254, 8.897515296936035, 4.081486701965332, 3.1195406913757324, 3.580249786376953, 2.3779585361480713, 1.8845527172088623, 1.8847689628601074, 2.5588037967681885, 2.522019863128662, 1.2890055179595947, 1.2327148914337158, 1.870479702949524, 3.1715891361236572, 2.519068479537964, 3.8614072799682617, 1.965161919593811, 1.9310704469680786, 1.8511379957199097, 1.3033500909805298, 2.5726075172424316, 3.144989490509033, 1.2852859497070312, 5.976971626281738, 5.037862777709961, 1.8387892246246338, 2.534777879714966, 1.9912729263305664, 1.882727026939392, 5.066667556762695, 3.955573558807373, 1.2556843757629395, 3.3557190895080566, 3.17121958732605, 3.9161880016326904, 3.7860100269317627, 7.225080966949463, 3.265711545944214, 6.477359294891357, 4.553920269012451, 3.175867795944214, 7.352019786834717, 4.536468029022217, 3.349349021911621, 5.266852855682373, 8.64967155456543, 5.959657669067383, 5.5223565101623535, 7.70400333404541, 5.409246444702148, 10.30843734741211, 4.723565101623535, 4.698445796966553, 7.619452476501465, 6.603686809539795, 8.180954933166504, 8.831586837768555, 6.452542304992676, 5.225545883178711, 13.649680137634277, 7.652499675750732, 11.537063598632812, 8.989256858825684, 6.74730110168457, 7.011878967285156, 11.308465957641602, 9.764143943786621, 10.46996784210205, 9.289213180541992, 10.933178901672363, 7.68224573135376, 10.025945663452148, 9.055771827697754, 8.544907569885254, 9.258667945861816, 11.124246597290039, 9.974791526794434, 8.527338027954102, 11.125626564025879, 7.659952163696289], \"Category\": [\"Default\", \"Default\", \"Default\", \"Default\", \"Default\", \"Default\", \"Default\", \"Default\", \"Default\", \"Default\", \"Default\", \"Default\", \"Default\", \"Default\", \"Default\", \"Default\", \"Default\", \"Default\", \"Default\", \"Default\", \"Default\", \"Default\", \"Default\", \"Default\", \"Default\", \"Default\", \"Default\", \"Default\", \"Default\", \"Default\", \"Topic1\", \"Topic1\", \"Topic1\", \"Topic1\", \"Topic1\", \"Topic1\", \"Topic1\", \"Topic1\", \"Topic1\", \"Topic1\", \"Topic1\", \"Topic1\", \"Topic1\", \"Topic1\", \"Topic1\", \"Topic1\", \"Topic1\", \"Topic1\", \"Topic1\", \"Topic1\", \"Topic1\", \"Topic1\", \"Topic1\", \"Topic1\", \"Topic1\", \"Topic1\", \"Topic1\", \"Topic1\", \"Topic1\", \"Topic1\", \"Topic1\", \"Topic1\", \"Topic1\", \"Topic1\", \"Topic1\", \"Topic1\", \"Topic1\", \"Topic1\", \"Topic1\", \"Topic1\", \"Topic1\", \"Topic1\", \"Topic1\", \"Topic1\", \"Topic1\", \"Topic1\", \"Topic1\", \"Topic1\", \"Topic1\", \"Topic1\", \"Topic1\", \"Topic1\", \"Topic1\", \"Topic1\", \"Topic1\", \"Topic1\", \"Topic1\", \"Topic1\", \"Topic1\", \"Topic1\", \"Topic1\", \"Topic1\", \"Topic1\", \"Topic1\", \"Topic1\", \"Topic1\", \"Topic1\", \"Topic1\", \"Topic1\", \"Topic1\", \"Topic1\", \"Topic1\", \"Topic1\", \"Topic1\", \"Topic1\", \"Topic2\", \"Topic2\", \"Topic2\", \"Topic2\", \"Topic2\", \"Topic2\", \"Topic2\", \"Topic2\", \"Topic2\", \"Topic2\", \"Topic2\", \"Topic2\", \"Topic2\", \"Topic2\", \"Topic2\", \"Topic2\", \"Topic2\", \"Topic2\", \"Topic2\", \"Topic2\", \"Topic2\", \"Topic2\", \"Topic2\", \"Topic2\", \"Topic2\", \"Topic2\", \"Topic2\", \"Topic2\", \"Topic2\", \"Topic2\", \"Topic2\", \"Topic2\", \"Topic2\", \"Topic2\", \"Topic2\", \"Topic2\", \"Topic2\", \"Topic2\", \"Topic2\", \"Topic2\", \"Topic2\", \"Topic2\", \"Topic2\", \"Topic2\", \"Topic2\", \"Topic2\", \"Topic2\", \"Topic2\", \"Topic2\", \"Topic2\", \"Topic2\", \"Topic2\", \"Topic2\", \"Topic2\", \"Topic2\", \"Topic2\", \"Topic2\", \"Topic2\", \"Topic2\", \"Topic2\", \"Topic2\", \"Topic2\", \"Topic2\", \"Topic2\", \"Topic2\", \"Topic2\", \"Topic2\", \"Topic2\", \"Topic2\", \"Topic2\", \"Topic2\", \"Topic3\", \"Topic3\", \"Topic3\", \"Topic3\", \"Topic3\", \"Topic3\", \"Topic3\", \"Topic3\", \"Topic3\", \"Topic3\", \"Topic3\", \"Topic3\", \"Topic3\", \"Topic3\", \"Topic3\", \"Topic3\", \"Topic3\", \"Topic3\", \"Topic3\", \"Topic3\", \"Topic3\", \"Topic3\", \"Topic3\", \"Topic3\", \"Topic3\", \"Topic3\", \"Topic3\", \"Topic3\", \"Topic3\", \"Topic3\", \"Topic3\", \"Topic3\", \"Topic3\", \"Topic3\", \"Topic3\", \"Topic3\", \"Topic3\", \"Topic3\", \"Topic3\", \"Topic3\", \"Topic3\", \"Topic3\", \"Topic3\", \"Topic3\", \"Topic3\", \"Topic3\", \"Topic3\", \"Topic3\", \"Topic3\", \"Topic3\", \"Topic3\", \"Topic3\", \"Topic3\", \"Topic3\", \"Topic3\", \"Topic3\", \"Topic3\", \"Topic3\", \"Topic3\", \"Topic3\", \"Topic3\", \"Topic3\", \"Topic3\", \"Topic3\", \"Topic3\", \"Topic3\", \"Topic3\", \"Topic3\", \"Topic3\", \"Topic3\", \"Topic3\", \"Topic3\", \"Topic3\", \"Topic3\", \"Topic3\", \"Topic3\", \"Topic4\", \"Topic4\", \"Topic4\", \"Topic4\", \"Topic4\", \"Topic4\", \"Topic4\", \"Topic4\", \"Topic4\", \"Topic4\", \"Topic4\", \"Topic4\", \"Topic4\", \"Topic4\", \"Topic4\", \"Topic4\", \"Topic4\", \"Topic4\", \"Topic4\", \"Topic4\", \"Topic4\", \"Topic4\", \"Topic4\", \"Topic4\", \"Topic4\", \"Topic4\", \"Topic4\", \"Topic4\", \"Topic4\", \"Topic4\", \"Topic4\", \"Topic4\", \"Topic4\", \"Topic4\", \"Topic4\", \"Topic4\", \"Topic4\", \"Topic4\", \"Topic4\", \"Topic4\", \"Topic4\", \"Topic4\", \"Topic4\", \"Topic4\", \"Topic4\", \"Topic4\", \"Topic4\", \"Topic4\", \"Topic4\", \"Topic4\", \"Topic4\", \"Topic4\", \"Topic4\", \"Topic4\", \"Topic4\", \"Topic4\", \"Topic4\", \"Topic4\", \"Topic4\", \"Topic4\", \"Topic4\", \"Topic4\", \"Topic4\", \"Topic4\", \"Topic4\", \"Topic4\", \"Topic4\", \"Topic4\", \"Topic4\", \"Topic4\", \"Topic4\", \"Topic4\", \"Topic4\", \"Topic4\", \"Topic4\", \"Topic4\", \"Topic4\", \"Topic4\"], \"logprob\": [30.0, 29.0, 28.0, 27.0, 26.0, 25.0, 24.0, 23.0, 22.0, 21.0, 20.0, 19.0, 18.0, 17.0, 16.0, 15.0, 14.0, 13.0, 12.0, 11.0, 10.0, 9.0, 8.0, 7.0, 6.0, 5.0, 4.0, 3.0, 2.0, 1.0, -7.314000129699707, -6.367700099945068, -7.117099761962891, -6.479899883270264, -7.667200088500977, -7.626399993896484, -6.49399995803833, -7.441199779510498, -6.800099849700928, -7.662499904632568, -7.734799861907959, -8.096099853515625, -7.1940999031066895, -7.048900127410889, -7.698599815368652, -7.723999977111816, -7.717700004577637, -7.7428998947143555, -7.6996002197265625, -7.173600196838379, -8.12909984588623, -8.112000465393066, -7.1128997802734375, -7.034599781036377, -8.131099700927734, -7.445400238037109, -7.503300189971924, -6.347400188446045, -7.727099895477295, -7.7778000831604, -6.7565999031066895, -6.917900085449219, -7.019000053405762, -7.490200042724609, -6.164000034332275, -6.850100040435791, -6.630799770355225, -6.492000102996826, -7.203199863433838, -7.249100208282471, -6.790599822998047, -6.702300071716309, -5.955599784851074, -6.660900115966797, -6.775400161743164, -6.2769999504089355, -6.93179988861084, -6.625699996948242, -6.382699966430664, -6.566800117492676, -6.8003997802734375, -6.611499786376953, -6.597099781036377, -6.417399883270264, -6.19350004196167, -6.680699825286865, -6.654799938201904, -6.809999942779541, -6.270500183105469, -6.524899959564209, -6.434299945831299, -6.4882001876831055, -6.6930999755859375, -6.407199859619141, -6.317500114440918, -6.3460001945495605, -6.47599983215332, -6.365699768066406, -6.430200099945068, -6.557300090789795, -6.558700084686279, -6.521500110626221, -6.547399997711182, -6.581099987030029, -6.595200061798096, -6.679200172424316, -6.914700031280518, -7.565100193023682, -7.574699878692627, -7.315400123596191, -6.917300224304199, -7.616700172424316, -7.269800186157227, -7.305600166320801, -7.647500038146973, -7.325200080871582, -7.588099956512451, -7.390100002288818, -7.654900074005127, -7.3566999435424805, -6.96999979019165, -7.3557000160217285, -6.716800212860107, -7.374100208282471, -8.057000160217285, -7.175300121307373, -7.376500129699707, -8.054499626159668, -8.088399887084961, -7.179100036621094, -8.070199966430664, -7.192200183868408, -8.07040023803711, -8.09119987487793, -7.467199802398682, -7.406899929046631, -6.454400062561035, -6.468200206756592, -6.725299835205078, -6.74459981918335, -6.872200012207031, -6.776899814605713, -7.039400100708008, -6.225399971008301, -6.29610013961792, -6.474299907684326, -6.127099990844727, -6.838500022888184, -6.164899826049805, -6.6255998611450195, -6.492700099945068, -6.356299877166748, -6.233699798583984, -6.616199970245361, -6.666800022125244, -6.906899929046631, -6.231200218200684, -6.6265997886657715, -6.702000141143799, -6.757800102233887, -6.23360013961792, -6.476799964904785, -6.482100009918213, -6.520899772644043, -6.316800117492676, -6.196800231933594, -6.422500133514404, -6.479100227355957, -6.585599899291992, -6.620800018310547, -6.522500038146973, -6.517600059509277, -6.688899993896484, -6.6381001472473145, -6.679999828338623, -6.6717000007629395, -7.342599868774414, -7.665800094604492, -6.697299957275391, -6.993000030517578, -8.081600189208984, -8.125699996948242, -7.629000186920166, -7.682199954986572, -6.742300033569336, -8.10319995880127, -7.678599834442139, -8.0871000289917, -7.695099830627441, -7.186800003051758, -8.105500221252441, -8.11769962310791, -8.077699661254883, -8.113499641418457, -7.769400119781494, -8.129199981689453, -7.211299896240234, -8.13539981842041, -7.7621002197265625, -7.414400100708008, -8.108799934387207, -7.432300090789795, -7.415800094604492, -8.142600059509277, -7.764699935913086, -7.694799900054932, -7.008299827575684, -7.460899829864502, -7.061500072479248, -6.0177001953125, -7.026800155639648, -7.194499969482422, -6.562300205230713, -6.485300064086914, -7.024400234222412, -7.03249979019165, -6.632800102233887, -7.44189977645874, -6.600900173187256, -6.901700019836426, -6.1834001541137695, -6.679299831390381, -6.625899791717529, -6.815499782562256, -6.798799991607666, -6.881499767303467, -6.541800022125244, -6.396699905395508, -6.436100006103516, -6.624199867248535, -6.370200157165527, -6.756899833679199, -6.477399826049805, -6.481200218200684, -6.454100131988525, -6.378300189971924, -6.293499946594238, -6.388599872589111, -6.16949987411499, -6.685500144958496, -6.342100143432617, -6.525100231170654, -6.479899883270264, -6.7281999588012695, -6.593200206756592, -6.4355998039245605, -6.478000164031982, -6.5278000831604, -6.637800216674805, -6.6570000648498535, -6.671599864959717, -6.673799991607666, -6.691699981689453, -7.043600082397461, -6.913300037384033, -7.375199794769287, -7.6402997970581055, -7.666299819946289, -7.383299827575684, -7.415500164031982, -8.093500137329102, -8.14169979095459, -7.727799892425537, -7.2006001472473145, -7.441800117492676, -7.018499851226807, -7.696199893951416, -7.7144999504089355, -7.764699935913086, -8.115799903869629, -7.436200141906738, -7.236000061035156, -8.131099700927734, -6.598299980163574, -6.771200180053711, -7.781300067901611, -7.462699890136719, -7.704599857330322, -7.761899948120117, -6.772299766540527, -7.021299839019775, -8.169099807739258, -7.189199924468994, -7.2453999519348145, -7.046899795532227, -7.0802001953125, -6.461599826812744, -7.225100040435791, -6.5742998123168945, -6.914299964904785, -7.253300189971924, -6.487400054931641, -6.931099891662598, -7.210999965667725, -6.803800106048584, -6.380099773406982, -6.7052001953125, -6.772200107574463, -6.487199783325195, -6.793300151824951, -6.257199764251709, -6.9166998863220215, -6.922999858856201, -6.54640007019043, -6.658100128173828, -6.506899833679199, -6.456900119781494, -6.694799900054932, -6.848800182342529, -6.180099964141846, -6.598700046539307, -6.3302998542785645, -6.495800018310547, -6.6894001960754395, -6.667600154876709, -6.40339994430542, -6.495299816131592, -6.4618000984191895, -6.541900157928467, -6.485599994659424, -6.640600204467773, -6.550099849700928, -6.600599765777588, -6.626699924468994, -6.611499786376953, -6.572800159454346, -6.610199928283691, -6.643799781799316, -6.646599769592285, -6.66510009765625], \"loglift\": [30.0, 29.0, 28.0, 27.0, 26.0, 25.0, 24.0, 23.0, 22.0, 21.0, 20.0, 19.0, 18.0, 17.0, 16.0, 15.0, 14.0, 13.0, 12.0, 11.0, 10.0, 9.0, 8.0, 7.0, 6.0, 5.0, 4.0, 3.0, 2.0, 1.0, 0.28540000319480896, 0.2809999883174896, 0.251800000667572, 0.251800000667572, 0.24639999866485596, 0.24490000307559967, 0.23479999601840973, 0.23350000381469727, 0.2303999960422516, 0.22130000591278076, 0.22130000591278076, 0.21729999780654907, 0.2134000062942505, 0.2085999995470047, 0.2085999995470047, 0.20819999277591705, 0.2078000009059906, 0.20759999752044678, 0.20730000734329224, 0.20669999718666077, 0.20509999990463257, 0.2037999927997589, 0.20250000059604645, 0.20190000534057617, 0.20180000364780426, 0.20090000331401825, 0.20059999823570251, 0.19979999959468842, 0.19939999282360077, 0.19910000264644623, 0.1979999989271164, 0.19539999961853027, 0.19300000369548798, 0.19769999384880066, 0.17800000309944153, 0.18700000643730164, 0.17309999465942383, 0.16339999437332153, 0.19030000269412994, 0.1907999962568283, 0.16920000314712524, 0.16419999301433563, 0.12120000272989273, 0.15760000050067902, 0.16210000216960907, 0.10830000042915344, 0.16359999775886536, 0.13670000433921814, 0.11169999837875366, 0.12870000302791595, 0.14920000731945038, 0.12489999830722809, 0.12240000069141388, 0.09470000118017197, 0.05139999836683273, 0.13019999861717224, 0.12489999830722809, 0.14900000393390656, 0.010700000450015068, 0.06379999965429306, 0.03060000017285347, 0.04470000043511391, 0.11240000277757645, 0.004600000102072954, -0.03620000183582306, -0.04729999974370003, 0.011099999770522118, -0.10080000013113022, -0.07270000129938126, -0.01209999993443489, -0.05400000140070915, -0.13109999895095825, -0.08579999953508377, -0.04149999842047691, -0.006000000052154064, 0.39879998564720154, 0.357699990272522, 0.3472000062465668, 0.33489999175071716, 0.334199994802475, 0.32679998874664307, 0.32589998841285706, 0.3231000006198883, 0.3206999897956848, 0.31369999051094055, 0.30889999866485596, 0.30559998750686646, 0.30410000681877136, 0.29420000314712524, 0.28940001130104065, 0.2888999879360199, 0.2840999960899353, 0.27950000762939453, 0.2750000059604645, 0.274399995803833, 0.2743000090122223, 0.27320000529289246, 0.27300000190734863, 0.2727999985218048, 0.26269999146461487, 0.25760000944137573, 0.25459998846054077, 0.2513999938964844, 0.24789999425411224, 0.24560000002384186, 0.24549999833106995, 0.23549999296665192, 0.23430000245571136, 0.23680000007152557, 0.23680000007152557, 0.23880000412464142, 0.22910000383853912, 0.23649999499320984, 0.16500000655651093, 0.1655000001192093, 0.1800999939441681, 0.13779999315738678, 0.21559999883174896, 0.13379999995231628, 0.18770000338554382, 0.1670999974012375, 0.14839999377727509, 0.12380000203847885, 0.17949999868869781, 0.1695999950170517, 0.20389999449253082, 0.05000000074505806, 0.1348000019788742, 0.15150000154972076, 0.1624000072479248, 0.011300000362098217, 0.06840000301599503, 0.057500001043081284, 0.06840000301599503, -0.03550000116229057, -0.11999999731779099, -0.010700000450015068, -0.0142000000923872, 0.06599999964237213, 0.08950000256299973, -0.03539999946951866, -0.13230000436306, 0.11949999630451202, -0.10509999841451645, -0.014299999922513962, -0.17720000445842743, 0.41909998655319214, 0.3725000023841858, 0.365200012922287, 0.3614000082015991, 0.3555000126361847, 0.35440000891685486, 0.351500004529953, 0.3492000102996826, 0.34299999475479126, 0.33660000562667847, 0.3345000147819519, 0.3321000039577484, 0.32919999957084656, 0.3239000141620636, 0.3203999996185303, 0.31940001249313354, 0.3172000050544739, 0.31470000743865967, 0.31200000643730164, 0.3091000020503998, 0.3089999854564667, 0.30630001425743103, 0.3050000071525574, 0.30390000343322754, 0.3034000098705292, 0.30300000309944153, 0.30090001225471497, 0.2994999885559082, 0.2994000017642975, 0.2994000017642975, 0.29440000653266907, 0.29899999499320984, 0.2865000069141388, 0.2635999917984009, 0.2838999927043915, 0.2863999903202057, 0.263700008392334, 0.2500999867916107, 0.26649999618530273, 0.2662999927997589, 0.23019999265670776, 0.2842999994754791, 0.20970000326633453, 0.2337000072002411, 0.15850000083446503, 0.1987999975681305, 0.15379999577999115, 0.1842000037431717, 0.17710000276565552, 0.19200000166893005, 0.12399999797344208, 0.09040000289678574, 0.07599999755620956, 0.11219999939203262, 0.041600000113248825, 0.13840000331401825, 0.062199998646974564, 0.05169999971985817, 0.040300000458955765, 0.007000000216066837, -0.028599999845027924, 0.0019000000320374966, -0.09269999712705612, 0.11729999631643295, -0.0608999989926815, 0.022099999710917473, -0.014999999664723873, 0.12860000133514404, -0.0044999998062849045, -0.19059999287128448, -0.179299995303154, -0.17030000686645508, -0.048500001430511475, -0.19539999961853027, -0.12639999389648438, -0.16910000145435333, 0.5922999978065491, 0.5091999769210815, 0.5016999840736389, 0.4490000009536743, 0.4163999855518341, 0.3903000056743622, 0.3677000105381012, 0.3499000072479248, 0.34310001134872437, 0.33959999680519104, 0.33640000224113464, 0.33570000529289246, 0.3246999979019165, 0.32100000977516174, 0.31869998574256897, 0.31790000200271606, 0.3100000023841858, 0.30970001220703125, 0.3093000054359436, 0.3086000084877014, 0.3084000051021576, 0.3043000102043152, 0.30230000615119934, 0.3000999987125397, 0.29760000109672546, 0.2971000075340271, 0.29589998722076416, 0.2955000102519989, 0.29409998655319214, 0.2937000095844269, 0.2906000018119812, 0.29100000858306885, 0.2784999907016754, 0.27900001406669617, 0.25130000710487366, 0.28189998865127563, 0.24789999425411224, 0.26019999384880066, 0.2815999984741211, 0.20810000598430634, 0.24719999730587006, 0.27070000767707825, 0.22519999742507935, 0.15279999375343323, 0.20020000636577606, 0.2094999998807907, 0.1615000069141388, 0.20900000631809235, 0.10040000081062317, 0.22130000591278076, 0.22030000388622284, 0.11339999735355377, 0.14480000734329224, 0.08179999887943268, 0.05530000105500221, 0.13120000064373016, 0.18809999525547028, -0.10339999943971634, 0.0568000003695488, -0.08540000021457672, -0.00139999995008111, 0.09189999848604202, 0.07530000060796738, -0.13850000500679016, -0.0835999995470047, -0.11990000307559967, -0.08030000329017639, -0.18700000643730164, 0.010900000110268593, -0.1648000031709671, -0.11349999904632568, -0.08160000294446945, -0.14659999310970306, -0.2913999855518341, -0.21969999372959137, -0.09669999778270721, -0.3653999865055084, -0.010599999688565731]}, \"token.table\": {\"Topic\": [1, 1, 2, 1, 2, 1, 2, 3, 1, 1, 2, 3, 1, 2, 3, 1, 2, 3, 1, 2, 1, 2, 1, 2, 3, 1, 2, 3, 1, 2, 3, 1, 2, 3, 1, 2, 3, 1, 2, 1, 2, 1, 2, 1, 1, 1, 2, 1, 2, 1, 2, 3, 1, 2, 3, 1, 2, 3, 1, 2, 3, 1, 2, 3, 1, 2, 3, 1, 2, 3, 1, 2, 3, 1, 2, 1, 2, 3, 1, 2, 1, 2, 1, 2, 3, 1, 2, 1, 1, 2, 1, 2, 3, 1, 1, 2, 3, 1, 2, 3, 1, 2, 3, 1, 2, 3, 1, 2, 3, 1, 2, 3, 1, 2, 3, 1, 2, 3, 1, 2, 3, 1, 2, 3, 1, 2, 3, 1, 2, 3, 1, 2, 1, 2, 3, 1, 2, 3, 1, 2, 1, 1, 2, 1, 2, 1, 2, 1, 2, 1, 2, 3, 1, 2, 3, 1, 2, 1, 2, 3, 1, 2, 3, 1, 2, 3, 1, 2, 1, 2, 3, 1, 2, 1, 1, 1, 2, 3, 1, 2, 3, 1, 2, 3, 1, 2, 3, 1, 2, 1, 2, 1, 2, 1, 2, 1, 1, 2, 3, 1, 2, 3, 1, 2, 3, 1, 2, 3, 1, 2, 1, 2, 3, 1, 2, 3, 1, 2, 1, 2, 3, 1, 1, 2, 1, 2, 3, 1, 1, 2, 3, 1, 2, 1, 2, 1, 2, 1, 2, 1, 2, 1, 2, 3, 1, 1, 2, 3, 1, 1, 2, 3, 1, 2, 1, 2, 3, 1, 2, 3, 1, 2, 3, 4, 1, 2, 1, 2, 1, 2, 3, 1, 2, 1, 2, 1, 2, 3, 1, 2, 3, 1, 2, 3, 1, 2, 3, 1, 2, 3, 1, 2, 3, 1, 2, 1, 2, 1, 2, 1, 2, 3, 1, 2, 3, 1, 2, 3, 4, 1, 2, 3, 1, 2, 3, 1, 2, 3, 1, 2, 1, 2, 1, 2, 3, 1, 2, 3, 1, 2, 1, 2, 3, 1, 2, 1, 2, 3, 1, 2, 1, 2, 1, 2, 1, 2, 1, 2, 1, 2, 1, 2, 1, 2, 3, 1, 2, 3, 1, 2, 1, 2, 3, 1, 1, 2, 3, 1, 1, 2, 1, 2, 3, 1, 2, 1, 2, 3, 1, 2, 3, 1, 2, 3, 1, 2, 1, 2, 1, 1, 2, 1, 2, 1, 2, 1, 2, 3, 1, 1, 2, 1, 2, 1, 2, 3, 1, 2, 3, 1, 2, 3, 1, 2, 1, 2, 3, 1, 2, 3, 1, 2, 1, 2, 3, 1, 2, 1, 2, 3, 1, 2, 3, 1, 2, 3, 1, 2, 1, 2, 3, 1, 2, 3, 1, 2, 3, 1, 2, 1, 2, 1, 2, 3, 1, 2, 3, 1, 2, 3, 1, 2, 1, 2, 1, 2, 1, 2, 1, 2, 3, 1, 2, 1, 2, 3, 1, 2, 1, 2, 3, 1, 2, 3, 1, 2, 3, 1, 2, 1, 2, 3, 1, 2, 3, 1, 2, 1, 2, 1, 2, 1, 2, 3, 4, 1, 2, 3, 1, 2, 3, 1, 2, 3, 1, 2, 3, 1, 2, 1, 2, 3, 1, 2, 3, 4, 1, 2, 3, 1, 2, 3, 1, 2, 2, 1, 2, 1, 2, 3, 1, 2, 1, 2], \"Freq\": [0.7674857974052429, 0.3152993619441986, 0.3152993619441986, 0.6916466355323792, 0.6916466355323792, 0.39051079750061035, 0.39051079750061035, 0.13017027080059052, 0.7761960625648499, 0.6490132212638855, 0.2596052885055542, 0.1298026442527771, 0.44941288232803345, 0.3595302999019623, 0.08988257497549057, 0.44087162613868713, 0.44087162613868713, 0.22043581306934357, 0.45923882722854614, 0.45923882722854614, 0.345007985830307, 0.345007985830307, 0.5107007026672363, 0.25535035133361816, 0.25535035133361816, 0.30735769867897034, 0.30735769867897034, 0.30735769867897034, 0.409662127494812, 0.307246595621109, 0.102415531873703, 0.5282606482505798, 0.2641303241252899, 0.2641303241252899, 0.47788387537002563, 0.47788387537002563, 0.15929462015628815, 0.3887106776237488, 0.3887106776237488, 0.4798004925251007, 0.4798004925251007, 0.5173236131668091, 0.5173236131668091, 0.796378493309021, 0.7780369520187378, 0.47334617376327515, 0.47334617376327515, 0.7037167549133301, 0.7037167549133301, 0.42340901494026184, 0.42340901494026184, 0.21170450747013092, 0.45291975140571594, 0.33968979120254517, 0.11322993785142899, 0.39473676681518555, 0.39473676681518555, 0.19736838340759277, 0.4590573310852051, 0.4590573310852051, 0.15301911532878876, 0.362050324678421, 0.543075442314148, 0.1810251623392105, 0.525733232498169, 0.2628666162490845, 0.2628666162490845, 0.46726149320602417, 0.23363074660301208, 0.23363074660301208, 0.42466455698013306, 0.2831096947193146, 0.1415548473596573, 0.5346221923828125, 0.5346221923828125, 0.4579245150089264, 0.3052830100059509, 0.15264150500297546, 0.5361283421516418, 0.5361283421516418, 0.3336803913116455, 0.3336803913116455, 0.5546059012413025, 0.36973726749420166, 0.18486863374710083, 0.5467347502708435, 0.27336737513542175, 0.7571101784706116, 0.3969721496105194, 0.3969721496105194, 0.5863494277000427, 0.23453977704048157, 0.11726988852024078, 0.69939786195755, 0.5572682023048401, 0.27863410115242004, 0.13931705057621002, 0.4889404773712158, 0.36670535802841187, 0.12223511934280396, 0.6063899993896484, 0.3031949996948242, 0.1515974998474121, 0.4017152488231659, 0.4017152488231659, 0.20085762441158295, 0.5310543179512024, 0.3540361821651459, 0.17701809108257294, 0.4860353171825409, 0.4860353171825409, 0.24301765859127045, 0.4568193852901459, 0.4568193852901459, 0.15227313339710236, 0.5108569860458374, 0.5108569860458374, 0.1702856570482254, 0.49001753330230713, 0.24500876665115356, 0.24500876665115356, 0.4542916715145111, 0.30286112427711487, 0.15143056213855743, 0.36872348189353943, 0.36872348189353943, 0.18436174094676971, 0.46493303775787354, 0.309955358505249, 0.1549776792526245, 0.3908075988292694, 0.3908075988292694, 0.4772065579891205, 0.23860327899456024, 0.23860327899456024, 0.41216933727264404, 0.41216933727264404, 0.20608466863632202, 0.6124239563941956, 0.3062119781970978, 0.767253577709198, 0.23540045320987701, 0.47080090641975403, 0.5079302787780762, 0.5079302787780762, 0.5021913051605225, 0.5021913051605225, 0.5345121026039124, 0.5345121026039124, 0.5562195181846619, 0.3337317109107971, 0.11124390363693237, 0.3916473686695099, 0.3916473686695099, 0.1305491179227829, 0.7242155075073242, 0.3621077537536621, 0.47945839166641235, 0.3196389377117157, 0.15981946885585785, 0.25163522362709045, 0.5032704472541809, 0.25163522362709045, 0.4494686424732208, 0.35957491397857666, 0.17978745698928833, 0.3692502975463867, 0.3692502975463867, 0.4417072534561157, 0.3312804400920868, 0.11042681336402893, 0.5402082204818726, 0.5402082204818726, 0.7624192833900452, 0.7800736427307129, 0.4631516933441162, 0.30876779556274414, 0.15438389778137207, 0.4655338525772095, 0.3491503894329071, 0.11638346314430237, 0.4010109007358551, 0.4010109007358551, 0.10025272518396378, 0.4152202606201172, 0.2768135070800781, 0.13840675354003906, 0.44081777334213257, 0.44081777334213257, 0.5959974527359009, 0.29799872636795044, 0.6087049841880798, 0.4058033227920532, 0.4463692307472229, 0.4463692307472229, 0.6875051856040955, 0.3969937562942505, 0.19849687814712524, 0.19849687814712524, 0.3937290906906128, 0.3937290906906128, 0.1312430202960968, 0.6306722164154053, 0.31533610820770264, 0.31533610820770264, 0.43060699105262756, 0.43060699105262756, 0.10765174776315689, 0.45801690220832825, 0.45801690220832825, 0.3797334134578705, 0.3797334134578705, 0.18986670672893524, 0.3179660737514496, 0.3179660737514496, 0.3179660737514496, 0.5311444401741028, 0.5311444401741028, 0.41417068243026733, 0.41417068243026733, 0.1380568891763687, 0.7783162593841553, 0.5334352850914001, 0.2667176425457001, 0.5741957426071167, 0.3827971816062927, 0.19139859080314636, 0.6859050393104553, 0.19939649105072021, 0.5981894731521606, 0.19939649105072021, 0.2891136705875397, 0.5782273411750793, 0.5703930258750916, 0.38026201725006104, 0.5726807117462158, 0.2863403558731079, 0.46846020221710205, 0.46846020221710205, 0.3812888562679291, 0.3812888562679291, 0.49829134345054626, 0.3321942389011383, 0.16609711945056915, 0.8112176060676575, 0.5315371751785278, 0.35435813665390015, 0.17717906832695007, 0.776129961013794, 0.5401087999343872, 0.3600725531578064, 0.1800362765789032, 0.5438361167907715, 0.5438361167907715, 0.4057618975639343, 0.4057618975639343, 0.13525396585464478, 0.5197891592979431, 0.3465261161327362, 0.1732630580663681, 0.512832522392273, 0.293047159910202, 0.146523579955101, 0.0732617899775505, 0.6958135962486267, 0.6958135962486267, 0.4653497040271759, 0.4653497040271759, 0.5179458856582642, 0.2589729428291321, 0.2589729428291321, 0.37617936730384827, 0.37617936730384827, 0.48223787546157837, 0.48223787546157837, 0.3551260530948639, 0.532689094543457, 0.17756302654743195, 0.43202757835388184, 0.3240206837654114, 0.10800689458847046, 0.543246328830719, 0.3621642291545868, 0.1810821145772934, 0.4841306209564209, 0.32275375723838806, 0.16137687861919403, 0.522411584854126, 0.261205792427063, 0.261205792427063, 0.5641325116157532, 0.2820662558078766, 0.1410331279039383, 0.4899187982082367, 0.4899187982082367, 0.420528769493103, 0.420528769493103, 0.45679783821105957, 0.45679783821105957, 0.44389650225639343, 0.29593101143836975, 0.14796550571918488, 0.5440681576728821, 0.27203407883644104, 0.13601703941822052, 0.43338584899902344, 0.3467086851596832, 0.0866771712899208, 0.0866771712899208, 0.39267560839653015, 0.39267560839653015, 0.19633780419826508, 0.5817588567733765, 0.29087942838668823, 0.14543971419334412, 0.5625104308128357, 0.28125521540641785, 0.14062760770320892, 0.28832343220710754, 0.5766468644142151, 0.5136529803276062, 0.5136529803276062, 0.49870607256889343, 0.2992236316204071, 0.09974121302366257, 0.46811506152153015, 0.351086288690567, 0.11702876538038254, 0.47710955142974854, 0.47710955142974854, 0.5019264221191406, 0.33461761474609375, 0.16730880737304688, 0.3519222140312195, 0.3519222140312195, 0.4421466290950775, 0.4421466290950775, 0.17685864865779877, 0.37763768434524536, 0.37763768434524536, 0.6983174085617065, 0.6983174085617065, 0.37282827496528625, 0.37282827496528625, 0.4984396696090698, 0.4984396696090698, 0.39650759100914, 0.39650759100914, 0.3529629111289978, 0.3529629111289978, 0.49162325263023376, 0.49162325263023376, 0.39502179622650146, 0.39502179622650146, 0.39502179622650146, 0.5667444467544556, 0.2833722233772278, 0.1416861116886139, 0.3531458377838135, 0.3531458377838135, 0.469809353351593, 0.469809353351593, 0.1566031128168106, 0.7440919280052185, 0.4892437756061554, 0.36693283915519714, 0.12231094390153885, 0.769252598285675, 0.3943116068840027, 0.3943116068840027, 0.4446222186088562, 0.2964148223400116, 0.1482074111700058, 0.378235787153244, 0.378235787153244, 0.38273513317108154, 0.38273513317108154, 0.19136756658554077, 0.45732352137565613, 0.45732352137565613, 0.09146470576524734, 0.5227050185203552, 0.2613525092601776, 0.1306762546300888, 0.3541186451911926, 0.3541186451911926, 0.6955695748329163, 0.6955695748329163, 0.7757918834686279, 0.5088639259338379, 0.5088639259338379, 0.46580812335014343, 0.46580812335014343, 0.34967565536499023, 0.34967565536499023, 0.5966460108757019, 0.29832300543785095, 0.29832300543785095, 0.7003130316734314, 0.51784747838974, 0.51784747838974, 0.24219167232513428, 0.48438334465026855, 0.5730676651000977, 0.28653383255004883, 0.19102256000041962, 0.6196396946907043, 0.2065465748310089, 0.2065465748310089, 0.4495637118816376, 0.4495637118816376, 0.1123909279704094, 0.36691877245903015, 0.36691877245903015, 0.42784538865089417, 0.42784538865089417, 0.14261512458324432, 0.4614730179309845, 0.3076486885547638, 0.1538243442773819, 0.5209020972251892, 0.5209020972251892, 0.3103131651878357, 0.3103131651878357, 0.3103131651878357, 0.6717370748519897, 0.3358685374259949, 0.41210871934890747, 0.41210871934890747, 0.20605435967445374, 0.4391820430755615, 0.21959102153778076, 0.21959102153778076, 0.5056156516075134, 0.2528078258037567, 0.2528078258037567, 0.5544059872627258, 0.2772029936313629, 0.482479989528656, 0.3216533362865448, 0.1608266681432724, 0.5261037349700928, 0.3507358133792877, 0.17536790668964386, 0.4510204493999481, 0.4510204493999481, 0.15034015476703644, 0.394511878490448, 0.394511878490448, 0.6411200165748596, 0.3205600082874298, 0.43583810329437256, 0.43583810329437256, 0.14527936279773712, 0.45551592111587524, 0.3036772906780243, 0.15183864533901215, 0.4934290647506714, 0.4934290647506714, 0.2467145323753357, 0.34770262241363525, 0.34770262241363525, 0.28686875104904175, 0.5737375020980835, 0.5305690169334412, 0.5305690169334412, 0.45594948530197144, 0.22797474265098572, 0.3265330493450165, 0.4897995889186859, 0.16326652467250824, 0.35316282510757446, 0.35316282510757446, 0.422337144613266, 0.422337144613266, 0.211168572306633, 0.45980384945869446, 0.45980384945869446, 0.3961024582386017, 0.3961024582386017, 0.13203415274620056, 0.41092491149902344, 0.41092491149902344, 0.1369749754667282, 0.4972999691963196, 0.2486499845981598, 0.2486499845981598, 0.4764763414859772, 0.4764763414859772, 0.49929022789001465, 0.24964511394500732, 0.24964511394500732, 0.45780807733535767, 0.45780807733535767, 0.15260270237922668, 0.45687684416770935, 0.45687684416770935, 0.5395281910896301, 0.26976409554481506, 0.7039594054222107, 0.35197970271110535, 0.38803166151046753, 0.38803166151046753, 0.09700791537761688, 0.09700791537761688, 0.5033845901489258, 0.335589736700058, 0.167794868350029, 0.38934850692749023, 0.38934850692749023, 0.19467425346374512, 0.37109658122062683, 0.37109658122062683, 0.18554829061031342, 0.4256726801395416, 0.4256726801395416, 0.2128363400697708, 0.5306298732757568, 0.5306298732757568, 0.2389405220746994, 0.4778810441493988, 0.2389405220746994, 0.46244531869888306, 0.3468339741230011, 0.11561132967472076, 0.11561132967472076, 0.27931010723114014, 0.5586202144622803, 0.27931010723114014, 0.3675224781036377, 0.5512837171554565, 0.18376123905181885, 0.38474956154823303, 0.38474956154823303, 0.7194573283195496, 0.5971309542655945, 0.29856547713279724, 0.5287818908691406, 0.35252127051353455, 0.17626063525676727, 0.4508098363876343, 0.4508098363876343, 0.3148745596408844, 0.3148745596408844], \"Term\": [\"abraham\", \"abroad\", \"abroad\", \"adoption\", \"adoption\", \"agent\", \"agent\", \"agent\", \"aggressive\", \"alice\", \"alice\", \"alice\", \"alien\", \"alien\", \"alien\", \"allow\", \"allow\", \"allow\", \"ambitious\", \"ambitious\", \"announce\", \"announce\", \"area\", \"area\", \"area\", \"asked\", \"asked\", \"asked\", \"audience\", \"audience\", \"audience\", \"began\", \"began\", \"began\", \"behind\", \"behind\", \"behind\", \"beyond\", \"beyond\", \"blame\", \"blame\", \"bless\", \"bless\", \"bonus\", \"booby\", \"brandnew\", \"brandnew\", \"brutalizes\", \"brutalizes\", \"budget\", \"budget\", \"budget\", \"business\", \"business\", \"business\", \"c\", \"c\", \"c\", \"california\", \"california\", \"california\", \"calling\", \"calling\", \"calling\", \"cannot\", \"cannot\", \"cannot\", \"car\", \"car\", \"car\", \"care\", \"care\", \"care\", \"caught\", \"caught\", \"chamber\", \"chamber\", \"chamber\", \"chart\", \"chart\", \"chris\", \"chris\", \"close\", \"close\", \"close\", \"cooperation\", \"cooperation\", \"coordinate\", \"core\", \"core\", \"dangerous\", \"dangerous\", \"dangerous\", \"dark\", \"daughter\", \"daughter\", \"daughter\", \"deal\", \"deal\", \"deal\", \"death\", \"death\", \"death\", \"department\", \"department\", \"department\", \"deserve\", \"deserve\", \"deserve\", \"died\", \"died\", \"died\", \"education\", \"education\", \"education\", \"ellie\", \"ellie\", \"ellie\", \"elvin\", \"elvin\", \"elvin\", \"end\", \"end\", \"end\", \"enemy\", \"enemy\", \"enemy\", \"everyone\", \"everyone\", \"everyone\", \"everywhere\", \"everywhere\", \"exact\", \"exact\", \"exact\", \"expand\", \"expand\", \"expand\", \"expected\", \"expected\", \"extremely\", \"factory\", \"factory\", \"fantastic\", \"fantastic\", \"feeling\", \"feeling\", \"field\", \"field\", \"fight\", \"fight\", \"fight\", \"find\", \"find\", \"find\", \"followed\", \"followed\", \"foreign\", \"foreign\", \"foreign\", \"form\", \"form\", \"form\", \"friend\", \"friend\", \"friend\", \"frontier\", \"frontier\", \"gang\", \"gang\", \"gang\", \"gotten\", \"gotten\", \"grade\", \"greatly\", \"hard\", \"hard\", \"hard\", \"health\", \"health\", \"health\", \"health_care\", \"health_care\", \"health_care\", \"heart\", \"heart\", \"heart\", \"heaven\", \"heaven\", \"helped\", \"helped\", \"herman\", \"herman\", \"holding\", \"holding\", \"honoring\", \"hospital\", \"hospital\", \"hospital\", \"human\", \"human\", \"human\", \"hundred\", \"hundred\", \"hundred\", \"ice\", \"ice\", \"ice\", \"illegally\", \"illegally\", \"income\", \"income\", \"income\", \"industry\", \"industry\", \"industry\", \"inspired\", \"inspired\", \"insurance\", \"insurance\", \"insurance\", \"integrity\", \"investigation\", \"investigation\", \"iran\", \"iran\", \"iran\", \"irving\", \"janiyah\", \"janiyah\", \"janiyah\", \"jenna\", \"jenna\", \"judah\", \"judah\", \"june\", \"june\", \"kim\", \"kim\", \"lawless\", \"lawless\", \"leader\", \"leader\", \"leader\", \"legacy\", \"living\", \"living\", \"living\", \"lobbyist\", \"look\", \"look\", \"look\", \"louisiana\", \"louisiana\", \"lowest\", \"lowest\", \"lowest\", \"m\", \"m\", \"m\", \"make\", \"make\", \"make\", \"make\", \"mar\", \"mar\", \"matson\", \"matson\", \"matthew\", \"matthew\", \"matthew\", \"may\", \"may\", \"medicare\", \"medicare\", \"megan\", \"megan\", \"megan\", \"men\", \"men\", \"men\", \"mile\", \"mile\", \"mile\", \"moment\", \"moment\", \"moment\", \"monument\", \"monument\", \"monument\", \"nafta\", \"nafta\", \"nafta\", \"narrowly\", \"narrowly\", \"negotiate\", \"negotiate\", \"non\", \"non\", \"north\", \"north\", \"north\", \"nuclear\", \"nuclear\", \"nuclear\", \"number\", \"number\", \"number\", \"number\", \"obamacare\", \"obamacare\", \"obamacare\", \"office\", \"office\", \"office\", \"officer\", \"officer\", \"officer\", \"ortiz\", \"ortiz\", \"owen\", \"owen\", \"party\", \"party\", \"party\", \"passed\", \"passed\", \"passed\", \"penalty\", \"penalty\", \"pillar\", \"pillar\", \"pillar\", \"pipeline\", \"pipeline\", \"please\", \"please\", \"please\", \"poorest\", \"poorest\", \"popular\", \"popular\", \"port\", \"port\", \"pour\", \"pour\", \"practice\", \"practice\", \"pride\", \"pride\", \"prime\", \"prime\", \"principle\", \"principle\", \"principle\", \"prison\", \"prison\", \"prison\", \"prisoner\", \"prisoner\", \"program\", \"program\", \"program\", \"protest\", \"provide\", \"provide\", \"provide\", \"pure\", \"rare\", \"rare\", \"reached\", \"reached\", \"reached\", \"ready\", \"ready\", \"recent\", \"recent\", \"recent\", \"record\", \"record\", \"record\", \"regime\", \"regime\", \"regime\", \"religion\", \"religion\", \"renewed\", \"renewed\", \"reno\", \"representative\", \"representative\", \"republic\", \"republic\", \"resource\", \"resource\", \"return\", \"return\", \"return\", \"richer\", \"robert\", \"robert\", \"rush\", \"rush\", \"ryan\", \"ryan\", \"ryan\", \"safety\", \"safety\", \"safety\", \"sanctuary\", \"sanctuary\", \"sanctuary\", \"science\", \"science\", \"second\", \"second\", \"second\", \"secure\", \"secure\", \"secure\", \"sequester\", \"sequester\", \"served\", \"served\", \"served\", \"sex\", \"sex\", \"shot\", \"shot\", \"shot\", \"show\", \"show\", \"show\", \"side\", \"side\", \"side\", \"sky\", \"sky\", \"small\", \"small\", \"small\", \"soldier\", \"soldier\", \"soldier\", \"something\", \"something\", \"something\", \"star\", \"star\", \"staub\", \"staub\", \"step\", \"step\", \"step\", \"stop\", \"stop\", \"stop\", \"strength\", \"strength\", \"strength\", \"suffering\", \"suffering\", \"supporting\", \"supporting\", \"surgery\", \"surgery\", \"tariff\", \"tariff\", \"taxpayer\", \"taxpayer\", \"taxpayer\", \"teach\", \"teach\", \"tell\", \"tell\", \"tell\", \"terrific\", \"terrific\", \"terrorist\", \"terrorist\", \"terrorist\", \"thanks\", \"thanks\", \"thanks\", \"think\", \"think\", \"think\", \"thrive\", \"thrive\", \"throughout\", \"throughout\", \"throughout\", \"took\", \"took\", \"took\", \"toughest\", \"toughest\", \"train\", \"train\", \"unborn\", \"unborn\", \"unemployment\", \"unemployment\", \"unemployment\", \"unemployment\", \"unfair\", \"unfair\", \"unfair\", \"value\", \"value\", \"value\", \"victim\", \"victim\", \"victim\", \"violent\", \"violent\", \"violent\", \"visa\", \"visa\", \"voice\", \"voice\", \"voice\", \"way\", \"way\", \"way\", \"way\", \"well\", \"well\", \"well\", \"went\", \"went\", \"went\", \"wherever\", \"wherever\", \"wiping\", \"within\", \"within\", \"wonderful\", \"wonderful\", \"wonderful\", \"youngest\", \"youngest\", \"youth\", \"youth\"]}, \"R\": 30, \"lambda.step\": 0.01, \"plot.opts\": {\"xlab\": \"PC1\", \"ylab\": \"PC2\"}, \"topic.order\": [1, 3, 4, 2]};\n",
       "\n",
       "function LDAvis_load_lib(url, callback){\n",
       "  var s = document.createElement('script');\n",
       "  s.src = url;\n",
       "  s.async = true;\n",
       "  s.onreadystatechange = s.onload = callback;\n",
       "  s.onerror = function(){console.warn(\"failed to load library \" + url);};\n",
       "  document.getElementsByTagName(\"head\")[0].appendChild(s);\n",
       "}\n",
       "\n",
       "if(typeof(LDAvis) !== \"undefined\"){\n",
       "   // already loaded: just create the visualization\n",
       "   !function(LDAvis){\n",
       "       new LDAvis(\"#\" + \"ldavis_el372381405763363652645833992978\", ldavis_el372381405763363652645833992978_data);\n",
       "   }(LDAvis);\n",
       "}else if(typeof define === \"function\" && define.amd){\n",
       "   // require.js is available: use it to load d3/LDAvis\n",
       "   require.config({paths: {d3: \"https://cdnjs.cloudflare.com/ajax/libs/d3/3.5.5/d3.min\"}});\n",
       "   require([\"d3\"], function(d3){\n",
       "      window.d3 = d3;\n",
       "      LDAvis_load_lib(\"https://cdn.rawgit.com/bmabey/pyLDAvis/files/ldavis.v1.0.0.js\", function(){\n",
       "        new LDAvis(\"#\" + \"ldavis_el372381405763363652645833992978\", ldavis_el372381405763363652645833992978_data);\n",
       "      });\n",
       "    });\n",
       "}else{\n",
       "    // require.js not available: dynamically load d3 & LDAvis\n",
       "    LDAvis_load_lib(\"https://cdnjs.cloudflare.com/ajax/libs/d3/3.5.5/d3.min.js\", function(){\n",
       "         LDAvis_load_lib(\"https://cdn.rawgit.com/bmabey/pyLDAvis/files/ldavis.v1.0.0.js\", function(){\n",
       "                 new LDAvis(\"#\" + \"ldavis_el372381405763363652645833992978\", ldavis_el372381405763363652645833992978_data);\n",
       "            })\n",
       "         });\n",
       "}\n",
       "</script>"
      ],
      "text/plain": [
       "PreparedData(topic_coordinates=              x         y  topics  cluster       Freq\n",
       "topic                                                \n",
       "0     -0.002133  0.001946       1        1  45.058064\n",
       "2      0.004159  0.000842       2        1  36.229740\n",
       "3     -0.000015 -0.002483       3        1  13.696466\n",
       "1     -0.002011 -0.000305       4        1   5.015726, topic_info=              Term       Freq      Total Category  logprob  loglift\n",
       "497           make  13.000000  13.000000  Default  30.0000  30.0000\n",
       "1635  unemployment  10.000000  10.000000  Default  29.0000  29.0000\n",
       "708           ryan  10.000000  10.000000  Default  28.0000  28.0000\n",
       "884            way   8.000000   8.000000  Default  27.0000  27.0000\n",
       "338         friend  11.000000  11.000000  Default  26.0000  26.0000\n",
       "...            ...        ...        ...      ...      ...      ...\n",
       "338         friend   0.416916  11.124247   Topic4  -6.5728  -0.2914\n",
       "376    health_care   0.401609   9.974792   Topic4  -6.6102  -0.2197\n",
       "1071     dangerous   0.388304   8.527338   Topic4  -6.6438  -0.0967\n",
       "937          alien   0.387240  11.125627   Topic4  -6.6466  -0.3654\n",
       "309           find   0.380140   7.659952   Topic4  -6.6651  -0.0106\n",
       "\n",
       "[330 rows x 6 columns], token_table=      Topic      Freq       Term\n",
       "term                            \n",
       "2         1  0.767486    abraham\n",
       "3         1  0.315299     abroad\n",
       "3         2  0.315299     abroad\n",
       "2249      1  0.691647   adoption\n",
       "2249      2  0.691647   adoption\n",
       "...     ...       ...        ...\n",
       "905       3  0.176261  wonderful\n",
       "2667      1  0.450810   youngest\n",
       "2667      2  0.450810   youngest\n",
       "909       1  0.314875      youth\n",
       "909       2  0.314875      youth\n",
       "\n",
       "[544 rows x 3 columns], R=30, lambda_step=0.01, plot_opts={'xlab': 'PC1', 'ylab': 'PC2'}, topic_order=[1, 3, 4, 2])"
      ]
     },
     "execution_count": 46,
     "metadata": {},
     "output_type": "execute_result"
    }
   ],
   "source": [
    "pyLDAvis.enable_notebook()\n",
    "vis = pyLDAvis.gensim.prepare(lda_t, corpus_t, id2word_t)\n",
    "vis"
   ]
  }
 ],
 "metadata": {
  "kernelspec": {
   "display_name": "Python 3",
   "language": "python",
   "name": "python3"
  },
  "language_info": {
   "codemirror_mode": {
    "name": "ipython",
    "version": 3
   },
   "file_extension": ".py",
   "mimetype": "text/x-python",
   "name": "python",
   "nbconvert_exporter": "python",
   "pygments_lexer": "ipython3",
   "version": "3.8.3"
  }
 },
 "nbformat": 4,
 "nbformat_minor": 4
}
